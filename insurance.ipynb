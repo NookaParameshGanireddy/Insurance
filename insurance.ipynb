{
 "cells": [
  {
   "cell_type": "code",
   "execution_count": 191,
   "id": "437ae38e",
   "metadata": {
    "executionInfo": {
     "elapsed": 6,
     "status": "ok",
     "timestamp": 1669195605948,
     "user": {
      "displayName": "N160079 GANIREDDY NOOKA PARAMESH",
      "userId": "09024512965911926212"
     },
     "user_tz": -330
    },
    "id": "437ae38e"
   },
   "outputs": [],
   "source": [
    "#importing dataframe related dataframes\n",
    "import pandas as pd\n",
    "import numpy as np\n",
    "\n",
    "#importing plot related libraires\n",
    "import seaborn as sns\n",
    "import matplotlib.pyplot as plt\n",
    "\n",
    "#to remove warnings\n",
    "import warnings \n",
    "warnings.filterwarnings('ignore')\n",
    "from sklearn.model_selection import train_test_split"
   ]
  },
  {
   "cell_type": "code",
   "execution_count": 192,
   "id": "OQMkAFRkviiJ",
   "metadata": {
    "id": "OQMkAFRkviiJ"
   },
   "outputs": [],
   "source": [
    "# from google.colab import drive\n",
    "# drive.mount('/content/drive')"
   ]
  },
  {
   "cell_type": "code",
   "execution_count": 193,
   "id": "jIJUtwfhvl58",
   "metadata": {
    "id": "jIJUtwfhvl58"
   },
   "outputs": [],
   "source": [
    "# import os \n",
    "# PATH='/content/drive/MyDrive/MITH'\n",
    "# os.chdir(PATH)"
   ]
  },
  {
   "cell_type": "code",
   "execution_count": 194,
   "id": "AacaguyqvsXL",
   "metadata": {
    "colab": {
     "base_uri": "https://localhost:8080/"
    },
    "executionInfo": {
     "elapsed": 23,
     "status": "ok",
     "timestamp": 1669195016633,
     "user": {
      "displayName": "N160079 GANIREDDY NOOKA PARAMESH",
      "userId": "09024512965911926212"
     },
     "user_tz": -330
    },
    "id": "AacaguyqvsXL",
    "outputId": "ea1f48b1-db70-4fe3-c0bf-dc8492899bf3"
   },
   "outputs": [],
   "source": [
    "# !ls"
   ]
  },
  {
   "cell_type": "code",
   "execution_count": 195,
   "id": "0fc152ef",
   "metadata": {
    "colab": {
     "base_uri": "https://localhost:8080/",
     "height": 206
    },
    "executionInfo": {
     "elapsed": 16,
     "status": "ok",
     "timestamp": 1669195016635,
     "user": {
      "displayName": "N160079 GANIREDDY NOOKA PARAMESH",
      "userId": "09024512965911926212"
     },
     "user_tz": -330
    },
    "id": "0fc152ef",
    "outputId": "a0673b93-41fa-4d5c-c2bf-2017dea21c9a"
   },
   "outputs": [
    {
     "data": {
      "text/html": [
       "<div>\n",
       "<style scoped>\n",
       "    .dataframe tbody tr th:only-of-type {\n",
       "        vertical-align: middle;\n",
       "    }\n",
       "\n",
       "    .dataframe tbody tr th {\n",
       "        vertical-align: top;\n",
       "    }\n",
       "\n",
       "    .dataframe thead th {\n",
       "        text-align: right;\n",
       "    }\n",
       "</style>\n",
       "<table border=\"1\" class=\"dataframe\">\n",
       "  <thead>\n",
       "    <tr style=\"text-align: right;\">\n",
       "      <th></th>\n",
       "      <th>Claim Number</th>\n",
       "      <th>City Code</th>\n",
       "      <th>City</th>\n",
       "      <th>Enterprise Type</th>\n",
       "      <th>Claim Type</th>\n",
       "      <th>Claim Site</th>\n",
       "      <th>Product Insured</th>\n",
       "    </tr>\n",
       "  </thead>\n",
       "  <tbody>\n",
       "    <tr>\n",
       "      <th>0</th>\n",
       "      <td>DQW1NZO0PL</td>\n",
       "      <td>NSK</td>\n",
       "      <td>Nashik</td>\n",
       "      <td>Public Limited Company</td>\n",
       "      <td>Property Loss</td>\n",
       "      <td>In Transit</td>\n",
       "      <td>Inventory - Raw Material</td>\n",
       "    </tr>\n",
       "    <tr>\n",
       "      <th>1</th>\n",
       "      <td>JS5GAPRN5B</td>\n",
       "      <td>BOM</td>\n",
       "      <td>Mumbai</td>\n",
       "      <td>One Person Company</td>\n",
       "      <td>Property Loss</td>\n",
       "      <td>In Transit</td>\n",
       "      <td>Cameras and other Misc. Security Equipment</td>\n",
       "    </tr>\n",
       "    <tr>\n",
       "      <th>2</th>\n",
       "      <td>ZTSVAQSEAQ</td>\n",
       "      <td>LKO</td>\n",
       "      <td>Lucknow</td>\n",
       "      <td>Public Limited Company</td>\n",
       "      <td>Property Loss</td>\n",
       "      <td>In Transit</td>\n",
       "      <td>Fixtures</td>\n",
       "    </tr>\n",
       "    <tr>\n",
       "      <th>3</th>\n",
       "      <td>EW7NWHI7LI</td>\n",
       "      <td>DEL</td>\n",
       "      <td>Delhi</td>\n",
       "      <td>Sole Proprietorship</td>\n",
       "      <td>Property Loss</td>\n",
       "      <td>In Transit</td>\n",
       "      <td>Pumps and Motors</td>\n",
       "    </tr>\n",
       "    <tr>\n",
       "      <th>4</th>\n",
       "      <td>UJOFDC41EL</td>\n",
       "      <td>DEL</td>\n",
       "      <td>Delhi</td>\n",
       "      <td>One Person Company</td>\n",
       "      <td>Property Loss</td>\n",
       "      <td>In Transit</td>\n",
       "      <td>Misc. Engineering Tools</td>\n",
       "    </tr>\n",
       "  </tbody>\n",
       "</table>\n",
       "</div>"
      ],
      "text/plain": [
       "  Claim Number City Code     City         Enterprise Type     Claim Type  \\\n",
       "0   DQW1NZO0PL       NSK   Nashik  Public Limited Company  Property Loss   \n",
       "1   JS5GAPRN5B       BOM   Mumbai      One Person Company  Property Loss   \n",
       "2   ZTSVAQSEAQ       LKO  Lucknow  Public Limited Company  Property Loss   \n",
       "3   EW7NWHI7LI       DEL    Delhi     Sole Proprietorship  Property Loss   \n",
       "4   UJOFDC41EL       DEL    Delhi      One Person Company  Property Loss   \n",
       "\n",
       "   Claim Site                             Product Insured  \n",
       "0  In Transit                    Inventory - Raw Material  \n",
       "1  In Transit  Cameras and other Misc. Security Equipment  \n",
       "2  In Transit                                    Fixtures  \n",
       "3  In Transit                            Pumps and Motors  \n",
       "4  In Transit                     Misc. Engineering Tools  "
      ]
     },
     "execution_count": 195,
     "metadata": {},
     "output_type": "execute_result"
    }
   ],
   "source": [
    "\n",
    "null_values=['NA',np.nan,'?',',','.',' ']     # listing null values\n",
    "\n",
    "#reading train file 1\n",
    "train1=pd.read_csv(\"Insurance_Claim_Info_data.csv\",na_values=null_values)\n",
    "train1.head()"
   ]
  },
  {
   "cell_type": "code",
   "execution_count": 196,
   "id": "7fcc9394",
   "metadata": {
    "colab": {
     "base_uri": "https://localhost:8080/",
     "height": 206
    },
    "executionInfo": {
     "elapsed": 1186,
     "status": "ok",
     "timestamp": 1669195017807,
     "user": {
      "displayName": "N160079 GANIREDDY NOOKA PARAMESH",
      "userId": "09024512965911926212"
     },
     "user_tz": -330
    },
    "id": "7fcc9394",
    "outputId": "a5e57fdd-ce9e-49b4-c27e-f2ef19d6ae4d"
   },
   "outputs": [
    {
     "data": {
      "text/html": [
       "<div>\n",
       "<style scoped>\n",
       "    .dataframe tbody tr th:only-of-type {\n",
       "        vertical-align: middle;\n",
       "    }\n",
       "\n",
       "    .dataframe tbody tr th {\n",
       "        vertical-align: top;\n",
       "    }\n",
       "\n",
       "    .dataframe thead th {\n",
       "        text-align: right;\n",
       "    }\n",
       "</style>\n",
       "<table border=\"1\" class=\"dataframe\">\n",
       "  <thead>\n",
       "    <tr style=\"text-align: right;\">\n",
       "      <th></th>\n",
       "      <th>Claim Number</th>\n",
       "      <th>Incident Date</th>\n",
       "      <th>Date Received</th>\n",
       "    </tr>\n",
       "  </thead>\n",
       "  <tbody>\n",
       "    <tr>\n",
       "      <th>0</th>\n",
       "      <td>BCHKRDM32K</td>\n",
       "      <td>21-10-2007</td>\n",
       "      <td>31-10-2007</td>\n",
       "    </tr>\n",
       "    <tr>\n",
       "      <th>1</th>\n",
       "      <td>B3GPD5IZQW</td>\n",
       "      <td>26-05-2006</td>\n",
       "      <td>14-06-2006</td>\n",
       "    </tr>\n",
       "    <tr>\n",
       "      <th>2</th>\n",
       "      <td>EB757CV6XW</td>\n",
       "      <td>18-01-2004</td>\n",
       "      <td>10-02-2004</td>\n",
       "    </tr>\n",
       "    <tr>\n",
       "      <th>3</th>\n",
       "      <td>SP0Z0Q95OV</td>\n",
       "      <td>28-04-2004</td>\n",
       "      <td>06-05-2004</td>\n",
       "    </tr>\n",
       "    <tr>\n",
       "      <th>4</th>\n",
       "      <td>VKZUK7J3KK</td>\n",
       "      <td>04-11-2007</td>\n",
       "      <td>14-11-2007</td>\n",
       "    </tr>\n",
       "  </tbody>\n",
       "</table>\n",
       "</div>"
      ],
      "text/plain": [
       "  Claim Number Incident Date Date Received\n",
       "0   BCHKRDM32K    21-10-2007    31-10-2007\n",
       "1   B3GPD5IZQW    26-05-2006    14-06-2006\n",
       "2   EB757CV6XW    18-01-2004    10-02-2004\n",
       "3   SP0Z0Q95OV    28-04-2004    06-05-2004\n",
       "4   VKZUK7J3KK    04-11-2007    14-11-2007"
      ]
     },
     "execution_count": 196,
     "metadata": {},
     "output_type": "execute_result"
    }
   ],
   "source": [
    "#reading train2 file\n",
    "train2=pd.read_csv(\"Insurance_Date_data.csv\",na_values=null_values)\n",
    "train2.head()"
   ]
  },
  {
   "cell_type": "code",
   "execution_count": 197,
   "id": "10cf22ca",
   "metadata": {
    "colab": {
     "base_uri": "https://localhost:8080/"
    },
    "executionInfo": {
     "elapsed": 24,
     "status": "ok",
     "timestamp": 1669195017810,
     "user": {
      "displayName": "N160079 GANIREDDY NOOKA PARAMESH",
      "userId": "09024512965911926212"
     },
     "user_tz": -330
    },
    "id": "10cf22ca",
    "outputId": "2c090ef1-001c-4ea1-cf57-39ac4f11e041"
   },
   "outputs": [
    {
     "data": {
      "text/plain": [
       "Claim Number             object\n",
       "Incident Date    datetime64[ns]\n",
       "Date Received    datetime64[ns]\n",
       "dtype: object"
      ]
     },
     "execution_count": 197,
     "metadata": {},
     "output_type": "execute_result"
    }
   ],
   "source": [
    "# formatting the dates into datetime in train file 2\n",
    "\n",
    "train2['Incident Date']=pd.to_datetime(train2['Incident Date'],format='%d-%m-%Y')\n",
    "train2['Date Received']=pd.to_datetime(train2['Date Received'],format='%d-%m-%Y')\n",
    "train2.dtypes"
   ]
  },
  {
   "cell_type": "code",
   "execution_count": 198,
   "id": "2a84ba3a",
   "metadata": {
    "colab": {
     "base_uri": "https://localhost:8080/",
     "height": 206
    },
    "executionInfo": {
     "elapsed": 19,
     "status": "ok",
     "timestamp": 1669195017812,
     "user": {
      "displayName": "N160079 GANIREDDY NOOKA PARAMESH",
      "userId": "09024512965911926212"
     },
     "user_tz": -330
    },
    "id": "2a84ba3a",
    "outputId": "505d4f47-2803-4716-fecb-dea715c7ae9a"
   },
   "outputs": [
    {
     "data": {
      "text/html": [
       "<div>\n",
       "<style scoped>\n",
       "    .dataframe tbody tr th:only-of-type {\n",
       "        vertical-align: middle;\n",
       "    }\n",
       "\n",
       "    .dataframe tbody tr th {\n",
       "        vertical-align: top;\n",
       "    }\n",
       "\n",
       "    .dataframe thead th {\n",
       "        text-align: right;\n",
       "    }\n",
       "</style>\n",
       "<table border=\"1\" class=\"dataframe\">\n",
       "  <thead>\n",
       "    <tr style=\"text-align: right;\">\n",
       "      <th></th>\n",
       "      <th>Claim Number</th>\n",
       "      <th>Claim Amount</th>\n",
       "      <th>Close Amount</th>\n",
       "      <th>Disposition</th>\n",
       "    </tr>\n",
       "  </thead>\n",
       "  <tbody>\n",
       "    <tr>\n",
       "      <th>0</th>\n",
       "      <td>Y5VA9KOE89</td>\n",
       "      <td>100.00</td>\n",
       "      <td>0.00</td>\n",
       "      <td>Deny</td>\n",
       "    </tr>\n",
       "    <tr>\n",
       "      <th>1</th>\n",
       "      <td>P51DOJLR8W</td>\n",
       "      <td>199.99</td>\n",
       "      <td>0.00</td>\n",
       "      <td>Deny</td>\n",
       "    </tr>\n",
       "    <tr>\n",
       "      <th>2</th>\n",
       "      <td>OUUZFP7EFL</td>\n",
       "      <td>410.00</td>\n",
       "      <td>59.85</td>\n",
       "      <td>Settle</td>\n",
       "    </tr>\n",
       "    <tr>\n",
       "      <th>3</th>\n",
       "      <td>CGP3L1CCP2</td>\n",
       "      <td>240.00</td>\n",
       "      <td>0.00</td>\n",
       "      <td>Deny</td>\n",
       "    </tr>\n",
       "    <tr>\n",
       "      <th>4</th>\n",
       "      <td>JDFLPD7J9Z</td>\n",
       "      <td>11.36</td>\n",
       "      <td>11.36</td>\n",
       "      <td>Approve in Full</td>\n",
       "    </tr>\n",
       "  </tbody>\n",
       "</table>\n",
       "</div>"
      ],
      "text/plain": [
       "  Claim Number  Claim Amount  Close Amount      Disposition\n",
       "0   Y5VA9KOE89        100.00          0.00             Deny\n",
       "1   P51DOJLR8W        199.99          0.00             Deny\n",
       "2   OUUZFP7EFL        410.00         59.85           Settle\n",
       "3   CGP3L1CCP2        240.00          0.00             Deny\n",
       "4   JDFLPD7J9Z         11.36         11.36  Approve in Full"
      ]
     },
     "execution_count": 198,
     "metadata": {},
     "output_type": "execute_result"
    }
   ],
   "source": [
    "#reading train3 file\n",
    "train3=pd.read_csv(\"Insurance_Result_data.csv\",na_values=null_values)\n",
    "train3.head()"
   ]
  },
  {
   "cell_type": "code",
   "execution_count": 199,
   "id": "7e0ffdeb",
   "metadata": {
    "id": "7e0ffdeb"
   },
   "outputs": [],
   "source": [
    "#reading test file\n",
    "test_data=pd.read_excel('test_data-1663477366404.xlsx',na_values=null_values)"
   ]
  },
  {
   "cell_type": "code",
   "execution_count": 200,
   "id": "56ab94dc",
   "metadata": {
    "colab": {
     "base_uri": "https://localhost:8080/",
     "height": 206
    },
    "executionInfo": {
     "elapsed": 16,
     "status": "ok",
     "timestamp": 1669195018208,
     "user": {
      "displayName": "N160079 GANIREDDY NOOKA PARAMESH",
      "userId": "09024512965911926212"
     },
     "user_tz": -330
    },
    "id": "56ab94dc",
    "outputId": "90a7932a-7345-4437-b727-405b17c0f29b"
   },
   "outputs": [
    {
     "data": {
      "text/html": [
       "<div>\n",
       "<style scoped>\n",
       "    .dataframe tbody tr th:only-of-type {\n",
       "        vertical-align: middle;\n",
       "    }\n",
       "\n",
       "    .dataframe tbody tr th {\n",
       "        vertical-align: top;\n",
       "    }\n",
       "\n",
       "    .dataframe thead th {\n",
       "        text-align: right;\n",
       "    }\n",
       "</style>\n",
       "<table border=\"1\" class=\"dataframe\">\n",
       "  <thead>\n",
       "    <tr style=\"text-align: right;\">\n",
       "      <th></th>\n",
       "      <th>Claim Number</th>\n",
       "      <th>City Code</th>\n",
       "      <th>City</th>\n",
       "      <th>Enterprise Type</th>\n",
       "      <th>Claim Type</th>\n",
       "      <th>Claim Site</th>\n",
       "      <th>Product Insured</th>\n",
       "      <th>Incident Date</th>\n",
       "      <th>Date Received</th>\n",
       "    </tr>\n",
       "  </thead>\n",
       "  <tbody>\n",
       "    <tr>\n",
       "      <th>0</th>\n",
       "      <td>DQW1NZO0PL</td>\n",
       "      <td>NSK</td>\n",
       "      <td>Nashik</td>\n",
       "      <td>Public Limited Company</td>\n",
       "      <td>Property Loss</td>\n",
       "      <td>In Transit</td>\n",
       "      <td>Inventory - Raw Material</td>\n",
       "      <td>2007-05-25</td>\n",
       "      <td>2007-07-06</td>\n",
       "    </tr>\n",
       "    <tr>\n",
       "      <th>1</th>\n",
       "      <td>JS5GAPRN5B</td>\n",
       "      <td>BOM</td>\n",
       "      <td>Mumbai</td>\n",
       "      <td>One Person Company</td>\n",
       "      <td>Property Loss</td>\n",
       "      <td>In Transit</td>\n",
       "      <td>Cameras and other Misc. Security Equipment</td>\n",
       "      <td>2006-09-17</td>\n",
       "      <td>2006-09-27</td>\n",
       "    </tr>\n",
       "    <tr>\n",
       "      <th>2</th>\n",
       "      <td>ZTSVAQSEAQ</td>\n",
       "      <td>LKO</td>\n",
       "      <td>Lucknow</td>\n",
       "      <td>Public Limited Company</td>\n",
       "      <td>Property Loss</td>\n",
       "      <td>In Transit</td>\n",
       "      <td>Fixtures</td>\n",
       "      <td>2006-06-12</td>\n",
       "      <td>2006-07-17</td>\n",
       "    </tr>\n",
       "    <tr>\n",
       "      <th>3</th>\n",
       "      <td>EW7NWHI7LI</td>\n",
       "      <td>DEL</td>\n",
       "      <td>Delhi</td>\n",
       "      <td>Sole Proprietorship</td>\n",
       "      <td>Property Loss</td>\n",
       "      <td>In Transit</td>\n",
       "      <td>Pumps and Motors</td>\n",
       "      <td>2005-11-13</td>\n",
       "      <td>2005-12-05</td>\n",
       "    </tr>\n",
       "    <tr>\n",
       "      <th>4</th>\n",
       "      <td>UJOFDC41EL</td>\n",
       "      <td>DEL</td>\n",
       "      <td>Delhi</td>\n",
       "      <td>One Person Company</td>\n",
       "      <td>Property Loss</td>\n",
       "      <td>In Transit</td>\n",
       "      <td>Misc. Engineering Tools</td>\n",
       "      <td>2008-07-28</td>\n",
       "      <td>2008-08-12</td>\n",
       "    </tr>\n",
       "  </tbody>\n",
       "</table>\n",
       "</div>"
      ],
      "text/plain": [
       "  Claim Number City Code     City         Enterprise Type     Claim Type  \\\n",
       "0   DQW1NZO0PL       NSK   Nashik  Public Limited Company  Property Loss   \n",
       "1   JS5GAPRN5B       BOM   Mumbai      One Person Company  Property Loss   \n",
       "2   ZTSVAQSEAQ       LKO  Lucknow  Public Limited Company  Property Loss   \n",
       "3   EW7NWHI7LI       DEL    Delhi     Sole Proprietorship  Property Loss   \n",
       "4   UJOFDC41EL       DEL    Delhi      One Person Company  Property Loss   \n",
       "\n",
       "   Claim Site                             Product Insured Incident Date  \\\n",
       "0  In Transit                    Inventory - Raw Material    2007-05-25   \n",
       "1  In Transit  Cameras and other Misc. Security Equipment    2006-09-17   \n",
       "2  In Transit                                    Fixtures    2006-06-12   \n",
       "3  In Transit                            Pumps and Motors    2005-11-13   \n",
       "4  In Transit                     Misc. Engineering Tools    2008-07-28   \n",
       "\n",
       "  Date Received  \n",
       "0    2007-07-06  \n",
       "1    2006-09-27  \n",
       "2    2006-07-17  \n",
       "3    2005-12-05  \n",
       "4    2008-08-12  "
      ]
     },
     "execution_count": 200,
     "metadata": {},
     "output_type": "execute_result"
    }
   ],
   "source": [
    "#merging train1 and train 2 on basiss of Claim Number\n",
    "data1=pd.merge(train1,train2,on='Claim Number',how='left')\n",
    "data1.head()"
   ]
  },
  {
   "cell_type": "code",
   "execution_count": 201,
   "id": "f6a40fc8",
   "metadata": {
    "colab": {
     "base_uri": "https://localhost:8080/",
     "height": 354
    },
    "executionInfo": {
     "elapsed": 780,
     "status": "ok",
     "timestamp": 1669195018975,
     "user": {
      "displayName": "N160079 GANIREDDY NOOKA PARAMESH",
      "userId": "09024512965911926212"
     },
     "user_tz": -330
    },
    "id": "f6a40fc8",
    "outputId": "f7d4b105-d3fe-44ee-9472-83c8e3bdf900",
    "scrolled": true
   },
   "outputs": [
    {
     "data": {
      "text/html": [
       "<div>\n",
       "<style scoped>\n",
       "    .dataframe tbody tr th:only-of-type {\n",
       "        vertical-align: middle;\n",
       "    }\n",
       "\n",
       "    .dataframe tbody tr th {\n",
       "        vertical-align: top;\n",
       "    }\n",
       "\n",
       "    .dataframe thead th {\n",
       "        text-align: right;\n",
       "    }\n",
       "</style>\n",
       "<table border=\"1\" class=\"dataframe\">\n",
       "  <thead>\n",
       "    <tr style=\"text-align: right;\">\n",
       "      <th></th>\n",
       "      <th>Claim Number</th>\n",
       "      <th>City Code</th>\n",
       "      <th>City</th>\n",
       "      <th>Enterprise Type</th>\n",
       "      <th>Claim Type</th>\n",
       "      <th>Claim Site</th>\n",
       "      <th>Product Insured</th>\n",
       "      <th>Incident Date</th>\n",
       "      <th>Date Received</th>\n",
       "      <th>Claim Amount</th>\n",
       "      <th>Close Amount</th>\n",
       "      <th>Disposition</th>\n",
       "    </tr>\n",
       "  </thead>\n",
       "  <tbody>\n",
       "    <tr>\n",
       "      <th>0</th>\n",
       "      <td>DQW1NZO0PL</td>\n",
       "      <td>NSK</td>\n",
       "      <td>Nashik</td>\n",
       "      <td>Public Limited Company</td>\n",
       "      <td>Property Loss</td>\n",
       "      <td>In Transit</td>\n",
       "      <td>Inventory - Raw Material</td>\n",
       "      <td>2007-05-25</td>\n",
       "      <td>2007-07-06</td>\n",
       "      <td>490.00</td>\n",
       "      <td>0.00</td>\n",
       "      <td>Deny</td>\n",
       "    </tr>\n",
       "    <tr>\n",
       "      <th>1</th>\n",
       "      <td>JS5GAPRN5B</td>\n",
       "      <td>BOM</td>\n",
       "      <td>Mumbai</td>\n",
       "      <td>One Person Company</td>\n",
       "      <td>Property Loss</td>\n",
       "      <td>In Transit</td>\n",
       "      <td>Cameras and other Misc. Security Equipment</td>\n",
       "      <td>2006-09-17</td>\n",
       "      <td>2006-09-27</td>\n",
       "      <td>300.00</td>\n",
       "      <td>150.00</td>\n",
       "      <td>Settle</td>\n",
       "    </tr>\n",
       "    <tr>\n",
       "      <th>2</th>\n",
       "      <td>ZTSVAQSEAQ</td>\n",
       "      <td>LKO</td>\n",
       "      <td>Lucknow</td>\n",
       "      <td>Public Limited Company</td>\n",
       "      <td>Property Loss</td>\n",
       "      <td>In Transit</td>\n",
       "      <td>Fixtures</td>\n",
       "      <td>2006-06-12</td>\n",
       "      <td>2006-07-17</td>\n",
       "      <td>83.98</td>\n",
       "      <td>83.98</td>\n",
       "      <td>Approve in Full</td>\n",
       "    </tr>\n",
       "    <tr>\n",
       "      <th>3</th>\n",
       "      <td>EW7NWHI7LI</td>\n",
       "      <td>DEL</td>\n",
       "      <td>Delhi</td>\n",
       "      <td>Sole Proprietorship</td>\n",
       "      <td>Property Loss</td>\n",
       "      <td>In Transit</td>\n",
       "      <td>Pumps and Motors</td>\n",
       "      <td>2005-11-13</td>\n",
       "      <td>2005-12-05</td>\n",
       "      <td>507.88</td>\n",
       "      <td>0.00</td>\n",
       "      <td>Deny</td>\n",
       "    </tr>\n",
       "    <tr>\n",
       "      <th>4</th>\n",
       "      <td>UJOFDC41EL</td>\n",
       "      <td>DEL</td>\n",
       "      <td>Delhi</td>\n",
       "      <td>One Person Company</td>\n",
       "      <td>Property Loss</td>\n",
       "      <td>In Transit</td>\n",
       "      <td>Misc. Engineering Tools</td>\n",
       "      <td>2008-07-28</td>\n",
       "      <td>2008-08-12</td>\n",
       "      <td>83.46</td>\n",
       "      <td>41.73</td>\n",
       "      <td>Settle</td>\n",
       "    </tr>\n",
       "  </tbody>\n",
       "</table>\n",
       "</div>"
      ],
      "text/plain": [
       "  Claim Number City Code     City         Enterprise Type     Claim Type  \\\n",
       "0   DQW1NZO0PL       NSK   Nashik  Public Limited Company  Property Loss   \n",
       "1   JS5GAPRN5B       BOM   Mumbai      One Person Company  Property Loss   \n",
       "2   ZTSVAQSEAQ       LKO  Lucknow  Public Limited Company  Property Loss   \n",
       "3   EW7NWHI7LI       DEL    Delhi     Sole Proprietorship  Property Loss   \n",
       "4   UJOFDC41EL       DEL    Delhi      One Person Company  Property Loss   \n",
       "\n",
       "   Claim Site                             Product Insured Incident Date  \\\n",
       "0  In Transit                    Inventory - Raw Material    2007-05-25   \n",
       "1  In Transit  Cameras and other Misc. Security Equipment    2006-09-17   \n",
       "2  In Transit                                    Fixtures    2006-06-12   \n",
       "3  In Transit                            Pumps and Motors    2005-11-13   \n",
       "4  In Transit                     Misc. Engineering Tools    2008-07-28   \n",
       "\n",
       "  Date Received  Claim Amount  Close Amount      Disposition  \n",
       "0    2007-07-06        490.00          0.00             Deny  \n",
       "1    2006-09-27        300.00        150.00           Settle  \n",
       "2    2006-07-17         83.98         83.98  Approve in Full  \n",
       "3    2005-12-05        507.88          0.00             Deny  \n",
       "4    2008-08-12         83.46         41.73           Settle  "
      ]
     },
     "execution_count": 201,
     "metadata": {},
     "output_type": "execute_result"
    }
   ],
   "source": [
    "#merging both above data1 and train3 on basis of Claim Number\n",
    "train_data=pd.merge(data1,train3,on='Claim Number',how='left')\n",
    "train_data.head()"
   ]
  },
  {
   "cell_type": "code",
   "execution_count": 202,
   "id": "bc24fad0",
   "metadata": {},
   "outputs": [
    {
     "data": {
      "text/html": [
       "<div>\n",
       "<style scoped>\n",
       "    .dataframe tbody tr th:only-of-type {\n",
       "        vertical-align: middle;\n",
       "    }\n",
       "\n",
       "    .dataframe tbody tr th {\n",
       "        vertical-align: top;\n",
       "    }\n",
       "\n",
       "    .dataframe thead th {\n",
       "        text-align: right;\n",
       "    }\n",
       "</style>\n",
       "<table border=\"1\" class=\"dataframe\">\n",
       "  <thead>\n",
       "    <tr style=\"text-align: right;\">\n",
       "      <th></th>\n",
       "      <th>Claim Number</th>\n",
       "      <th>City Code</th>\n",
       "      <th>City</th>\n",
       "      <th>Enterprise Type</th>\n",
       "      <th>Claim Type</th>\n",
       "      <th>Claim Site</th>\n",
       "      <th>Product Insured</th>\n",
       "      <th>Incident Date</th>\n",
       "      <th>Date Received</th>\n",
       "      <th>Claim Amount</th>\n",
       "      <th>Close Amount</th>\n",
       "      <th>Disposition</th>\n",
       "    </tr>\n",
       "  </thead>\n",
       "  <tbody>\n",
       "    <tr>\n",
       "      <th>count</th>\n",
       "      <td>34110</td>\n",
       "      <td>34110</td>\n",
       "      <td>34110</td>\n",
       "      <td>34110</td>\n",
       "      <td>34110</td>\n",
       "      <td>34110</td>\n",
       "      <td>34110</td>\n",
       "      <td>34110</td>\n",
       "      <td>34110</td>\n",
       "      <td>34110.000000</td>\n",
       "      <td>34110.000000</td>\n",
       "      <td>34110</td>\n",
       "    </tr>\n",
       "    <tr>\n",
       "      <th>unique</th>\n",
       "      <td>34110</td>\n",
       "      <td>23</td>\n",
       "      <td>23</td>\n",
       "      <td>13</td>\n",
       "      <td>2</td>\n",
       "      <td>3</td>\n",
       "      <td>13</td>\n",
       "      <td>2685</td>\n",
       "      <td>1832</td>\n",
       "      <td>NaN</td>\n",
       "      <td>NaN</td>\n",
       "      <td>3</td>\n",
       "    </tr>\n",
       "    <tr>\n",
       "      <th>top</th>\n",
       "      <td>DQW1NZO0PL</td>\n",
       "      <td>BOM</td>\n",
       "      <td>Mumbai</td>\n",
       "      <td>Sole Proprietorship</td>\n",
       "      <td>Property Loss</td>\n",
       "      <td>In Transit</td>\n",
       "      <td>Inventory - Raw Material</td>\n",
       "      <td>2004-04-19 00:00:00</td>\n",
       "      <td>2004-04-21 00:00:00</td>\n",
       "      <td>NaN</td>\n",
       "      <td>NaN</td>\n",
       "      <td>Deny</td>\n",
       "    </tr>\n",
       "    <tr>\n",
       "      <th>freq</th>\n",
       "      <td>1</td>\n",
       "      <td>2562</td>\n",
       "      <td>2562</td>\n",
       "      <td>6259</td>\n",
       "      <td>21216</td>\n",
       "      <td>28806</td>\n",
       "      <td>8110</td>\n",
       "      <td>38</td>\n",
       "      <td>215</td>\n",
       "      <td>NaN</td>\n",
       "      <td>NaN</td>\n",
       "      <td>17848</td>\n",
       "    </tr>\n",
       "    <tr>\n",
       "      <th>first</th>\n",
       "      <td>NaN</td>\n",
       "      <td>NaN</td>\n",
       "      <td>NaN</td>\n",
       "      <td>NaN</td>\n",
       "      <td>NaN</td>\n",
       "      <td>NaN</td>\n",
       "      <td>NaN</td>\n",
       "      <td>2002-01-10 00:00:00</td>\n",
       "      <td>1994-01-05 00:00:00</td>\n",
       "      <td>NaN</td>\n",
       "      <td>NaN</td>\n",
       "      <td>NaN</td>\n",
       "    </tr>\n",
       "    <tr>\n",
       "      <th>last</th>\n",
       "      <td>NaN</td>\n",
       "      <td>NaN</td>\n",
       "      <td>NaN</td>\n",
       "      <td>NaN</td>\n",
       "      <td>NaN</td>\n",
       "      <td>NaN</td>\n",
       "      <td>NaN</td>\n",
       "      <td>2010-06-22 00:00:00</td>\n",
       "      <td>2055-05-17 00:00:00</td>\n",
       "      <td>NaN</td>\n",
       "      <td>NaN</td>\n",
       "      <td>NaN</td>\n",
       "    </tr>\n",
       "    <tr>\n",
       "      <th>mean</th>\n",
       "      <td>NaN</td>\n",
       "      <td>NaN</td>\n",
       "      <td>NaN</td>\n",
       "      <td>NaN</td>\n",
       "      <td>NaN</td>\n",
       "      <td>NaN</td>\n",
       "      <td>NaN</td>\n",
       "      <td>NaN</td>\n",
       "      <td>NaN</td>\n",
       "      <td>717.844178</td>\n",
       "      <td>104.883016</td>\n",
       "      <td>NaN</td>\n",
       "    </tr>\n",
       "    <tr>\n",
       "      <th>std</th>\n",
       "      <td>NaN</td>\n",
       "      <td>NaN</td>\n",
       "      <td>NaN</td>\n",
       "      <td>NaN</td>\n",
       "      <td>NaN</td>\n",
       "      <td>NaN</td>\n",
       "      <td>NaN</td>\n",
       "      <td>NaN</td>\n",
       "      <td>NaN</td>\n",
       "      <td>8290.881802</td>\n",
       "      <td>1393.564677</td>\n",
       "      <td>NaN</td>\n",
       "    </tr>\n",
       "    <tr>\n",
       "      <th>min</th>\n",
       "      <td>NaN</td>\n",
       "      <td>NaN</td>\n",
       "      <td>NaN</td>\n",
       "      <td>NaN</td>\n",
       "      <td>NaN</td>\n",
       "      <td>NaN</td>\n",
       "      <td>NaN</td>\n",
       "      <td>NaN</td>\n",
       "      <td>NaN</td>\n",
       "      <td>0.000000</td>\n",
       "      <td>0.000000</td>\n",
       "      <td>NaN</td>\n",
       "    </tr>\n",
       "    <tr>\n",
       "      <th>25%</th>\n",
       "      <td>NaN</td>\n",
       "      <td>NaN</td>\n",
       "      <td>NaN</td>\n",
       "      <td>NaN</td>\n",
       "      <td>NaN</td>\n",
       "      <td>NaN</td>\n",
       "      <td>NaN</td>\n",
       "      <td>NaN</td>\n",
       "      <td>NaN</td>\n",
       "      <td>60.000000</td>\n",
       "      <td>0.000000</td>\n",
       "      <td>NaN</td>\n",
       "    </tr>\n",
       "    <tr>\n",
       "      <th>50%</th>\n",
       "      <td>NaN</td>\n",
       "      <td>NaN</td>\n",
       "      <td>NaN</td>\n",
       "      <td>NaN</td>\n",
       "      <td>NaN</td>\n",
       "      <td>NaN</td>\n",
       "      <td>NaN</td>\n",
       "      <td>NaN</td>\n",
       "      <td>NaN</td>\n",
       "      <td>175.000000</td>\n",
       "      <td>0.000000</td>\n",
       "      <td>NaN</td>\n",
       "    </tr>\n",
       "    <tr>\n",
       "      <th>75%</th>\n",
       "      <td>NaN</td>\n",
       "      <td>NaN</td>\n",
       "      <td>NaN</td>\n",
       "      <td>NaN</td>\n",
       "      <td>NaN</td>\n",
       "      <td>NaN</td>\n",
       "      <td>NaN</td>\n",
       "      <td>NaN</td>\n",
       "      <td>NaN</td>\n",
       "      <td>460.000000</td>\n",
       "      <td>75.000000</td>\n",
       "      <td>NaN</td>\n",
       "    </tr>\n",
       "    <tr>\n",
       "      <th>max</th>\n",
       "      <td>NaN</td>\n",
       "      <td>NaN</td>\n",
       "      <td>NaN</td>\n",
       "      <td>NaN</td>\n",
       "      <td>NaN</td>\n",
       "      <td>NaN</td>\n",
       "      <td>NaN</td>\n",
       "      <td>NaN</td>\n",
       "      <td>NaN</td>\n",
       "      <td>900000.000000</td>\n",
       "      <td>250000.000000</td>\n",
       "      <td>NaN</td>\n",
       "    </tr>\n",
       "  </tbody>\n",
       "</table>\n",
       "</div>"
      ],
      "text/plain": [
       "       Claim Number City Code    City      Enterprise Type     Claim Type  \\\n",
       "count         34110     34110   34110                34110          34110   \n",
       "unique        34110        23      23                   13              2   \n",
       "top      DQW1NZO0PL       BOM  Mumbai  Sole Proprietorship  Property Loss   \n",
       "freq              1      2562    2562                 6259          21216   \n",
       "first           NaN       NaN     NaN                  NaN            NaN   \n",
       "last            NaN       NaN     NaN                  NaN            NaN   \n",
       "mean            NaN       NaN     NaN                  NaN            NaN   \n",
       "std             NaN       NaN     NaN                  NaN            NaN   \n",
       "min             NaN       NaN     NaN                  NaN            NaN   \n",
       "25%             NaN       NaN     NaN                  NaN            NaN   \n",
       "50%             NaN       NaN     NaN                  NaN            NaN   \n",
       "75%             NaN       NaN     NaN                  NaN            NaN   \n",
       "max             NaN       NaN     NaN                  NaN            NaN   \n",
       "\n",
       "        Claim Site           Product Insured        Incident Date  \\\n",
       "count        34110                     34110                34110   \n",
       "unique           3                        13                 2685   \n",
       "top     In Transit  Inventory - Raw Material  2004-04-19 00:00:00   \n",
       "freq         28806                      8110                   38   \n",
       "first          NaN                       NaN  2002-01-10 00:00:00   \n",
       "last           NaN                       NaN  2010-06-22 00:00:00   \n",
       "mean           NaN                       NaN                  NaN   \n",
       "std            NaN                       NaN                  NaN   \n",
       "min            NaN                       NaN                  NaN   \n",
       "25%            NaN                       NaN                  NaN   \n",
       "50%            NaN                       NaN                  NaN   \n",
       "75%            NaN                       NaN                  NaN   \n",
       "max            NaN                       NaN                  NaN   \n",
       "\n",
       "              Date Received   Claim Amount   Close Amount Disposition  \n",
       "count                 34110   34110.000000   34110.000000       34110  \n",
       "unique                 1832            NaN            NaN           3  \n",
       "top     2004-04-21 00:00:00            NaN            NaN        Deny  \n",
       "freq                    215            NaN            NaN       17848  \n",
       "first   1994-01-05 00:00:00            NaN            NaN         NaN  \n",
       "last    2055-05-17 00:00:00            NaN            NaN         NaN  \n",
       "mean                    NaN     717.844178     104.883016         NaN  \n",
       "std                     NaN    8290.881802    1393.564677         NaN  \n",
       "min                     NaN       0.000000       0.000000         NaN  \n",
       "25%                     NaN      60.000000       0.000000         NaN  \n",
       "50%                     NaN     175.000000       0.000000         NaN  \n",
       "75%                     NaN     460.000000      75.000000         NaN  \n",
       "max                     NaN  900000.000000  250000.000000         NaN  "
      ]
     },
     "execution_count": 202,
     "metadata": {},
     "output_type": "execute_result"
    }
   ],
   "source": [
    "train_data.describe(include='all')"
   ]
  },
  {
   "cell_type": "code",
   "execution_count": 203,
   "id": "4b9a169e",
   "metadata": {
    "id": "4b9a169e"
   },
   "outputs": [],
   "source": [
    "#copying train file for the sake of finding instances\n",
    "train_ins=train_data.copy()"
   ]
  },
  {
   "cell_type": "code",
   "execution_count": 204,
   "id": "391fb836",
   "metadata": {
    "colab": {
     "base_uri": "https://localhost:8080/",
     "height": 659
    },
    "executionInfo": {
     "elapsed": 62,
     "status": "ok",
     "timestamp": 1669195018977,
     "user": {
      "displayName": "N160079 GANIREDDY NOOKA PARAMESH",
      "userId": "09024512965911926212"
     },
     "user_tz": -330
    },
    "id": "391fb836",
    "outputId": "22ee127f-3e3b-455d-b45b-d7d5102119c2"
   },
   "outputs": [
    {
     "data": {
      "text/html": [
       "<div>\n",
       "<style scoped>\n",
       "    .dataframe tbody tr th:only-of-type {\n",
       "        vertical-align: middle;\n",
       "    }\n",
       "\n",
       "    .dataframe tbody tr th {\n",
       "        vertical-align: top;\n",
       "    }\n",
       "\n",
       "    .dataframe thead th {\n",
       "        text-align: right;\n",
       "    }\n",
       "</style>\n",
       "<table border=\"1\" class=\"dataframe\">\n",
       "  <thead>\n",
       "    <tr style=\"text-align: right;\">\n",
       "      <th></th>\n",
       "      <th>Claim Number</th>\n",
       "      <th>City Code</th>\n",
       "      <th>City</th>\n",
       "      <th>Enterprise Type</th>\n",
       "      <th>Claim Type</th>\n",
       "      <th>Claim Site</th>\n",
       "      <th>Product Insured</th>\n",
       "      <th>Incident Date</th>\n",
       "      <th>Date Received</th>\n",
       "      <th>Claim Amount</th>\n",
       "      <th>Close Amount</th>\n",
       "      <th>Disposition</th>\n",
       "    </tr>\n",
       "  </thead>\n",
       "  <tbody>\n",
       "    <tr>\n",
       "      <th>0</th>\n",
       "      <td>DQW1NZO0PL</td>\n",
       "      <td>NSK</td>\n",
       "      <td>Nashik</td>\n",
       "      <td>Public Limited Company</td>\n",
       "      <td>Property Loss</td>\n",
       "      <td>In Transit</td>\n",
       "      <td>Inventory - Raw Material</td>\n",
       "      <td>2007-05-25</td>\n",
       "      <td>2007-07-06</td>\n",
       "      <td>490.00</td>\n",
       "      <td>0.00</td>\n",
       "      <td>Deny</td>\n",
       "    </tr>\n",
       "    <tr>\n",
       "      <th>1</th>\n",
       "      <td>JS5GAPRN5B</td>\n",
       "      <td>BOM</td>\n",
       "      <td>Mumbai</td>\n",
       "      <td>One Person Company</td>\n",
       "      <td>Property Loss</td>\n",
       "      <td>In Transit</td>\n",
       "      <td>Cameras and other Misc. Security Equipment</td>\n",
       "      <td>2006-09-17</td>\n",
       "      <td>2006-09-27</td>\n",
       "      <td>300.00</td>\n",
       "      <td>150.00</td>\n",
       "      <td>Settle</td>\n",
       "    </tr>\n",
       "    <tr>\n",
       "      <th>2</th>\n",
       "      <td>ZTSVAQSEAQ</td>\n",
       "      <td>LKO</td>\n",
       "      <td>Lucknow</td>\n",
       "      <td>Public Limited Company</td>\n",
       "      <td>Property Loss</td>\n",
       "      <td>In Transit</td>\n",
       "      <td>Fixtures</td>\n",
       "      <td>2006-06-12</td>\n",
       "      <td>2006-07-17</td>\n",
       "      <td>83.98</td>\n",
       "      <td>83.98</td>\n",
       "      <td>Approve in Full</td>\n",
       "    </tr>\n",
       "    <tr>\n",
       "      <th>3</th>\n",
       "      <td>EW7NWHI7LI</td>\n",
       "      <td>DEL</td>\n",
       "      <td>Delhi</td>\n",
       "      <td>Sole Proprietorship</td>\n",
       "      <td>Property Loss</td>\n",
       "      <td>In Transit</td>\n",
       "      <td>Pumps and Motors</td>\n",
       "      <td>2005-11-13</td>\n",
       "      <td>2005-12-05</td>\n",
       "      <td>507.88</td>\n",
       "      <td>0.00</td>\n",
       "      <td>Deny</td>\n",
       "    </tr>\n",
       "    <tr>\n",
       "      <th>4</th>\n",
       "      <td>UJOFDC41EL</td>\n",
       "      <td>DEL</td>\n",
       "      <td>Delhi</td>\n",
       "      <td>One Person Company</td>\n",
       "      <td>Property Loss</td>\n",
       "      <td>In Transit</td>\n",
       "      <td>Misc. Engineering Tools</td>\n",
       "      <td>2008-07-28</td>\n",
       "      <td>2008-08-12</td>\n",
       "      <td>83.46</td>\n",
       "      <td>41.73</td>\n",
       "      <td>Settle</td>\n",
       "    </tr>\n",
       "    <tr>\n",
       "      <th>...</th>\n",
       "      <td>...</td>\n",
       "      <td>...</td>\n",
       "      <td>...</td>\n",
       "      <td>...</td>\n",
       "      <td>...</td>\n",
       "      <td>...</td>\n",
       "      <td>...</td>\n",
       "      <td>...</td>\n",
       "      <td>...</td>\n",
       "      <td>...</td>\n",
       "      <td>...</td>\n",
       "      <td>...</td>\n",
       "    </tr>\n",
       "    <tr>\n",
       "      <th>34105</th>\n",
       "      <td>5CFGWQ6IR5</td>\n",
       "      <td>AGR</td>\n",
       "      <td>Agra</td>\n",
       "      <td>Public Limited Company</td>\n",
       "      <td>Property Loss</td>\n",
       "      <td>In Transit</td>\n",
       "      <td>Misc. Engineering Tools</td>\n",
       "      <td>2005-12-19</td>\n",
       "      <td>2006-03-21</td>\n",
       "      <td>238.00</td>\n",
       "      <td>115.60</td>\n",
       "      <td>Settle</td>\n",
       "    </tr>\n",
       "    <tr>\n",
       "      <th>34106</th>\n",
       "      <td>QQ6EAWA4Q5</td>\n",
       "      <td>LKO</td>\n",
       "      <td>Lucknow</td>\n",
       "      <td>Partnership Firm</td>\n",
       "      <td>Property Damage</td>\n",
       "      <td>In Transit</td>\n",
       "      <td>Misc. Electronic Items</td>\n",
       "      <td>2007-01-08</td>\n",
       "      <td>2007-01-16</td>\n",
       "      <td>7.00</td>\n",
       "      <td>0.00</td>\n",
       "      <td>Deny</td>\n",
       "    </tr>\n",
       "    <tr>\n",
       "      <th>34107</th>\n",
       "      <td>X1J58PT1J5</td>\n",
       "      <td>HYD</td>\n",
       "      <td>Hyderabad</td>\n",
       "      <td>One Person Company</td>\n",
       "      <td>Property Damage</td>\n",
       "      <td>In Transit</td>\n",
       "      <td>Misc. Electronic Items</td>\n",
       "      <td>2005-09-19</td>\n",
       "      <td>2005-10-18</td>\n",
       "      <td>166.00</td>\n",
       "      <td>70.00</td>\n",
       "      <td>Settle</td>\n",
       "    </tr>\n",
       "    <tr>\n",
       "      <th>34108</th>\n",
       "      <td>AGOXXE8KII</td>\n",
       "      <td>MAA</td>\n",
       "      <td>Chennai</td>\n",
       "      <td>Sole Proprietorship</td>\n",
       "      <td>Property Damage</td>\n",
       "      <td>Warehouse</td>\n",
       "      <td>Pumps and Motors</td>\n",
       "      <td>2009-04-14</td>\n",
       "      <td>2009-09-09</td>\n",
       "      <td>450.00</td>\n",
       "      <td>280.00</td>\n",
       "      <td>Settle</td>\n",
       "    </tr>\n",
       "    <tr>\n",
       "      <th>34109</th>\n",
       "      <td>WT5RH23GPC</td>\n",
       "      <td>LKO</td>\n",
       "      <td>Lucknow</td>\n",
       "      <td>Private Ltd. MSME - Medium</td>\n",
       "      <td>Property Loss</td>\n",
       "      <td>In Transit</td>\n",
       "      <td>Inventory - Raw Material</td>\n",
       "      <td>2005-03-19</td>\n",
       "      <td>2005-03-29</td>\n",
       "      <td>70.35</td>\n",
       "      <td>70.35</td>\n",
       "      <td>Approve in Full</td>\n",
       "    </tr>\n",
       "  </tbody>\n",
       "</table>\n",
       "<p>34110 rows × 12 columns</p>\n",
       "</div>"
      ],
      "text/plain": [
       "      Claim Number City Code       City             Enterprise Type  \\\n",
       "0       DQW1NZO0PL       NSK     Nashik      Public Limited Company   \n",
       "1       JS5GAPRN5B       BOM     Mumbai          One Person Company   \n",
       "2       ZTSVAQSEAQ       LKO    Lucknow      Public Limited Company   \n",
       "3       EW7NWHI7LI       DEL      Delhi         Sole Proprietorship   \n",
       "4       UJOFDC41EL       DEL      Delhi          One Person Company   \n",
       "...            ...       ...        ...                         ...   \n",
       "34105   5CFGWQ6IR5       AGR       Agra      Public Limited Company   \n",
       "34106   QQ6EAWA4Q5       LKO    Lucknow            Partnership Firm   \n",
       "34107   X1J58PT1J5       HYD  Hyderabad          One Person Company   \n",
       "34108   AGOXXE8KII       MAA    Chennai         Sole Proprietorship   \n",
       "34109   WT5RH23GPC       LKO    Lucknow  Private Ltd. MSME - Medium   \n",
       "\n",
       "            Claim Type  Claim Site  \\\n",
       "0        Property Loss  In Transit   \n",
       "1        Property Loss  In Transit   \n",
       "2        Property Loss  In Transit   \n",
       "3        Property Loss  In Transit   \n",
       "4        Property Loss  In Transit   \n",
       "...                ...         ...   \n",
       "34105    Property Loss  In Transit   \n",
       "34106  Property Damage  In Transit   \n",
       "34107  Property Damage  In Transit   \n",
       "34108  Property Damage   Warehouse   \n",
       "34109    Property Loss  In Transit   \n",
       "\n",
       "                                  Product Insured Incident Date Date Received  \\\n",
       "0                        Inventory - Raw Material    2007-05-25    2007-07-06   \n",
       "1      Cameras and other Misc. Security Equipment    2006-09-17    2006-09-27   \n",
       "2                                        Fixtures    2006-06-12    2006-07-17   \n",
       "3                                Pumps and Motors    2005-11-13    2005-12-05   \n",
       "4                         Misc. Engineering Tools    2008-07-28    2008-08-12   \n",
       "...                                           ...           ...           ...   \n",
       "34105                     Misc. Engineering Tools    2005-12-19    2006-03-21   \n",
       "34106                      Misc. Electronic Items    2007-01-08    2007-01-16   \n",
       "34107                      Misc. Electronic Items    2005-09-19    2005-10-18   \n",
       "34108                            Pumps and Motors    2009-04-14    2009-09-09   \n",
       "34109                    Inventory - Raw Material    2005-03-19    2005-03-29   \n",
       "\n",
       "       Claim Amount  Close Amount      Disposition  \n",
       "0            490.00          0.00             Deny  \n",
       "1            300.00        150.00           Settle  \n",
       "2             83.98         83.98  Approve in Full  \n",
       "3            507.88          0.00             Deny  \n",
       "4             83.46         41.73           Settle  \n",
       "...             ...           ...              ...  \n",
       "34105        238.00        115.60           Settle  \n",
       "34106          7.00          0.00             Deny  \n",
       "34107        166.00         70.00           Settle  \n",
       "34108        450.00        280.00           Settle  \n",
       "34109         70.35         70.35  Approve in Full  \n",
       "\n",
       "[34110 rows x 12 columns]"
      ]
     },
     "execution_count": 204,
     "metadata": {},
     "output_type": "execute_result"
    }
   ],
   "source": [
    "train_ins"
   ]
  },
  {
   "cell_type": "code",
   "execution_count": 205,
   "id": "86546100",
   "metadata": {
    "colab": {
     "base_uri": "https://localhost:8080/"
    },
    "executionInfo": {
     "elapsed": 60,
     "status": "ok",
     "timestamp": 1669195018980,
     "user": {
      "displayName": "N160079 GANIREDDY NOOKA PARAMESH",
      "userId": "09024512965911926212"
     },
     "user_tz": -330
    },
    "id": "86546100",
    "outputId": "e86b7e4c-76a7-416c-94d9-5471f0d9bb32"
   },
   "outputs": [
    {
     "data": {
      "text/plain": [
       "Claim Number       0\n",
       "City Code          0\n",
       "City               0\n",
       "Enterprise Type    0\n",
       "Claim Type         0\n",
       "Claim Site         0\n",
       "Product Insured    0\n",
       "Incident Date      0\n",
       "Date Received      0\n",
       "Claim Amount       0\n",
       "Close Amount       0\n",
       "Disposition        0\n",
       "dtype: int64"
      ]
     },
     "execution_count": 205,
     "metadata": {},
     "output_type": "execute_result"
    }
   ],
   "source": [
    "#finding the null values\n",
    "train_data.isnull().sum()"
   ]
  },
  {
   "cell_type": "markdown",
   "id": "207eff0d",
   "metadata": {
    "id": "207eff0d"
   },
   "source": [
    "## To find the average % of claims received when the claim is 'Settled' "
   ]
  },
  {
   "cell_type": "code",
   "execution_count": 206,
   "id": "007d64a9",
   "metadata": {
    "id": "007d64a9"
   },
   "outputs": [],
   "source": [
    "\n",
    "in1=train_data.groupby(['Disposition','Claim Type']).size().reset_index().rename(columns={0:'size'})"
   ]
  },
  {
   "cell_type": "code",
   "execution_count": 207,
   "id": "e806b0a6",
   "metadata": {
    "colab": {
     "base_uri": "https://localhost:8080/",
     "height": 143
    },
    "executionInfo": {
     "elapsed": 52,
     "status": "ok",
     "timestamp": 1669195018982,
     "user": {
      "displayName": "N160079 GANIREDDY NOOKA PARAMESH",
      "userId": "09024512965911926212"
     },
     "user_tz": -330
    },
    "id": "e806b0a6",
    "outputId": "247f2e4b-0576-4b9f-a2ca-9e8fa0482bdc"
   },
   "outputs": [
    {
     "data": {
      "text/html": [
       "<div>\n",
       "<style scoped>\n",
       "    .dataframe tbody tr th:only-of-type {\n",
       "        vertical-align: middle;\n",
       "    }\n",
       "\n",
       "    .dataframe tbody tr th {\n",
       "        vertical-align: top;\n",
       "    }\n",
       "\n",
       "    .dataframe thead th {\n",
       "        text-align: right;\n",
       "    }\n",
       "</style>\n",
       "<table border=\"1\" class=\"dataframe\">\n",
       "  <thead>\n",
       "    <tr style=\"text-align: right;\">\n",
       "      <th></th>\n",
       "      <th>Disposition</th>\n",
       "      <th>size</th>\n",
       "    </tr>\n",
       "  </thead>\n",
       "  <tbody>\n",
       "    <tr>\n",
       "      <th>0</th>\n",
       "      <td>Approve in Full</td>\n",
       "      <td>9052</td>\n",
       "    </tr>\n",
       "    <tr>\n",
       "      <th>1</th>\n",
       "      <td>Deny</td>\n",
       "      <td>17848</td>\n",
       "    </tr>\n",
       "    <tr>\n",
       "      <th>2</th>\n",
       "      <td>Settle</td>\n",
       "      <td>7210</td>\n",
       "    </tr>\n",
       "  </tbody>\n",
       "</table>\n",
       "</div>"
      ],
      "text/plain": [
       "       Disposition   size\n",
       "0  Approve in Full   9052\n",
       "1             Deny  17848\n",
       "2           Settle   7210"
      ]
     },
     "execution_count": 207,
     "metadata": {},
     "output_type": "execute_result"
    }
   ],
   "source": [
    "insight1=in1.groupby(by='Disposition',axis=0).sum().reset_index() #using groupby attribute \n",
    "insight1.head()"
   ]
  },
  {
   "cell_type": "code",
   "execution_count": 208,
   "id": "f91bfcf3",
   "metadata": {
    "id": "f91bfcf3"
   },
   "outputs": [],
   "source": [
    "insight1['size']=insight1['size']/sum(insight1['size'])  # to get the average percentage"
   ]
  },
  {
   "cell_type": "code",
   "execution_count": 209,
   "id": "c74ad07b",
   "metadata": {
    "colab": {
     "base_uri": "https://localhost:8080/",
     "height": 143
    },
    "executionInfo": {
     "elapsed": 53,
     "status": "ok",
     "timestamp": 1669195018986,
     "user": {
      "displayName": "N160079 GANIREDDY NOOKA PARAMESH",
      "userId": "09024512965911926212"
     },
     "user_tz": -330
    },
    "id": "c74ad07b",
    "outputId": "4e71b9cc-f853-48d0-d291-57aba0cc55f3"
   },
   "outputs": [
    {
     "data": {
      "text/html": [
       "<div>\n",
       "<style scoped>\n",
       "    .dataframe tbody tr th:only-of-type {\n",
       "        vertical-align: middle;\n",
       "    }\n",
       "\n",
       "    .dataframe tbody tr th {\n",
       "        vertical-align: top;\n",
       "    }\n",
       "\n",
       "    .dataframe thead th {\n",
       "        text-align: right;\n",
       "    }\n",
       "</style>\n",
       "<table border=\"1\" class=\"dataframe\">\n",
       "  <thead>\n",
       "    <tr style=\"text-align: right;\">\n",
       "      <th></th>\n",
       "      <th>Disposition</th>\n",
       "      <th>size</th>\n",
       "    </tr>\n",
       "  </thead>\n",
       "  <tbody>\n",
       "    <tr>\n",
       "      <th>0</th>\n",
       "      <td>Approve in Full</td>\n",
       "      <td>0.265377</td>\n",
       "    </tr>\n",
       "    <tr>\n",
       "      <th>1</th>\n",
       "      <td>Deny</td>\n",
       "      <td>0.523248</td>\n",
       "    </tr>\n",
       "    <tr>\n",
       "      <th>2</th>\n",
       "      <td>Settle</td>\n",
       "      <td>0.211375</td>\n",
       "    </tr>\n",
       "  </tbody>\n",
       "</table>\n",
       "</div>"
      ],
      "text/plain": [
       "       Disposition      size\n",
       "0  Approve in Full  0.265377\n",
       "1             Deny  0.523248\n",
       "2           Settle  0.211375"
      ]
     },
     "execution_count": 209,
     "metadata": {},
     "output_type": "execute_result"
    }
   ],
   "source": [
    "insight1.head()"
   ]
  },
  {
   "cell_type": "markdown",
   "id": "f194407c",
   "metadata": {},
   "source": []
  },
  {
   "cell_type": "code",
   "execution_count": 210,
   "id": "db8efb2a",
   "metadata": {
    "colab": {
     "base_uri": "https://localhost:8080/",
     "height": 296
    },
    "executionInfo": {
     "elapsed": 52,
     "status": "ok",
     "timestamp": 1669195018987,
     "user": {
      "displayName": "N160079 GANIREDDY NOOKA PARAMESH",
      "userId": "09024512965911926212"
     },
     "user_tz": -330
    },
    "id": "db8efb2a",
    "outputId": "a70e1b9a-164a-47d0-992a-8ff8406bc267",
    "scrolled": true
   },
   "outputs": [
    {
     "data": {
      "text/plain": [
       "<AxesSubplot: xlabel='Disposition', ylabel='size'>"
      ]
     },
     "execution_count": 210,
     "metadata": {},
     "output_type": "execute_result"
    },
    {
     "data": {
      "image/png": "[encoded data removed]",
      "text/plain": [
       "<Figure size 360x288 with 1 Axes>"
      ]
     },
     "metadata": {},
     "output_type": "display_data"
    }
   ],
   "source": [
    "#plotting the sizes of Disposition using barpolot\n",
    "plt.figure(figsize=(5,4))\n",
    "sns.barplot(insight1['Disposition'],insight1['size'])"
   ]
  },
  {
   "cell_type": "markdown",
   "id": "1098754a",
   "metadata": {
    "id": "1098754a"
   },
   "source": [
    "## To find Which 'Product' has the highest delay in Reporting (In days)"
   ]
  },
  {
   "cell_type": "code",
   "execution_count": 211,
   "id": "5beab223",
   "metadata": {
    "colab": {
     "base_uri": "https://localhost:8080/"
    },
    "executionInfo": {
     "elapsed": 48,
     "status": "ok",
     "timestamp": 1669195018990,
     "user": {
      "displayName": "N160079 GANIREDDY NOOKA PARAMESH",
      "userId": "09024512965911926212"
     },
     "user_tz": -330
    },
    "id": "5beab223",
    "outputId": "c75fd5b5-0896-4112-e5e5-e065bf886336"
   },
   "outputs": [
    {
     "data": {
      "text/plain": [
       "Claim Number               object\n",
       "City Code                  object\n",
       "City                       object\n",
       "Enterprise Type            object\n",
       "Claim Type                 object\n",
       "Claim Site                 object\n",
       "Product Insured            object\n",
       "Incident Date      datetime64[ns]\n",
       "Date Received      datetime64[ns]\n",
       "Claim Amount              float64\n",
       "Close Amount              float64\n",
       "Disposition                object\n",
       "dtype: object"
      ]
     },
     "execution_count": 211,
     "metadata": {},
     "output_type": "execute_result"
    }
   ],
   "source": [
    "train_ins.dtypes"
   ]
  },
  {
   "cell_type": "code",
   "execution_count": null,
   "id": "20816668",
   "metadata": {},
   "outputs": [],
   "source": []
  },
  {
   "cell_type": "code",
   "execution_count": 212,
   "id": "1999d4d9",
   "metadata": {
    "id": "1999d4d9"
   },
   "outputs": [],
   "source": [
    "# to get delay period by subtracting from Date Received and Incident Date\n",
    "train_ins['Reporting delay']=(train_ins['Date Received']-train_ins['Incident Date'] ).dt.days"
   ]
  },
  {
   "cell_type": "code",
   "execution_count": 214,
   "id": "664268e4",
   "metadata": {},
   "outputs": [
    {
     "data": {
      "text/html": [
       "<div>\n",
       "<style scoped>\n",
       "    .dataframe tbody tr th:only-of-type {\n",
       "        vertical-align: middle;\n",
       "    }\n",
       "\n",
       "    .dataframe tbody tr th {\n",
       "        vertical-align: top;\n",
       "    }\n",
       "\n",
       "    .dataframe thead th {\n",
       "        text-align: right;\n",
       "    }\n",
       "</style>\n",
       "<table border=\"1\" class=\"dataframe\">\n",
       "  <thead>\n",
       "    <tr style=\"text-align: right;\">\n",
       "      <th></th>\n",
       "      <th>Claim Number</th>\n",
       "      <th>City Code</th>\n",
       "      <th>City</th>\n",
       "      <th>Enterprise Type</th>\n",
       "      <th>Claim Type</th>\n",
       "      <th>Claim Site</th>\n",
       "      <th>Product Insured</th>\n",
       "      <th>Incident Date</th>\n",
       "      <th>Date Received</th>\n",
       "      <th>Claim Amount</th>\n",
       "      <th>Close Amount</th>\n",
       "      <th>Disposition</th>\n",
       "      <th>Reporting delay</th>\n",
       "    </tr>\n",
       "  </thead>\n",
       "  <tbody>\n",
       "    <tr>\n",
       "      <th>0</th>\n",
       "      <td>DQW1NZO0PL</td>\n",
       "      <td>NSK</td>\n",
       "      <td>Nashik</td>\n",
       "      <td>Public Limited Company</td>\n",
       "      <td>Property Loss</td>\n",
       "      <td>In Transit</td>\n",
       "      <td>Inventory - Raw Material</td>\n",
       "      <td>2007-05-25</td>\n",
       "      <td>2007-07-06</td>\n",
       "      <td>490.00</td>\n",
       "      <td>0.00</td>\n",
       "      <td>Deny</td>\n",
       "      <td>42</td>\n",
       "    </tr>\n",
       "    <tr>\n",
       "      <th>1</th>\n",
       "      <td>JS5GAPRN5B</td>\n",
       "      <td>BOM</td>\n",
       "      <td>Mumbai</td>\n",
       "      <td>One Person Company</td>\n",
       "      <td>Property Loss</td>\n",
       "      <td>In Transit</td>\n",
       "      <td>Cameras and other Misc. Security Equipment</td>\n",
       "      <td>2006-09-17</td>\n",
       "      <td>2006-09-27</td>\n",
       "      <td>300.00</td>\n",
       "      <td>150.00</td>\n",
       "      <td>Settle</td>\n",
       "      <td>10</td>\n",
       "    </tr>\n",
       "    <tr>\n",
       "      <th>2</th>\n",
       "      <td>ZTSVAQSEAQ</td>\n",
       "      <td>LKO</td>\n",
       "      <td>Lucknow</td>\n",
       "      <td>Public Limited Company</td>\n",
       "      <td>Property Loss</td>\n",
       "      <td>In Transit</td>\n",
       "      <td>Fixtures</td>\n",
       "      <td>2006-06-12</td>\n",
       "      <td>2006-07-17</td>\n",
       "      <td>83.98</td>\n",
       "      <td>83.98</td>\n",
       "      <td>Approve in Full</td>\n",
       "      <td>35</td>\n",
       "    </tr>\n",
       "    <tr>\n",
       "      <th>3</th>\n",
       "      <td>EW7NWHI7LI</td>\n",
       "      <td>DEL</td>\n",
       "      <td>Delhi</td>\n",
       "      <td>Sole Proprietorship</td>\n",
       "      <td>Property Loss</td>\n",
       "      <td>In Transit</td>\n",
       "      <td>Pumps and Motors</td>\n",
       "      <td>2005-11-13</td>\n",
       "      <td>2005-12-05</td>\n",
       "      <td>507.88</td>\n",
       "      <td>0.00</td>\n",
       "      <td>Deny</td>\n",
       "      <td>22</td>\n",
       "    </tr>\n",
       "    <tr>\n",
       "      <th>4</th>\n",
       "      <td>UJOFDC41EL</td>\n",
       "      <td>DEL</td>\n",
       "      <td>Delhi</td>\n",
       "      <td>One Person Company</td>\n",
       "      <td>Property Loss</td>\n",
       "      <td>In Transit</td>\n",
       "      <td>Misc. Engineering Tools</td>\n",
       "      <td>2008-07-28</td>\n",
       "      <td>2008-08-12</td>\n",
       "      <td>83.46</td>\n",
       "      <td>41.73</td>\n",
       "      <td>Settle</td>\n",
       "      <td>15</td>\n",
       "    </tr>\n",
       "    <tr>\n",
       "      <th>...</th>\n",
       "      <td>...</td>\n",
       "      <td>...</td>\n",
       "      <td>...</td>\n",
       "      <td>...</td>\n",
       "      <td>...</td>\n",
       "      <td>...</td>\n",
       "      <td>...</td>\n",
       "      <td>...</td>\n",
       "      <td>...</td>\n",
       "      <td>...</td>\n",
       "      <td>...</td>\n",
       "      <td>...</td>\n",
       "      <td>...</td>\n",
       "    </tr>\n",
       "    <tr>\n",
       "      <th>34105</th>\n",
       "      <td>5CFGWQ6IR5</td>\n",
       "      <td>AGR</td>\n",
       "      <td>Agra</td>\n",
       "      <td>Public Limited Company</td>\n",
       "      <td>Property Loss</td>\n",
       "      <td>In Transit</td>\n",
       "      <td>Misc. Engineering Tools</td>\n",
       "      <td>2005-12-19</td>\n",
       "      <td>2006-03-21</td>\n",
       "      <td>238.00</td>\n",
       "      <td>115.60</td>\n",
       "      <td>Settle</td>\n",
       "      <td>92</td>\n",
       "    </tr>\n",
       "    <tr>\n",
       "      <th>34106</th>\n",
       "      <td>QQ6EAWA4Q5</td>\n",
       "      <td>LKO</td>\n",
       "      <td>Lucknow</td>\n",
       "      <td>Partnership Firm</td>\n",
       "      <td>Property Damage</td>\n",
       "      <td>In Transit</td>\n",
       "      <td>Misc. Electronic Items</td>\n",
       "      <td>2007-01-08</td>\n",
       "      <td>2007-01-16</td>\n",
       "      <td>7.00</td>\n",
       "      <td>0.00</td>\n",
       "      <td>Deny</td>\n",
       "      <td>8</td>\n",
       "    </tr>\n",
       "    <tr>\n",
       "      <th>34107</th>\n",
       "      <td>X1J58PT1J5</td>\n",
       "      <td>HYD</td>\n",
       "      <td>Hyderabad</td>\n",
       "      <td>One Person Company</td>\n",
       "      <td>Property Damage</td>\n",
       "      <td>In Transit</td>\n",
       "      <td>Misc. Electronic Items</td>\n",
       "      <td>2005-09-19</td>\n",
       "      <td>2005-10-18</td>\n",
       "      <td>166.00</td>\n",
       "      <td>70.00</td>\n",
       "      <td>Settle</td>\n",
       "      <td>29</td>\n",
       "    </tr>\n",
       "    <tr>\n",
       "      <th>34108</th>\n",
       "      <td>AGOXXE8KII</td>\n",
       "      <td>MAA</td>\n",
       "      <td>Chennai</td>\n",
       "      <td>Sole Proprietorship</td>\n",
       "      <td>Property Damage</td>\n",
       "      <td>Warehouse</td>\n",
       "      <td>Pumps and Motors</td>\n",
       "      <td>2009-04-14</td>\n",
       "      <td>2009-09-09</td>\n",
       "      <td>450.00</td>\n",
       "      <td>280.00</td>\n",
       "      <td>Settle</td>\n",
       "      <td>148</td>\n",
       "    </tr>\n",
       "    <tr>\n",
       "      <th>34109</th>\n",
       "      <td>WT5RH23GPC</td>\n",
       "      <td>LKO</td>\n",
       "      <td>Lucknow</td>\n",
       "      <td>Private Ltd. MSME - Medium</td>\n",
       "      <td>Property Loss</td>\n",
       "      <td>In Transit</td>\n",
       "      <td>Inventory - Raw Material</td>\n",
       "      <td>2005-03-19</td>\n",
       "      <td>2005-03-29</td>\n",
       "      <td>70.35</td>\n",
       "      <td>70.35</td>\n",
       "      <td>Approve in Full</td>\n",
       "      <td>10</td>\n",
       "    </tr>\n",
       "  </tbody>\n",
       "</table>\n",
       "<p>34110 rows × 13 columns</p>\n",
       "</div>"
      ],
      "text/plain": [
       "      Claim Number City Code       City             Enterprise Type  \\\n",
       "0       DQW1NZO0PL       NSK     Nashik      Public Limited Company   \n",
       "1       JS5GAPRN5B       BOM     Mumbai          One Person Company   \n",
       "2       ZTSVAQSEAQ       LKO    Lucknow      Public Limited Company   \n",
       "3       EW7NWHI7LI       DEL      Delhi         Sole Proprietorship   \n",
       "4       UJOFDC41EL       DEL      Delhi          One Person Company   \n",
       "...            ...       ...        ...                         ...   \n",
       "34105   5CFGWQ6IR5       AGR       Agra      Public Limited Company   \n",
       "34106   QQ6EAWA4Q5       LKO    Lucknow            Partnership Firm   \n",
       "34107   X1J58PT1J5       HYD  Hyderabad          One Person Company   \n",
       "34108   AGOXXE8KII       MAA    Chennai         Sole Proprietorship   \n",
       "34109   WT5RH23GPC       LKO    Lucknow  Private Ltd. MSME - Medium   \n",
       "\n",
       "            Claim Type  Claim Site  \\\n",
       "0        Property Loss  In Transit   \n",
       "1        Property Loss  In Transit   \n",
       "2        Property Loss  In Transit   \n",
       "3        Property Loss  In Transit   \n",
       "4        Property Loss  In Transit   \n",
       "...                ...         ...   \n",
       "34105    Property Loss  In Transit   \n",
       "34106  Property Damage  In Transit   \n",
       "34107  Property Damage  In Transit   \n",
       "34108  Property Damage   Warehouse   \n",
       "34109    Property Loss  In Transit   \n",
       "\n",
       "                                  Product Insured Incident Date Date Received  \\\n",
       "0                        Inventory - Raw Material    2007-05-25    2007-07-06   \n",
       "1      Cameras and other Misc. Security Equipment    2006-09-17    2006-09-27   \n",
       "2                                        Fixtures    2006-06-12    2006-07-17   \n",
       "3                                Pumps and Motors    2005-11-13    2005-12-05   \n",
       "4                         Misc. Engineering Tools    2008-07-28    2008-08-12   \n",
       "...                                           ...           ...           ...   \n",
       "34105                     Misc. Engineering Tools    2005-12-19    2006-03-21   \n",
       "34106                      Misc. Electronic Items    2007-01-08    2007-01-16   \n",
       "34107                      Misc. Electronic Items    2005-09-19    2005-10-18   \n",
       "34108                            Pumps and Motors    2009-04-14    2009-09-09   \n",
       "34109                    Inventory - Raw Material    2005-03-19    2005-03-29   \n",
       "\n",
       "       Claim Amount  Close Amount      Disposition  Reporting delay  \n",
       "0            490.00          0.00             Deny               42  \n",
       "1            300.00        150.00           Settle               10  \n",
       "2             83.98         83.98  Approve in Full               35  \n",
       "3            507.88          0.00             Deny               22  \n",
       "4             83.46         41.73           Settle               15  \n",
       "...             ...           ...              ...              ...  \n",
       "34105        238.00        115.60           Settle               92  \n",
       "34106          7.00          0.00             Deny                8  \n",
       "34107        166.00         70.00           Settle               29  \n",
       "34108        450.00        280.00           Settle              148  \n",
       "34109         70.35         70.35  Approve in Full               10  \n",
       "\n",
       "[34110 rows x 13 columns]"
      ]
     },
     "execution_count": 214,
     "metadata": {},
     "output_type": "execute_result"
    }
   ],
   "source": [
    "#adding delay period for all Claims\n",
    "train_ins"
   ]
  },
  {
   "cell_type": "code",
   "execution_count": null,
   "id": "74fc1338",
   "metadata": {},
   "outputs": [],
   "source": [
    "in5=train_ins.groupby(['Product Insured','Reporting delay']).size()\n",
    "insight3=in5.groupby(by='Product Insured',axis=0).sum().reset_index() #using groupby attribute \n",
    "insight3"
   ]
  },
  {
   "cell_type": "code",
   "execution_count": 213,
   "id": "db7b4978",
   "metadata": {
    "colab": {
     "base_uri": "https://localhost:8080/",
     "height": 625
    },
    "executionInfo": {
     "elapsed": 1520,
     "status": "ok",
     "timestamp": 1669195020469,
     "user": {
      "displayName": "N160079 GANIREDDY NOOKA PARAMESH",
      "userId": "09024512965911926212"
     },
     "user_tz": -330
    },
    "id": "db7b4978",
    "outputId": "622cb9df-a225-473c-8a7a-4a89c1579132"
   },
   "outputs": [
    {
     "data": {
      "text/plain": [
       "<AxesSubplot: xlabel='Product Insured', ylabel='Reporting delay'>"
      ]
     },
     "execution_count": 213,
     "metadata": {},
     "output_type": "execute_result"
    },
    {
     "data": {
      "image/png": "[encoded data removed]",
      "text/plain": [
       "<Figure size 1490.4x739.44 with 1 Axes>"
      ]
     },
     "metadata": {},
     "output_type": "display_data"
    }
   ],
   "source": [
    "#plotting how the reporting delay for different for Product Insured\n",
    "sns.set(rc={'figure.figsize':(20.7,10.27)})\n",
    "sns.barplot(train_ins['Product Insured'],train_ins['Reporting delay'])"
   ]
  },
  {
   "cell_type": "code",
   "execution_count": null,
   "id": "be2a3ceb",
   "metadata": {
    "id": "be2a3ceb"
   },
   "outputs": [],
   "source": []
  },
  {
   "cell_type": "code",
   "execution_count": 303,
   "id": "da920a58",
   "metadata": {
    "colab": {
     "base_uri": "https://localhost:8080/",
     "height": 356
    },
    "executionInfo": {
     "elapsed": 49,
     "status": "ok",
     "timestamp": 1669195020481,
     "user": {
      "displayName": "N160079 GANIREDDY NOOKA PARAMESH",
      "userId": "09024512965911926212"
     },
     "user_tz": -330
    },
    "id": "da920a58",
    "outputId": "1f155fcd-808b-4ba5-d27b-6885f48ac811"
   },
   "outputs": [
    {
     "data": {
      "text/plain": [
       "<AxesSubplot: title={'center': 'no of claim types'}, xlabel='Claim Type', ylabel='count'>"
      ]
     },
     "execution_count": 303,
     "metadata": {},
     "output_type": "execute_result"
    },
    {
     "data": {
      "image/png": "[encoded data removed]",
      "text/plain": [
       "<Figure size 360x360 with 1 Axes>"
      ]
     },
     "metadata": {},
     "output_type": "display_data"
    }
   ],
   "source": [
    "#plotting for number of different Claim types\n",
    "plt.figure(figsize=(5,5))\n",
    "plt.title('no of claim types')\n",
    "sns.countplot(train_ins['Claim Type'])"
   ]
  },
  {
   "cell_type": "code",
   "execution_count": 302,
   "id": "CP4G6W3R0Dse",
   "metadata": {
    "id": "CP4G6W3R0Dse"
   },
   "outputs": [
    {
     "data": {
      "text/plain": [
       "<AxesSubplot: title={'center': 'no of incidents in each city'}, xlabel='City', ylabel='count'>"
      ]
     },
     "execution_count": 302,
     "metadata": {},
     "output_type": "execute_result"
    },
    {
     "data": {
      "image/png": "[encoded data removed]",
      "text/plain": [
       "<Figure size 1224x576 with 1 Axes>"
      ]
     },
     "metadata": {},
     "output_type": "display_data"
    }
   ],
   "source": [
    "# plot for cities having number of incidents and finding out the city which is having highest number of incidents\n",
    "plt.figure(figsize=(17,8))\n",
    "plt.title('no of incidents in each city')\n",
    "sns.countplot(train_ins['City'])"
   ]
  },
  {
   "cell_type": "code",
   "execution_count": 301,
   "id": "TpX_fPSp0gIA",
   "metadata": {
    "id": "TpX_fPSp0gIA",
    "scrolled": true
   },
   "outputs": [
    {
     "data": {
      "text/plain": [
       "<AxesSubplot: title={'center': 'scatter plot'}, xlabel='Close Amount', ylabel='Claim Amount'>"
      ]
     },
     "execution_count": 301,
     "metadata": {},
     "output_type": "execute_result"
    },
    {
     "data": {
      "image/png": "[encoded data removed]",
      "text/plain": [
       "<Figure size 360x360 with 1 Axes>"
      ]
     },
     "metadata": {},
     "output_type": "display_data"
    }
   ],
   "source": [
    "#plot for how claim type and claim amount varies \n",
    "#from this plot the property loss \n",
    "plt.figure(figsize=(5,5))\n",
    "plt.title('scatter plot')\n",
    "sns.scatterplot('Close Amount','Claim Amount',hue='Claim Type',data=train_ins)"
   ]
  },
  {
   "cell_type": "code",
   "execution_count": 300,
   "id": "6fd7185a",
   "metadata": {},
   "outputs": [
    {
     "data": {
      "text/plain": [
       "<AxesSubplot: xlabel='Product Insured', ylabel='Close Amount'>"
      ]
     },
     "execution_count": 300,
     "metadata": {},
     "output_type": "execute_result"
    },
    {
     "data": {
      "image/png": "[encoded data removed]",
      "text/plain": [
       "<Figure size 1490.4x739.44 with 1 Axes>"
      ]
     },
     "metadata": {},
     "output_type": "display_data"
    }
   ],
   "source": [
    "#people Report Products with more value earlier compared to Products with less value\n",
    "sns.barplot(train_ins['Product Insured'],train_ins['Close Amount'])"
   ]
  },
  {
   "cell_type": "code",
   "execution_count": null,
   "id": "ba3ff3aa",
   "metadata": {},
   "outputs": [],
   "source": [
    "in4=main.groupby(['Product Insured','Close Amount']).sum()\n",
    "insight=in4.groupby(by='Product Insured',axis=0).sum().reset_index() #using groupby attribute \n",
    "insight"
   ]
  },
  {
   "cell_type": "code",
   "execution_count": 218,
   "id": "u5AZxwb4xyDK",
   "metadata": {
    "executionInfo": {
     "elapsed": 3,
     "status": "ok",
     "timestamp": 1669195605945,
     "user": {
      "displayName": "N160079 GANIREDDY NOOKA PARAMESH",
      "userId": "09024512965911926212"
     },
     "user_tz": -330
    },
    "id": "u5AZxwb4xyDK"
   },
   "outputs": [],
   "source": [
    "#assigning numerical data feature sinto list\n",
    "nume=['Claim Amount','Close Amount']"
   ]
  },
  {
   "cell_type": "code",
   "execution_count": 219,
   "id": "P-z1pyZ6yPBU",
   "metadata": {
    "id": "P-z1pyZ6yPBU"
   },
   "outputs": [],
   "source": [
    "#again i created copied data from train_data for the sake of boxplot \n",
    "train_new=train_data.copy()"
   ]
  },
  {
   "cell_type": "code",
   "execution_count": null,
   "id": "0e0cc8ab",
   "metadata": {},
   "outputs": [],
   "source": []
  },
  {
   "cell_type": "code",
   "execution_count": 148,
   "id": "e3164331",
   "metadata": {
    "id": "e3164331"
   },
   "outputs": [
    {
     "data": {
      "text/plain": [
       "(26565, 12)"
      ]
     },
     "execution_count": 148,
     "metadata": {},
     "output_type": "execute_result"
    }
   ],
   "source": [
    "#creating new dataframe removing outliers in both claim amount and close amount\n",
    "for col in nume:\n",
    "    train_new[col].sort_values()\n",
    "    q1=train_new[col].quantile(0.25)\n",
    "    q3=train_new[col].quantile(0.75)\n",
    "    IQR=q3-q1\n",
    "    upper_whisker=q3+(1.5*IQR)\n",
    "    lower_whisker=q1-(1.5*IQR)\n",
    "    #train_new[col]=np.where(train_new[col]>upper_whisker,upper_whisker,np.where(train_new[col]<lower_whisker,lower_whisker,train_new[col]))\n",
    "    #train_new.drop([train_new[col]],axis=1)\n",
    "    index = train_new[ (train_new[col] > upper_whisker) | (train_new[col] < lower_whisker)].index\n",
    "    train_new.drop(index,inplace=True)\n",
    "train_new.shape"
   ]
  },
  {
   "cell_type": "code",
   "execution_count": null,
   "id": "9d51b136",
   "metadata": {},
   "outputs": [],
   "source": []
  },
  {
   "cell_type": "code",
   "execution_count": 149,
   "id": "8bltP-7iyW0T",
   "metadata": {
    "id": "8bltP-7iyW0T",
    "scrolled": false
   },
   "outputs": [
    {
     "name": "stderr",
     "output_type": "stream",
     "text": [
      "No artists with labels found to put in legend.  Note that artists whose label start with an underscore are ignored when legend() is called with no argument.\n",
      "No artists with labels found to put in legend.  Note that artists whose label start with an underscore are ignored when legend() is called with no argument.\n"
     ]
    },
    {
     "data": {
      "image/png": "[encoded data removed]",
      "text/plain": [
       "<Figure size 1080x216 with 2 Axes>"
      ]
     },
     "metadata": {},
     "output_type": "display_data"
    },
    {
     "name": "stderr",
     "output_type": "stream",
     "text": [
      "No artists with labels found to put in legend.  Note that artists whose label start with an underscore are ignored when legend() is called with no argument.\n",
      "No artists with labels found to put in legend.  Note that artists whose label start with an underscore are ignored when legend() is called with no argument.\n"
     ]
    },
    {
     "data": {
      "image/png": "[encoded data removed]",
      "text/plain": [
       "<Figure size 1080x216 with 2 Axes>"
      ]
     },
     "metadata": {},
     "output_type": "display_data"
    },
    {
     "name": "stderr",
     "output_type": "stream",
     "text": [
      "No artists with labels found to put in legend.  Note that artists whose label start with an underscore are ignored when legend() is called with no argument.\n",
      "No artists with labels found to put in legend.  Note that artists whose label start with an underscore are ignored when legend() is called with no argument.\n"
     ]
    },
    {
     "data": {
      "text/plain": [
       "<Figure size 1490.4x739.44 with 0 Axes>"
      ]
     },
     "metadata": {},
     "output_type": "display_data"
    },
    {
     "data": {
      "image/png": "[encoded data removed]",
      "text/plain": [
       "<Figure size 1080x216 with 2 Axes>"
      ]
     },
     "metadata": {},
     "output_type": "display_data"
    },
    {
     "name": "stderr",
     "output_type": "stream",
     "text": [
      "No artists with labels found to put in legend.  Note that artists whose label start with an underscore are ignored when legend() is called with no argument.\n",
      "No artists with labels found to put in legend.  Note that artists whose label start with an underscore are ignored when legend() is called with no argument.\n"
     ]
    },
    {
     "data": {
      "image/png": "[encoded data removed]",
      "text/plain": [
       "<Figure size 1080x216 with 2 Axes>"
      ]
     },
     "metadata": {},
     "output_type": "display_data"
    },
    {
     "data": {
      "text/plain": [
       "<Figure size 1490.4x739.44 with 0 Axes>"
      ]
     },
     "metadata": {},
     "output_type": "display_data"
    }
   ],
   "source": [
    "\n",
    "#plots for before and after removinng outliers\n",
    "sns.set_style('dark')\n",
    "for col in train_ins[nume]:\n",
    "    plt.figure(figsize=(15,3))\n",
    "    \n",
    "    plt.subplot(141)\n",
    "    sns.distplot(train_ins[col])\n",
    "    plt.title(\"Before\")\n",
    "    plt.legend()\n",
    "    \n",
    "    plt.subplot(142)\n",
    "    sns.distplot(train_new[col])\n",
    "    plt.title(\"After\")\n",
    "    plt.legend()\n",
    "    plt.show()\n",
    "    \n",
    "    plt.figure(figsize=(15,3))\n",
    "    plt.subplot(143)\n",
    "    sns.boxplot(train_ins[col])\n",
    "    plt.title(\"Before\")\n",
    "    plt.legend(labels=None)\n",
    "    \n",
    "    plt.subplot(144)\n",
    "    sns.boxplot(train_new[col])\n",
    "    plt.title(\"After\")\n",
    "    plt.legend()\n",
    "    plt.show()\n",
    "    plt.tight_layout()"
   ]
  },
  {
   "cell_type": "code",
   "execution_count": null,
   "id": "053cb86f",
   "metadata": {},
   "outputs": [],
   "source": [
    "#train_ins['']"
   ]
  },
  {
   "cell_type": "code",
   "execution_count": 220,
   "id": "e52fee1e",
   "metadata": {},
   "outputs": [],
   "source": [
    "# I did not remove outliers"
   ]
  },
  {
   "cell_type": "markdown",
   "id": "aaaa4329",
   "metadata": {
    "id": "aaaa4329"
   },
   "source": [
    "## For model"
   ]
  },
  {
   "cell_type": "code",
   "execution_count": 150,
   "id": "3443d95f",
   "metadata": {
    "colab": {
     "base_uri": "https://localhost:8080/"
    },
    "executionInfo": {
     "elapsed": 42,
     "status": "ok",
     "timestamp": 1669195020484,
     "user": {
      "displayName": "N160079 GANIREDDY NOOKA PARAMESH",
      "userId": "09024512965911926212"
     },
     "user_tz": -330
    },
    "id": "3443d95f",
    "outputId": "ee4d9879-37d9-43a8-8ec5-6585c11e2c86"
   },
   "outputs": [
    {
     "data": {
      "text/plain": [
       "Claim Number               object\n",
       "City Code                  object\n",
       "City                       object\n",
       "Enterprise Type            object\n",
       "Claim Type                 object\n",
       "Claim Site                 object\n",
       "Product Insured            object\n",
       "Incident Date      datetime64[ns]\n",
       "Date Received      datetime64[ns]\n",
       "Claim Amount              float64\n",
       "Close Amount              float64\n",
       "Disposition                object\n",
       "dtype: object"
      ]
     },
     "execution_count": 150,
     "metadata": {},
     "output_type": "execute_result"
    }
   ],
   "source": [
    "train_data.dtypes"
   ]
  },
  {
   "cell_type": "code",
   "execution_count": 151,
   "id": "907d0cb0",
   "metadata": {
    "colab": {
     "base_uri": "https://localhost:8080/",
     "height": 206
    },
    "executionInfo": {
     "elapsed": 713,
     "status": "ok",
     "timestamp": 1669195021160,
     "user": {
      "displayName": "N160079 GANIREDDY NOOKA PARAMESH",
      "userId": "09024512965911926212"
     },
     "user_tz": -330
    },
    "id": "907d0cb0",
    "outputId": "b9168e88-f78f-4352-8f87-86755288d499"
   },
   "outputs": [
    {
     "data": {
      "text/html": [
       "<div>\n",
       "<style scoped>\n",
       "    .dataframe tbody tr th:only-of-type {\n",
       "        vertical-align: middle;\n",
       "    }\n",
       "\n",
       "    .dataframe tbody tr th {\n",
       "        vertical-align: top;\n",
       "    }\n",
       "\n",
       "    .dataframe thead th {\n",
       "        text-align: right;\n",
       "    }\n",
       "</style>\n",
       "<table border=\"1\" class=\"dataframe\">\n",
       "  <thead>\n",
       "    <tr style=\"text-align: right;\">\n",
       "      <th></th>\n",
       "      <th>Claim Number</th>\n",
       "      <th>Incident Date</th>\n",
       "      <th>Date Received</th>\n",
       "      <th>City Code</th>\n",
       "      <th>City</th>\n",
       "      <th>Enterprise Type</th>\n",
       "      <th>Claim Type</th>\n",
       "      <th>Claim Site</th>\n",
       "      <th>Product Insured</th>\n",
       "    </tr>\n",
       "  </thead>\n",
       "  <tbody>\n",
       "    <tr>\n",
       "      <th>0</th>\n",
       "      <td>6EYB31JGFR</td>\n",
       "      <td>21-09-2006</td>\n",
       "      <td>26-12-2006</td>\n",
       "      <td>PNQ</td>\n",
       "      <td>Pune</td>\n",
       "      <td>One Person Company</td>\n",
       "      <td>Property Loss</td>\n",
       "      <td>In Transit</td>\n",
       "      <td>Inventory - Finished Goods</td>\n",
       "    </tr>\n",
       "    <tr>\n",
       "      <th>1</th>\n",
       "      <td>HJLRXONE3R</td>\n",
       "      <td>15-01-2009</td>\n",
       "      <td>2009-11-02 00:00:00</td>\n",
       "      <td>PNQ</td>\n",
       "      <td>Pune</td>\n",
       "      <td>Limited Liability Parterneship (LLP)</td>\n",
       "      <td>Property Loss</td>\n",
       "      <td>In Transit</td>\n",
       "      <td>Fixtures</td>\n",
       "    </tr>\n",
       "    <tr>\n",
       "      <th>2</th>\n",
       "      <td>IUOV99JA22</td>\n",
       "      <td>17-08-2005</td>\n",
       "      <td>2005-01-09 00:00:00</td>\n",
       "      <td>AMD</td>\n",
       "      <td>Ahmedabad</td>\n",
       "      <td>Private Limited Company</td>\n",
       "      <td>Property Loss</td>\n",
       "      <td>Warehouse</td>\n",
       "      <td>Inventory - Raw Material</td>\n",
       "    </tr>\n",
       "    <tr>\n",
       "      <th>3</th>\n",
       "      <td>BGOUHQ2LKK</td>\n",
       "      <td>15-02-2005</td>\n",
       "      <td>2005-01-06 00:00:00</td>\n",
       "      <td>DEL</td>\n",
       "      <td>Delhi</td>\n",
       "      <td>One Person Company</td>\n",
       "      <td>Property Damage</td>\n",
       "      <td>In Transit</td>\n",
       "      <td>Inventory - Finished Goods</td>\n",
       "    </tr>\n",
       "    <tr>\n",
       "      <th>4</th>\n",
       "      <td>HDCG60QET1</td>\n",
       "      <td>17-03-2003</td>\n",
       "      <td>2003-01-04 00:00:00</td>\n",
       "      <td>PNQ</td>\n",
       "      <td>Pune</td>\n",
       "      <td>Private Limited Company</td>\n",
       "      <td>Property Damage</td>\n",
       "      <td>In Transit</td>\n",
       "      <td>Misc. Electronic Items</td>\n",
       "    </tr>\n",
       "  </tbody>\n",
       "</table>\n",
       "</div>"
      ],
      "text/plain": [
       "  Claim Number Incident Date        Date Received City Code       City  \\\n",
       "0   6EYB31JGFR    21-09-2006           26-12-2006       PNQ       Pune   \n",
       "1   HJLRXONE3R    15-01-2009  2009-11-02 00:00:00       PNQ       Pune   \n",
       "2   IUOV99JA22    17-08-2005  2005-01-09 00:00:00       AMD  Ahmedabad   \n",
       "3   BGOUHQ2LKK    15-02-2005  2005-01-06 00:00:00       DEL      Delhi   \n",
       "4   HDCG60QET1    17-03-2003  2003-01-04 00:00:00       PNQ       Pune   \n",
       "\n",
       "                        Enterprise Type       Claim Type  Claim Site  \\\n",
       "0                    One Person Company    Property Loss  In Transit   \n",
       "1  Limited Liability Parterneship (LLP)    Property Loss  In Transit   \n",
       "2               Private Limited Company    Property Loss   Warehouse   \n",
       "3                    One Person Company  Property Damage  In Transit   \n",
       "4               Private Limited Company  Property Damage  In Transit   \n",
       "\n",
       "              Product Insured  \n",
       "0  Inventory - Finished Goods  \n",
       "1                    Fixtures  \n",
       "2    Inventory - Raw Material  \n",
       "3  Inventory - Finished Goods  \n",
       "4      Misc. Electronic Items  "
      ]
     },
     "execution_count": 151,
     "metadata": {},
     "output_type": "execute_result"
    }
   ],
   "source": [
    "test_data.head()"
   ]
  },
  {
   "cell_type": "code",
   "execution_count": 222,
   "id": "a4b2f522",
   "metadata": {},
   "outputs": [
    {
     "data": {
      "text/plain": [
       "Claim Number       0\n",
       "City Code          0\n",
       "City               0\n",
       "Enterprise Type    0\n",
       "Claim Type         0\n",
       "Claim Site         0\n",
       "Product Insured    0\n",
       "Incident Date      0\n",
       "Date Received      0\n",
       "Claim Amount       0\n",
       "Close Amount       0\n",
       "Disposition        0\n",
       "dtype: int64"
      ]
     },
     "execution_count": 222,
     "metadata": {},
     "output_type": "execute_result"
    }
   ],
   "source": [
    "#finding the null vaues in train data\n",
    "train_data.isnull().sum()"
   ]
  },
  {
   "cell_type": "code",
   "execution_count": 152,
   "id": "9ebf7d10",
   "metadata": {
    "colab": {
     "base_uri": "https://localhost:8080/"
    },
    "executionInfo": {
     "elapsed": 731,
     "status": "ok",
     "timestamp": 1669195021181,
     "user": {
      "displayName": "N160079 GANIREDDY NOOKA PARAMESH",
      "userId": "09024512965911926212"
     },
     "user_tz": -330
    },
    "id": "9ebf7d10",
    "outputId": "3e2955d5-39cc-479c-fe46-028bd2f36a1f",
    "scrolled": true
   },
   "outputs": [
    {
     "data": {
      "text/plain": [
       "Claim Number       0\n",
       "Incident Date      0\n",
       "Date Received      0\n",
       "City Code          0\n",
       "City               0\n",
       "Enterprise Type    0\n",
       "Claim Type         0\n",
       "Claim Site         0\n",
       "Product Insured    0\n",
       "dtype: int64"
      ]
     },
     "execution_count": 152,
     "metadata": {},
     "output_type": "execute_result"
    }
   ],
   "source": [
    "#finding the null vaues in test data\n",
    "test_data.isnull().sum()"
   ]
  },
  {
   "cell_type": "code",
   "execution_count": 224,
   "id": "ef8c0ff8",
   "metadata": {
    "id": "ef8c0ff8"
   },
   "outputs": [],
   "source": [
    "#test data copied for the sake of submssion file to take id\n",
    "test_id=test_data.copy()"
   ]
  },
  {
   "cell_type": "code",
   "execution_count": 225,
   "id": "60c8254c",
   "metadata": {
    "colab": {
     "base_uri": "https://localhost:8080/",
     "height": 570
    },
    "executionInfo": {
     "elapsed": 110,
     "status": "ok",
     "timestamp": 1669195021185,
     "user": {
      "displayName": "N160079 GANIREDDY NOOKA PARAMESH",
      "userId": "09024512965911926212"
     },
     "user_tz": -330
    },
    "id": "60c8254c",
    "outputId": "05afe928-603e-419d-9970-a94fa7698aa0"
   },
   "outputs": [
    {
     "data": {
      "text/html": [
       "<div>\n",
       "<style scoped>\n",
       "    .dataframe tbody tr th:only-of-type {\n",
       "        vertical-align: middle;\n",
       "    }\n",
       "\n",
       "    .dataframe tbody tr th {\n",
       "        vertical-align: top;\n",
       "    }\n",
       "\n",
       "    .dataframe thead th {\n",
       "        text-align: right;\n",
       "    }\n",
       "</style>\n",
       "<table border=\"1\" class=\"dataframe\">\n",
       "  <thead>\n",
       "    <tr style=\"text-align: right;\">\n",
       "      <th></th>\n",
       "      <th>Claim Number</th>\n",
       "      <th>City Code</th>\n",
       "      <th>City</th>\n",
       "      <th>Enterprise Type</th>\n",
       "      <th>Claim Type</th>\n",
       "      <th>Claim Site</th>\n",
       "      <th>Product Insured</th>\n",
       "      <th>Incident Date</th>\n",
       "      <th>Date Received</th>\n",
       "      <th>Claim Amount</th>\n",
       "      <th>Close Amount</th>\n",
       "      <th>Disposition</th>\n",
       "    </tr>\n",
       "  </thead>\n",
       "  <tbody>\n",
       "    <tr>\n",
       "      <th>count</th>\n",
       "      <td>34110</td>\n",
       "      <td>34110</td>\n",
       "      <td>34110</td>\n",
       "      <td>34110</td>\n",
       "      <td>34110</td>\n",
       "      <td>34110</td>\n",
       "      <td>34110</td>\n",
       "      <td>34110</td>\n",
       "      <td>34110</td>\n",
       "      <td>34110.000000</td>\n",
       "      <td>34110.000000</td>\n",
       "      <td>34110</td>\n",
       "    </tr>\n",
       "    <tr>\n",
       "      <th>unique</th>\n",
       "      <td>34110</td>\n",
       "      <td>23</td>\n",
       "      <td>23</td>\n",
       "      <td>13</td>\n",
       "      <td>2</td>\n",
       "      <td>3</td>\n",
       "      <td>13</td>\n",
       "      <td>2685</td>\n",
       "      <td>1832</td>\n",
       "      <td>NaN</td>\n",
       "      <td>NaN</td>\n",
       "      <td>3</td>\n",
       "    </tr>\n",
       "    <tr>\n",
       "      <th>top</th>\n",
       "      <td>DQW1NZO0PL</td>\n",
       "      <td>BOM</td>\n",
       "      <td>Mumbai</td>\n",
       "      <td>Sole Proprietorship</td>\n",
       "      <td>Property Loss</td>\n",
       "      <td>In Transit</td>\n",
       "      <td>Inventory - Raw Material</td>\n",
       "      <td>2004-04-19 00:00:00</td>\n",
       "      <td>2004-04-21 00:00:00</td>\n",
       "      <td>NaN</td>\n",
       "      <td>NaN</td>\n",
       "      <td>Deny</td>\n",
       "    </tr>\n",
       "    <tr>\n",
       "      <th>freq</th>\n",
       "      <td>1</td>\n",
       "      <td>2562</td>\n",
       "      <td>2562</td>\n",
       "      <td>6259</td>\n",
       "      <td>21216</td>\n",
       "      <td>28806</td>\n",
       "      <td>8110</td>\n",
       "      <td>38</td>\n",
       "      <td>215</td>\n",
       "      <td>NaN</td>\n",
       "      <td>NaN</td>\n",
       "      <td>17848</td>\n",
       "    </tr>\n",
       "    <tr>\n",
       "      <th>first</th>\n",
       "      <td>NaN</td>\n",
       "      <td>NaN</td>\n",
       "      <td>NaN</td>\n",
       "      <td>NaN</td>\n",
       "      <td>NaN</td>\n",
       "      <td>NaN</td>\n",
       "      <td>NaN</td>\n",
       "      <td>2002-01-10 00:00:00</td>\n",
       "      <td>1994-01-05 00:00:00</td>\n",
       "      <td>NaN</td>\n",
       "      <td>NaN</td>\n",
       "      <td>NaN</td>\n",
       "    </tr>\n",
       "    <tr>\n",
       "      <th>last</th>\n",
       "      <td>NaN</td>\n",
       "      <td>NaN</td>\n",
       "      <td>NaN</td>\n",
       "      <td>NaN</td>\n",
       "      <td>NaN</td>\n",
       "      <td>NaN</td>\n",
       "      <td>NaN</td>\n",
       "      <td>2010-06-22 00:00:00</td>\n",
       "      <td>2055-05-17 00:00:00</td>\n",
       "      <td>NaN</td>\n",
       "      <td>NaN</td>\n",
       "      <td>NaN</td>\n",
       "    </tr>\n",
       "    <tr>\n",
       "      <th>mean</th>\n",
       "      <td>NaN</td>\n",
       "      <td>NaN</td>\n",
       "      <td>NaN</td>\n",
       "      <td>NaN</td>\n",
       "      <td>NaN</td>\n",
       "      <td>NaN</td>\n",
       "      <td>NaN</td>\n",
       "      <td>NaN</td>\n",
       "      <td>NaN</td>\n",
       "      <td>717.844178</td>\n",
       "      <td>104.883016</td>\n",
       "      <td>NaN</td>\n",
       "    </tr>\n",
       "    <tr>\n",
       "      <th>std</th>\n",
       "      <td>NaN</td>\n",
       "      <td>NaN</td>\n",
       "      <td>NaN</td>\n",
       "      <td>NaN</td>\n",
       "      <td>NaN</td>\n",
       "      <td>NaN</td>\n",
       "      <td>NaN</td>\n",
       "      <td>NaN</td>\n",
       "      <td>NaN</td>\n",
       "      <td>8290.881802</td>\n",
       "      <td>1393.564677</td>\n",
       "      <td>NaN</td>\n",
       "    </tr>\n",
       "    <tr>\n",
       "      <th>min</th>\n",
       "      <td>NaN</td>\n",
       "      <td>NaN</td>\n",
       "      <td>NaN</td>\n",
       "      <td>NaN</td>\n",
       "      <td>NaN</td>\n",
       "      <td>NaN</td>\n",
       "      <td>NaN</td>\n",
       "      <td>NaN</td>\n",
       "      <td>NaN</td>\n",
       "      <td>0.000000</td>\n",
       "      <td>0.000000</td>\n",
       "      <td>NaN</td>\n",
       "    </tr>\n",
       "    <tr>\n",
       "      <th>25%</th>\n",
       "      <td>NaN</td>\n",
       "      <td>NaN</td>\n",
       "      <td>NaN</td>\n",
       "      <td>NaN</td>\n",
       "      <td>NaN</td>\n",
       "      <td>NaN</td>\n",
       "      <td>NaN</td>\n",
       "      <td>NaN</td>\n",
       "      <td>NaN</td>\n",
       "      <td>60.000000</td>\n",
       "      <td>0.000000</td>\n",
       "      <td>NaN</td>\n",
       "    </tr>\n",
       "    <tr>\n",
       "      <th>50%</th>\n",
       "      <td>NaN</td>\n",
       "      <td>NaN</td>\n",
       "      <td>NaN</td>\n",
       "      <td>NaN</td>\n",
       "      <td>NaN</td>\n",
       "      <td>NaN</td>\n",
       "      <td>NaN</td>\n",
       "      <td>NaN</td>\n",
       "      <td>NaN</td>\n",
       "      <td>175.000000</td>\n",
       "      <td>0.000000</td>\n",
       "      <td>NaN</td>\n",
       "    </tr>\n",
       "    <tr>\n",
       "      <th>75%</th>\n",
       "      <td>NaN</td>\n",
       "      <td>NaN</td>\n",
       "      <td>NaN</td>\n",
       "      <td>NaN</td>\n",
       "      <td>NaN</td>\n",
       "      <td>NaN</td>\n",
       "      <td>NaN</td>\n",
       "      <td>NaN</td>\n",
       "      <td>NaN</td>\n",
       "      <td>460.000000</td>\n",
       "      <td>75.000000</td>\n",
       "      <td>NaN</td>\n",
       "    </tr>\n",
       "    <tr>\n",
       "      <th>max</th>\n",
       "      <td>NaN</td>\n",
       "      <td>NaN</td>\n",
       "      <td>NaN</td>\n",
       "      <td>NaN</td>\n",
       "      <td>NaN</td>\n",
       "      <td>NaN</td>\n",
       "      <td>NaN</td>\n",
       "      <td>NaN</td>\n",
       "      <td>NaN</td>\n",
       "      <td>900000.000000</td>\n",
       "      <td>250000.000000</td>\n",
       "      <td>NaN</td>\n",
       "    </tr>\n",
       "  </tbody>\n",
       "</table>\n",
       "</div>"
      ],
      "text/plain": [
       "       Claim Number City Code    City      Enterprise Type     Claim Type  \\\n",
       "count         34110     34110   34110                34110          34110   \n",
       "unique        34110        23      23                   13              2   \n",
       "top      DQW1NZO0PL       BOM  Mumbai  Sole Proprietorship  Property Loss   \n",
       "freq              1      2562    2562                 6259          21216   \n",
       "first           NaN       NaN     NaN                  NaN            NaN   \n",
       "last            NaN       NaN     NaN                  NaN            NaN   \n",
       "mean            NaN       NaN     NaN                  NaN            NaN   \n",
       "std             NaN       NaN     NaN                  NaN            NaN   \n",
       "min             NaN       NaN     NaN                  NaN            NaN   \n",
       "25%             NaN       NaN     NaN                  NaN            NaN   \n",
       "50%             NaN       NaN     NaN                  NaN            NaN   \n",
       "75%             NaN       NaN     NaN                  NaN            NaN   \n",
       "max             NaN       NaN     NaN                  NaN            NaN   \n",
       "\n",
       "        Claim Site           Product Insured        Incident Date  \\\n",
       "count        34110                     34110                34110   \n",
       "unique           3                        13                 2685   \n",
       "top     In Transit  Inventory - Raw Material  2004-04-19 00:00:00   \n",
       "freq         28806                      8110                   38   \n",
       "first          NaN                       NaN  2002-01-10 00:00:00   \n",
       "last           NaN                       NaN  2010-06-22 00:00:00   \n",
       "mean           NaN                       NaN                  NaN   \n",
       "std            NaN                       NaN                  NaN   \n",
       "min            NaN                       NaN                  NaN   \n",
       "25%            NaN                       NaN                  NaN   \n",
       "50%            NaN                       NaN                  NaN   \n",
       "75%            NaN                       NaN                  NaN   \n",
       "max            NaN                       NaN                  NaN   \n",
       "\n",
       "              Date Received   Claim Amount   Close Amount Disposition  \n",
       "count                 34110   34110.000000   34110.000000       34110  \n",
       "unique                 1832            NaN            NaN           3  \n",
       "top     2004-04-21 00:00:00            NaN            NaN        Deny  \n",
       "freq                    215            NaN            NaN       17848  \n",
       "first   1994-01-05 00:00:00            NaN            NaN         NaN  \n",
       "last    2055-05-17 00:00:00            NaN            NaN         NaN  \n",
       "mean                    NaN     717.844178     104.883016         NaN  \n",
       "std                     NaN    8290.881802    1393.564677         NaN  \n",
       "min                     NaN       0.000000       0.000000         NaN  \n",
       "25%                     NaN      60.000000       0.000000         NaN  \n",
       "50%                     NaN     175.000000       0.000000         NaN  \n",
       "75%                     NaN     460.000000      75.000000         NaN  \n",
       "max                     NaN  900000.000000  250000.000000         NaN  "
      ]
     },
     "execution_count": 225,
     "metadata": {},
     "output_type": "execute_result"
    }
   ],
   "source": [
    "train_data.describe(include='all')"
   ]
  },
  {
   "cell_type": "code",
   "execution_count": 227,
   "id": "413463e8",
   "metadata": {
    "colab": {
     "base_uri": "https://localhost:8080/"
    },
    "executionInfo": {
     "elapsed": 109,
     "status": "ok",
     "timestamp": 1669195021187,
     "user": {
      "displayName": "N160079 GANIREDDY NOOKA PARAMESH",
      "userId": "09024512965911926212"
     },
     "user_tz": -330
    },
    "id": "413463e8",
    "outputId": "fceb5348-fe91-4738-879a-1f214fd73f19"
   },
   "outputs": [
    {
     "data": {
      "text/plain": [
       "Index(['Claim Number', 'City Code', 'City', 'Enterprise Type', 'Claim Type',\n",
       "       'Claim Site', 'Product Insured', 'Incident Date', 'Date Received',\n",
       "       'Claim Amount', 'Close Amount', 'Disposition'],\n",
       "      dtype='object')"
      ]
     },
     "execution_count": 227,
     "metadata": {},
     "output_type": "execute_result"
    }
   ],
   "source": [
    "train_data.columns #columns of the train data"
   ]
  },
  {
   "cell_type": "code",
   "execution_count": 228,
   "id": "91f11e23",
   "metadata": {
    "colab": {
     "base_uri": "https://localhost:8080/"
    },
    "executionInfo": {
     "elapsed": 105,
     "status": "ok",
     "timestamp": 1669195021188,
     "user": {
      "displayName": "N160079 GANIREDDY NOOKA PARAMESH",
      "userId": "09024512965911926212"
     },
     "user_tz": -330
    },
    "id": "91f11e23",
    "outputId": "b910a0ab-d877-43c8-c3b7-3cb1227e79bc"
   },
   "outputs": [
    {
     "data": {
      "text/plain": [
       "Index(['Claim Number', 'Incident Date', 'Date Received', 'City Code', 'City',\n",
       "       'Enterprise Type', 'Claim Type', 'Claim Site', 'Product Insured'],\n",
       "      dtype='object')"
      ]
     },
     "execution_count": 228,
     "metadata": {},
     "output_type": "execute_result"
    }
   ],
   "source": [
    "test_data.columns  #columns of the test data"
   ]
  },
  {
   "cell_type": "code",
   "execution_count": 229,
   "id": "329dcad5",
   "metadata": {
    "id": "329dcad5"
   },
   "outputs": [],
   "source": [
    "#dropping the unnecessary columns in the train data\n",
    "train_data.drop(['Claim Number','City','Incident Date','Date Received','Claim Amount','Close Amount'],axis=1,inplace=True)"
   ]
  },
  {
   "cell_type": "code",
   "execution_count": 230,
   "id": "34b5f762",
   "metadata": {
    "colab": {
     "base_uri": "https://localhost:8080/"
    },
    "executionInfo": {
     "elapsed": 103,
     "status": "ok",
     "timestamp": 1669195021193,
     "user": {
      "displayName": "N160079 GANIREDDY NOOKA PARAMESH",
      "userId": "09024512965911926212"
     },
     "user_tz": -330
    },
    "id": "34b5f762",
    "outputId": "9a898997-6815-4d06-bf99-7dc370f29c4a"
   },
   "outputs": [
    {
     "data": {
      "text/plain": [
       "Index(['City Code', 'Enterprise Type', 'Claim Type', 'Claim Site',\n",
       "       'Product Insured', 'Disposition'],\n",
       "      dtype='object')"
      ]
     },
     "execution_count": 230,
     "metadata": {},
     "output_type": "execute_result"
    }
   ],
   "source": [
    "train_data.columns"
   ]
  },
  {
   "cell_type": "code",
   "execution_count": 231,
   "id": "3faf1e2b",
   "metadata": {
    "id": "3faf1e2b"
   },
   "outputs": [],
   "source": [
    "#dropping the unnecessary columns in the test data\n",
    "test_data.drop(['Claim Number','Incident Date','Date Received','City'],axis=1,inplace=True)"
   ]
  },
  {
   "cell_type": "code",
   "execution_count": 232,
   "id": "5942fcc2",
   "metadata": {
    "colab": {
     "base_uri": "https://localhost:8080/"
    },
    "executionInfo": {
     "elapsed": 99,
     "status": "ok",
     "timestamp": 1669195021196,
     "user": {
      "displayName": "N160079 GANIREDDY NOOKA PARAMESH",
      "userId": "09024512965911926212"
     },
     "user_tz": -330
    },
    "id": "5942fcc2",
    "outputId": "5f28d949-8d77-4083-f012-a87c343d4242"
   },
   "outputs": [
    {
     "data": {
      "text/plain": [
       "Index(['City Code', 'Enterprise Type', 'Claim Type', 'Claim Site',\n",
       "       'Product Insured'],\n",
       "      dtype='object')"
      ]
     },
     "execution_count": 232,
     "metadata": {},
     "output_type": "execute_result"
    }
   ],
   "source": [
    "test_data.columns"
   ]
  },
  {
   "cell_type": "code",
   "execution_count": 233,
   "id": "56917dfa",
   "metadata": {
    "colab": {
     "base_uri": "https://localhost:8080/",
     "height": 206
    },
    "executionInfo": {
     "elapsed": 96,
     "status": "ok",
     "timestamp": 1669195021198,
     "user": {
      "displayName": "N160079 GANIREDDY NOOKA PARAMESH",
      "userId": "09024512965911926212"
     },
     "user_tz": -330
    },
    "id": "56917dfa",
    "outputId": "8a5bf91d-e451-4bcc-b014-1cb58e66aaab"
   },
   "outputs": [
    {
     "data": {
      "text/html": [
       "<div>\n",
       "<style scoped>\n",
       "    .dataframe tbody tr th:only-of-type {\n",
       "        vertical-align: middle;\n",
       "    }\n",
       "\n",
       "    .dataframe tbody tr th {\n",
       "        vertical-align: top;\n",
       "    }\n",
       "\n",
       "    .dataframe thead th {\n",
       "        text-align: right;\n",
       "    }\n",
       "</style>\n",
       "<table border=\"1\" class=\"dataframe\">\n",
       "  <thead>\n",
       "    <tr style=\"text-align: right;\">\n",
       "      <th></th>\n",
       "      <th>City Code</th>\n",
       "      <th>Enterprise Type</th>\n",
       "      <th>Claim Type</th>\n",
       "      <th>Claim Site</th>\n",
       "      <th>Product Insured</th>\n",
       "      <th>Disposition</th>\n",
       "    </tr>\n",
       "  </thead>\n",
       "  <tbody>\n",
       "    <tr>\n",
       "      <th>0</th>\n",
       "      <td>NSK</td>\n",
       "      <td>Public Limited Company</td>\n",
       "      <td>Property Loss</td>\n",
       "      <td>In Transit</td>\n",
       "      <td>Inventory - Raw Material</td>\n",
       "      <td>Deny</td>\n",
       "    </tr>\n",
       "    <tr>\n",
       "      <th>1</th>\n",
       "      <td>BOM</td>\n",
       "      <td>One Person Company</td>\n",
       "      <td>Property Loss</td>\n",
       "      <td>In Transit</td>\n",
       "      <td>Cameras and other Misc. Security Equipment</td>\n",
       "      <td>Settle</td>\n",
       "    </tr>\n",
       "    <tr>\n",
       "      <th>2</th>\n",
       "      <td>LKO</td>\n",
       "      <td>Public Limited Company</td>\n",
       "      <td>Property Loss</td>\n",
       "      <td>In Transit</td>\n",
       "      <td>Fixtures</td>\n",
       "      <td>Approve in Full</td>\n",
       "    </tr>\n",
       "    <tr>\n",
       "      <th>3</th>\n",
       "      <td>DEL</td>\n",
       "      <td>Sole Proprietorship</td>\n",
       "      <td>Property Loss</td>\n",
       "      <td>In Transit</td>\n",
       "      <td>Pumps and Motors</td>\n",
       "      <td>Deny</td>\n",
       "    </tr>\n",
       "    <tr>\n",
       "      <th>4</th>\n",
       "      <td>DEL</td>\n",
       "      <td>One Person Company</td>\n",
       "      <td>Property Loss</td>\n",
       "      <td>In Transit</td>\n",
       "      <td>Misc. Engineering Tools</td>\n",
       "      <td>Settle</td>\n",
       "    </tr>\n",
       "  </tbody>\n",
       "</table>\n",
       "</div>"
      ],
      "text/plain": [
       "  City Code         Enterprise Type     Claim Type  Claim Site  \\\n",
       "0       NSK  Public Limited Company  Property Loss  In Transit   \n",
       "1       BOM      One Person Company  Property Loss  In Transit   \n",
       "2       LKO  Public Limited Company  Property Loss  In Transit   \n",
       "3       DEL     Sole Proprietorship  Property Loss  In Transit   \n",
       "4       DEL      One Person Company  Property Loss  In Transit   \n",
       "\n",
       "                              Product Insured      Disposition  \n",
       "0                    Inventory - Raw Material             Deny  \n",
       "1  Cameras and other Misc. Security Equipment           Settle  \n",
       "2                                    Fixtures  Approve in Full  \n",
       "3                            Pumps and Motors             Deny  \n",
       "4                     Misc. Engineering Tools           Settle  "
      ]
     },
     "execution_count": 233,
     "metadata": {},
     "output_type": "execute_result"
    }
   ],
   "source": [
    "train_data.head()"
   ]
  },
  {
   "cell_type": "code",
   "execution_count": 163,
   "id": "1a0f6efc",
   "metadata": {
    "id": "1a0f6efc"
   },
   "outputs": [],
   "source": [
    "y=train_data[['Disposition']]\n",
    "y['Disposition']=y['Disposition'].astype(\"category\")\n",
    "train_data.drop('Disposition',axis=1,inplace=True)\n",
    "x=train_data"
   ]
  },
  {
   "cell_type": "code",
   "execution_count": 164,
   "id": "898599da",
   "metadata": {
    "colab": {
     "base_uri": "https://localhost:8080/",
     "height": 206
    },
    "executionInfo": {
     "elapsed": 97,
     "status": "ok",
     "timestamp": 1669195021202,
     "user": {
      "displayName": "N160079 GANIREDDY NOOKA PARAMESH",
      "userId": "09024512965911926212"
     },
     "user_tz": -330
    },
    "id": "898599da",
    "outputId": "88a47e70-38d9-4039-fbb1-1ca4391bc1fa"
   },
   "outputs": [
    {
     "data": {
      "text/html": [
       "<div>\n",
       "<style scoped>\n",
       "    .dataframe tbody tr th:only-of-type {\n",
       "        vertical-align: middle;\n",
       "    }\n",
       "\n",
       "    .dataframe tbody tr th {\n",
       "        vertical-align: top;\n",
       "    }\n",
       "\n",
       "    .dataframe thead th {\n",
       "        text-align: right;\n",
       "    }\n",
       "</style>\n",
       "<table border=\"1\" class=\"dataframe\">\n",
       "  <thead>\n",
       "    <tr style=\"text-align: right;\">\n",
       "      <th></th>\n",
       "      <th>City Code</th>\n",
       "      <th>Enterprise Type</th>\n",
       "      <th>Claim Type</th>\n",
       "      <th>Claim Site</th>\n",
       "      <th>Product Insured</th>\n",
       "    </tr>\n",
       "  </thead>\n",
       "  <tbody>\n",
       "    <tr>\n",
       "      <th>0</th>\n",
       "      <td>NSK</td>\n",
       "      <td>Public Limited Company</td>\n",
       "      <td>Property Loss</td>\n",
       "      <td>In Transit</td>\n",
       "      <td>Inventory - Raw Material</td>\n",
       "    </tr>\n",
       "    <tr>\n",
       "      <th>1</th>\n",
       "      <td>BOM</td>\n",
       "      <td>One Person Company</td>\n",
       "      <td>Property Loss</td>\n",
       "      <td>In Transit</td>\n",
       "      <td>Cameras and other Misc. Security Equipment</td>\n",
       "    </tr>\n",
       "    <tr>\n",
       "      <th>2</th>\n",
       "      <td>LKO</td>\n",
       "      <td>Public Limited Company</td>\n",
       "      <td>Property Loss</td>\n",
       "      <td>In Transit</td>\n",
       "      <td>Fixtures</td>\n",
       "    </tr>\n",
       "    <tr>\n",
       "      <th>3</th>\n",
       "      <td>DEL</td>\n",
       "      <td>Sole Proprietorship</td>\n",
       "      <td>Property Loss</td>\n",
       "      <td>In Transit</td>\n",
       "      <td>Pumps and Motors</td>\n",
       "    </tr>\n",
       "    <tr>\n",
       "      <th>4</th>\n",
       "      <td>DEL</td>\n",
       "      <td>One Person Company</td>\n",
       "      <td>Property Loss</td>\n",
       "      <td>In Transit</td>\n",
       "      <td>Misc. Engineering Tools</td>\n",
       "    </tr>\n",
       "  </tbody>\n",
       "</table>\n",
       "</div>"
      ],
      "text/plain": [
       "  City Code         Enterprise Type     Claim Type  Claim Site  \\\n",
       "0       NSK  Public Limited Company  Property Loss  In Transit   \n",
       "1       BOM      One Person Company  Property Loss  In Transit   \n",
       "2       LKO  Public Limited Company  Property Loss  In Transit   \n",
       "3       DEL     Sole Proprietorship  Property Loss  In Transit   \n",
       "4       DEL      One Person Company  Property Loss  In Transit   \n",
       "\n",
       "                              Product Insured  \n",
       "0                    Inventory - Raw Material  \n",
       "1  Cameras and other Misc. Security Equipment  \n",
       "2                                    Fixtures  \n",
       "3                            Pumps and Motors  \n",
       "4                     Misc. Engineering Tools  "
      ]
     },
     "execution_count": 164,
     "metadata": {},
     "output_type": "execute_result"
    }
   ],
   "source": [
    "x.head()"
   ]
  },
  {
   "cell_type": "code",
   "execution_count": 165,
   "id": "b27dda4e",
   "metadata": {
    "colab": {
     "base_uri": "https://localhost:8080/",
     "height": 206
    },
    "executionInfo": {
     "elapsed": 96,
     "status": "ok",
     "timestamp": 1669195021204,
     "user": {
      "displayName": "N160079 GANIREDDY NOOKA PARAMESH",
      "userId": "09024512965911926212"
     },
     "user_tz": -330
    },
    "id": "b27dda4e",
    "outputId": "98dd4a2a-3fa1-4d92-fbd9-c66b8868cb58"
   },
   "outputs": [
    {
     "data": {
      "text/html": [
       "<div>\n",
       "<style scoped>\n",
       "    .dataframe tbody tr th:only-of-type {\n",
       "        vertical-align: middle;\n",
       "    }\n",
       "\n",
       "    .dataframe tbody tr th {\n",
       "        vertical-align: top;\n",
       "    }\n",
       "\n",
       "    .dataframe thead th {\n",
       "        text-align: right;\n",
       "    }\n",
       "</style>\n",
       "<table border=\"1\" class=\"dataframe\">\n",
       "  <thead>\n",
       "    <tr style=\"text-align: right;\">\n",
       "      <th></th>\n",
       "      <th>City Code</th>\n",
       "      <th>Enterprise Type</th>\n",
       "      <th>Claim Type</th>\n",
       "      <th>Claim Site</th>\n",
       "      <th>Product Insured</th>\n",
       "    </tr>\n",
       "  </thead>\n",
       "  <tbody>\n",
       "    <tr>\n",
       "      <th>0</th>\n",
       "      <td>PNQ</td>\n",
       "      <td>One Person Company</td>\n",
       "      <td>Property Loss</td>\n",
       "      <td>In Transit</td>\n",
       "      <td>Inventory - Finished Goods</td>\n",
       "    </tr>\n",
       "    <tr>\n",
       "      <th>1</th>\n",
       "      <td>PNQ</td>\n",
       "      <td>Limited Liability Parterneship (LLP)</td>\n",
       "      <td>Property Loss</td>\n",
       "      <td>In Transit</td>\n",
       "      <td>Fixtures</td>\n",
       "    </tr>\n",
       "    <tr>\n",
       "      <th>2</th>\n",
       "      <td>AMD</td>\n",
       "      <td>Private Limited Company</td>\n",
       "      <td>Property Loss</td>\n",
       "      <td>Warehouse</td>\n",
       "      <td>Inventory - Raw Material</td>\n",
       "    </tr>\n",
       "    <tr>\n",
       "      <th>3</th>\n",
       "      <td>DEL</td>\n",
       "      <td>One Person Company</td>\n",
       "      <td>Property Damage</td>\n",
       "      <td>In Transit</td>\n",
       "      <td>Inventory - Finished Goods</td>\n",
       "    </tr>\n",
       "    <tr>\n",
       "      <th>4</th>\n",
       "      <td>PNQ</td>\n",
       "      <td>Private Limited Company</td>\n",
       "      <td>Property Damage</td>\n",
       "      <td>In Transit</td>\n",
       "      <td>Misc. Electronic Items</td>\n",
       "    </tr>\n",
       "  </tbody>\n",
       "</table>\n",
       "</div>"
      ],
      "text/plain": [
       "  City Code                       Enterprise Type       Claim Type  \\\n",
       "0       PNQ                    One Person Company    Property Loss   \n",
       "1       PNQ  Limited Liability Parterneship (LLP)    Property Loss   \n",
       "2       AMD               Private Limited Company    Property Loss   \n",
       "3       DEL                    One Person Company  Property Damage   \n",
       "4       PNQ               Private Limited Company  Property Damage   \n",
       "\n",
       "   Claim Site             Product Insured  \n",
       "0  In Transit  Inventory - Finished Goods  \n",
       "1  In Transit                    Fixtures  \n",
       "2   Warehouse    Inventory - Raw Material  \n",
       "3  In Transit  Inventory - Finished Goods  \n",
       "4  In Transit      Misc. Electronic Items  "
      ]
     },
     "execution_count": 165,
     "metadata": {},
     "output_type": "execute_result"
    }
   ],
   "source": [
    "test_data.head()"
   ]
  },
  {
   "cell_type": "code",
   "execution_count": null,
   "id": "d2110797",
   "metadata": {},
   "outputs": [],
   "source": []
  },
  {
   "cell_type": "code",
   "execution_count": 235,
   "id": "62ecb062",
   "metadata": {
    "id": "62ecb062"
   },
   "outputs": [],
   "source": [
    "#splitting the train data into train and validation data using stratify to remove the immbalance\n",
    "x_train,x_test,y_train,y_test=train_test_split(x,y,test_size=0.2,random_state=123,stratify=y)"
   ]
  },
  {
   "cell_type": "code",
   "execution_count": null,
   "id": "94ece75e",
   "metadata": {
    "id": "94ece75e"
   },
   "outputs": [],
   "source": []
  },
  {
   "cell_type": "code",
   "execution_count": 237,
   "id": "e2be0362",
   "metadata": {
    "colab": {
     "base_uri": "https://localhost:8080/"
    },
    "executionInfo": {
     "elapsed": 108,
     "status": "ok",
     "timestamp": 1669195021220,
     "user": {
      "displayName": "N160079 GANIREDDY NOOKA PARAMESH",
      "userId": "09024512965911926212"
     },
     "user_tz": -330
    },
    "id": "e2be0362",
    "outputId": "ad072f74-2a5e-4c6f-ad74-5fa7b783ea78"
   },
   "outputs": [
    {
     "data": {
      "text/html": [
       "<style>#sk-container-id-13 {color: black;background-color: white;}#sk-container-id-13 pre{padding: 0;}#sk-container-id-13 div.sk-toggleable {background-color: white;}#sk-container-id-13 label.sk-toggleable__label {cursor: pointer;display: block;width: 100%;margin-bottom: 0;padding: 0.3em;box-sizing: border-box;text-align: center;}#sk-container-id-13 label.sk-toggleable__label-arrow:before {content: \"▸\";float: left;margin-right: 0.25em;color: #696969;}#sk-container-id-13 label.sk-toggleable__label-arrow:hover:before {color: black;}#sk-container-id-13 div.sk-estimator:hover label.sk-toggleable__label-arrow:before {color: black;}#sk-container-id-13 div.sk-toggleable__content {max-height: 0;max-width: 0;overflow: hidden;text-align: left;background-color: #f0f8ff;}#sk-container-id-13 div.sk-toggleable__content pre {margin: 0.2em;color: black;border-radius: 0.25em;background-color: #f0f8ff;}#sk-container-id-13 input.sk-toggleable__control:checked~div.sk-toggleable__content {max-height: 200px;max-width: 100%;overflow: auto;}#sk-container-id-13 input.sk-toggleable__control:checked~label.sk-toggleable__label-arrow:before {content: \"▾\";}#sk-container-id-13 div.sk-estimator input.sk-toggleable__control:checked~label.sk-toggleable__label {background-color: #d4ebff;}#sk-container-id-13 div.sk-label input.sk-toggleable__control:checked~label.sk-toggleable__label {background-color: #d4ebff;}#sk-container-id-13 input.sk-hidden--visually {border: 0;clip: rect(1px 1px 1px 1px);clip: rect(1px, 1px, 1px, 1px);height: 1px;margin: -1px;overflow: hidden;padding: 0;position: absolute;width: 1px;}#sk-container-id-13 div.sk-estimator {font-family: monospace;background-color: #f0f8ff;border: 1px dotted black;border-radius: 0.25em;box-sizing: border-box;margin-bottom: 0.5em;}#sk-container-id-13 div.sk-estimator:hover {background-color: #d4ebff;}#sk-container-id-13 div.sk-parallel-item::after {content: \"\";width: 100%;border-bottom: 1px solid gray;flex-grow: 1;}#sk-container-id-13 div.sk-label:hover label.sk-toggleable__label {background-color: #d4ebff;}#sk-container-id-13 div.sk-serial::before {content: \"\";position: absolute;border-left: 1px solid gray;box-sizing: border-box;top: 0;bottom: 0;left: 50%;z-index: 0;}#sk-container-id-13 div.sk-serial {display: flex;flex-direction: column;align-items: center;background-color: white;padding-right: 0.2em;padding-left: 0.2em;position: relative;}#sk-container-id-13 div.sk-item {position: relative;z-index: 1;}#sk-container-id-13 div.sk-parallel {display: flex;align-items: stretch;justify-content: center;background-color: white;position: relative;}#sk-container-id-13 div.sk-item::before, #sk-container-id-13 div.sk-parallel-item::before {content: \"\";position: absolute;border-left: 1px solid gray;box-sizing: border-box;top: 0;bottom: 0;left: 50%;z-index: -1;}#sk-container-id-13 div.sk-parallel-item {display: flex;flex-direction: column;z-index: 1;position: relative;background-color: white;}#sk-container-id-13 div.sk-parallel-item:first-child::after {align-self: flex-end;width: 50%;}#sk-container-id-13 div.sk-parallel-item:last-child::after {align-self: flex-start;width: 50%;}#sk-container-id-13 div.sk-parallel-item:only-child::after {width: 0;}#sk-container-id-13 div.sk-dashed-wrapped {border: 1px dashed gray;margin: 0 0.4em 0.5em 0.4em;box-sizing: border-box;padding-bottom: 0.4em;background-color: white;}#sk-container-id-13 div.sk-label label {font-family: monospace;font-weight: bold;display: inline-block;line-height: 1.2em;}#sk-container-id-13 div.sk-label-container {text-align: center;}#sk-container-id-13 div.sk-container {/* jupyter's `normalize.less` sets `[hidden] { display: none; }` but bootstrap.min.css set `[hidden] { display: none !important; }` so we also need the `!important` here to be able to override the default hidden behavior on the sphinx rendered scikit-learn.org. See: https://github.com/scikit-learn/scikit-learn/issues/21755 */display: inline-block !important;position: relative;}#sk-container-id-13 div.sk-text-repr-fallback {display: none;}</style><div id=\"sk-container-id-13\" class=\"sk-top-container\"><div class=\"sk-text-repr-fallback\"><pre>OneHotEncoder(handle_unknown=&#x27;ignore&#x27;)</pre><b>In a Jupyter environment, please rerun this cell to show the HTML representation or trust the notebook. <br />On GitHub, the HTML representation is unable to render, please try loading this page with nbviewer.org.</b></div><div class=\"sk-container\" hidden><div class=\"sk-item\"><div class=\"sk-estimator sk-toggleable\"><input class=\"sk-toggleable__control sk-hidden--visually\" id=\"sk-estimator-id-17\" type=\"checkbox\" checked><label for=\"sk-estimator-id-17\" class=\"sk-toggleable__label sk-toggleable__label-arrow\">OneHotEncoder</label><div class=\"sk-toggleable__content\"><pre>OneHotEncoder(handle_unknown=&#x27;ignore&#x27;)</pre></div></div></div></div></div>"
      ],
      "text/plain": [
       "OneHotEncoder(handle_unknown='ignore')"
      ]
     },
     "execution_count": 237,
     "metadata": {},
     "output_type": "execute_result"
    }
   ],
   "source": [
    "#using OneHotEncoder for categorical data \n",
    "from sklearn.preprocessing import OneHotEncoder\n",
    "ohe=OneHotEncoder(handle_unknown=\"ignore\")   # ignore used to remove the classes in test featrure which are not in train feature\n",
    "#fitting on the train data\n",
    "ohe.fit(x_train)"
   ]
  },
  {
   "cell_type": "code",
   "execution_count": 238,
   "id": "3bcac946",
   "metadata": {
    "id": "3bcac946"
   },
   "outputs": [],
   "source": [
    "#list out the columns names\n",
    "cols=list(ohe.get_feature_names(x_train.columns))"
   ]
  },
  {
   "cell_type": "code",
   "execution_count": 239,
   "id": "d5e938c3",
   "metadata": {
    "id": "d5e938c3"
   },
   "outputs": [],
   "source": [
    "#transform onto the train data\n",
    "x_train=pd.DataFrame(ohe.transform(x_train).todense(),columns=cols)\n"
   ]
  },
  {
   "cell_type": "code",
   "execution_count": 240,
   "id": "2112eb62",
   "metadata": {
    "colab": {
     "base_uri": "https://localhost:8080/",
     "height": 369
    },
    "executionInfo": {
     "elapsed": 110,
     "status": "ok",
     "timestamp": 1669195021228,
     "user": {
      "displayName": "N160079 GANIREDDY NOOKA PARAMESH",
      "userId": "09024512965911926212"
     },
     "user_tz": -330
    },
    "id": "2112eb62",
    "outputId": "3a8e7304-10a2-4385-90dd-c91dd9e0bcda",
    "scrolled": true
   },
   "outputs": [
    {
     "data": {
      "text/html": [
       "<div>\n",
       "<style scoped>\n",
       "    .dataframe tbody tr th:only-of-type {\n",
       "        vertical-align: middle;\n",
       "    }\n",
       "\n",
       "    .dataframe tbody tr th {\n",
       "        vertical-align: top;\n",
       "    }\n",
       "\n",
       "    .dataframe thead th {\n",
       "        text-align: right;\n",
       "    }\n",
       "</style>\n",
       "<table border=\"1\" class=\"dataframe\">\n",
       "  <thead>\n",
       "    <tr style=\"text-align: right;\">\n",
       "      <th></th>\n",
       "      <th>City Code_AGR</th>\n",
       "      <th>City Code_AMD</th>\n",
       "      <th>City Code_ATQ</th>\n",
       "      <th>City Code_BDQ</th>\n",
       "      <th>City Code_BHO</th>\n",
       "      <th>City Code_BLR</th>\n",
       "      <th>City Code_BOM</th>\n",
       "      <th>City Code_CCU</th>\n",
       "      <th>City Code_CJB</th>\n",
       "      <th>City Code_DEL</th>\n",
       "      <th>...</th>\n",
       "      <th>Product Insured_Heating, ventilation, and air conditioning (HVAC) System</th>\n",
       "      <th>Product Insured_Inventory - Finished Goods</th>\n",
       "      <th>Product Insured_Inventory - Raw Material</th>\n",
       "      <th>Product Insured_Misc. Electrical Equipment</th>\n",
       "      <th>Product Insured_Misc. Electronic Items</th>\n",
       "      <th>Product Insured_Misc. Engineering Tools</th>\n",
       "      <th>Product Insured_Misc. Lab Equipment</th>\n",
       "      <th>Product Insured_Misc. Sensors</th>\n",
       "      <th>Product Insured_Property, Plant, and Equipment (PPE) Parts</th>\n",
       "      <th>Product Insured_Pumps and Motors</th>\n",
       "    </tr>\n",
       "  </thead>\n",
       "  <tbody>\n",
       "    <tr>\n",
       "      <th>0</th>\n",
       "      <td>0.0</td>\n",
       "      <td>0.0</td>\n",
       "      <td>1.0</td>\n",
       "      <td>0.0</td>\n",
       "      <td>0.0</td>\n",
       "      <td>0.0</td>\n",
       "      <td>0.0</td>\n",
       "      <td>0.0</td>\n",
       "      <td>0.0</td>\n",
       "      <td>0.0</td>\n",
       "      <td>...</td>\n",
       "      <td>0.0</td>\n",
       "      <td>1.0</td>\n",
       "      <td>0.0</td>\n",
       "      <td>0.0</td>\n",
       "      <td>0.0</td>\n",
       "      <td>0.0</td>\n",
       "      <td>0.0</td>\n",
       "      <td>0.0</td>\n",
       "      <td>0.0</td>\n",
       "      <td>0.0</td>\n",
       "    </tr>\n",
       "    <tr>\n",
       "      <th>1</th>\n",
       "      <td>0.0</td>\n",
       "      <td>0.0</td>\n",
       "      <td>0.0</td>\n",
       "      <td>0.0</td>\n",
       "      <td>0.0</td>\n",
       "      <td>0.0</td>\n",
       "      <td>0.0</td>\n",
       "      <td>0.0</td>\n",
       "      <td>0.0</td>\n",
       "      <td>0.0</td>\n",
       "      <td>...</td>\n",
       "      <td>0.0</td>\n",
       "      <td>1.0</td>\n",
       "      <td>0.0</td>\n",
       "      <td>0.0</td>\n",
       "      <td>0.0</td>\n",
       "      <td>0.0</td>\n",
       "      <td>0.0</td>\n",
       "      <td>0.0</td>\n",
       "      <td>0.0</td>\n",
       "      <td>0.0</td>\n",
       "    </tr>\n",
       "    <tr>\n",
       "      <th>2</th>\n",
       "      <td>0.0</td>\n",
       "      <td>0.0</td>\n",
       "      <td>0.0</td>\n",
       "      <td>0.0</td>\n",
       "      <td>0.0</td>\n",
       "      <td>0.0</td>\n",
       "      <td>0.0</td>\n",
       "      <td>0.0</td>\n",
       "      <td>0.0</td>\n",
       "      <td>1.0</td>\n",
       "      <td>...</td>\n",
       "      <td>0.0</td>\n",
       "      <td>0.0</td>\n",
       "      <td>1.0</td>\n",
       "      <td>0.0</td>\n",
       "      <td>0.0</td>\n",
       "      <td>0.0</td>\n",
       "      <td>0.0</td>\n",
       "      <td>0.0</td>\n",
       "      <td>0.0</td>\n",
       "      <td>0.0</td>\n",
       "    </tr>\n",
       "    <tr>\n",
       "      <th>3</th>\n",
       "      <td>0.0</td>\n",
       "      <td>0.0</td>\n",
       "      <td>0.0</td>\n",
       "      <td>0.0</td>\n",
       "      <td>0.0</td>\n",
       "      <td>0.0</td>\n",
       "      <td>0.0</td>\n",
       "      <td>0.0</td>\n",
       "      <td>0.0</td>\n",
       "      <td>0.0</td>\n",
       "      <td>...</td>\n",
       "      <td>0.0</td>\n",
       "      <td>0.0</td>\n",
       "      <td>0.0</td>\n",
       "      <td>0.0</td>\n",
       "      <td>0.0</td>\n",
       "      <td>0.0</td>\n",
       "      <td>0.0</td>\n",
       "      <td>0.0</td>\n",
       "      <td>0.0</td>\n",
       "      <td>0.0</td>\n",
       "    </tr>\n",
       "    <tr>\n",
       "      <th>4</th>\n",
       "      <td>0.0</td>\n",
       "      <td>0.0</td>\n",
       "      <td>0.0</td>\n",
       "      <td>0.0</td>\n",
       "      <td>0.0</td>\n",
       "      <td>0.0</td>\n",
       "      <td>0.0</td>\n",
       "      <td>0.0</td>\n",
       "      <td>0.0</td>\n",
       "      <td>0.0</td>\n",
       "      <td>...</td>\n",
       "      <td>0.0</td>\n",
       "      <td>0.0</td>\n",
       "      <td>0.0</td>\n",
       "      <td>1.0</td>\n",
       "      <td>0.0</td>\n",
       "      <td>0.0</td>\n",
       "      <td>0.0</td>\n",
       "      <td>0.0</td>\n",
       "      <td>0.0</td>\n",
       "      <td>0.0</td>\n",
       "    </tr>\n",
       "  </tbody>\n",
       "</table>\n",
       "<p>5 rows × 54 columns</p>\n",
       "</div>"
      ],
      "text/plain": [
       "   City Code_AGR  City Code_AMD  City Code_ATQ  City Code_BDQ  City Code_BHO  \\\n",
       "0            0.0            0.0            1.0            0.0            0.0   \n",
       "1            0.0            0.0            0.0            0.0            0.0   \n",
       "2            0.0            0.0            0.0            0.0            0.0   \n",
       "3            0.0            0.0            0.0            0.0            0.0   \n",
       "4            0.0            0.0            0.0            0.0            0.0   \n",
       "\n",
       "   City Code_BLR  City Code_BOM  City Code_CCU  City Code_CJB  City Code_DEL  \\\n",
       "0            0.0            0.0            0.0            0.0            0.0   \n",
       "1            0.0            0.0            0.0            0.0            0.0   \n",
       "2            0.0            0.0            0.0            0.0            1.0   \n",
       "3            0.0            0.0            0.0            0.0            0.0   \n",
       "4            0.0            0.0            0.0            0.0            0.0   \n",
       "\n",
       "   ...  \\\n",
       "0  ...   \n",
       "1  ...   \n",
       "2  ...   \n",
       "3  ...   \n",
       "4  ...   \n",
       "\n",
       "   Product Insured_Heating, ventilation, and air conditioning (HVAC) System  \\\n",
       "0                                                0.0                          \n",
       "1                                                0.0                          \n",
       "2                                                0.0                          \n",
       "3                                                0.0                          \n",
       "4                                                0.0                          \n",
       "\n",
       "   Product Insured_Inventory - Finished Goods  \\\n",
       "0                                         1.0   \n",
       "1                                         1.0   \n",
       "2                                         0.0   \n",
       "3                                         0.0   \n",
       "4                                         0.0   \n",
       "\n",
       "   Product Insured_Inventory - Raw Material  \\\n",
       "0                                       0.0   \n",
       "1                                       0.0   \n",
       "2                                       1.0   \n",
       "3                                       0.0   \n",
       "4                                       0.0   \n",
       "\n",
       "   Product Insured_Misc. Electrical Equipment  \\\n",
       "0                                         0.0   \n",
       "1                                         0.0   \n",
       "2                                         0.0   \n",
       "3                                         0.0   \n",
       "4                                         1.0   \n",
       "\n",
       "   Product Insured_Misc. Electronic Items  \\\n",
       "0                                     0.0   \n",
       "1                                     0.0   \n",
       "2                                     0.0   \n",
       "3                                     0.0   \n",
       "4                                     0.0   \n",
       "\n",
       "   Product Insured_Misc. Engineering Tools  \\\n",
       "0                                      0.0   \n",
       "1                                      0.0   \n",
       "2                                      0.0   \n",
       "3                                      0.0   \n",
       "4                                      0.0   \n",
       "\n",
       "   Product Insured_Misc. Lab Equipment  Product Insured_Misc. Sensors  \\\n",
       "0                                  0.0                            0.0   \n",
       "1                                  0.0                            0.0   \n",
       "2                                  0.0                            0.0   \n",
       "3                                  0.0                            0.0   \n",
       "4                                  0.0                            0.0   \n",
       "\n",
       "   Product Insured_Property, Plant, and Equipment (PPE) Parts  \\\n",
       "0                                                0.0            \n",
       "1                                                0.0            \n",
       "2                                                0.0            \n",
       "3                                                0.0            \n",
       "4                                                0.0            \n",
       "\n",
       "   Product Insured_Pumps and Motors  \n",
       "0                               0.0  \n",
       "1                               0.0  \n",
       "2                               0.0  \n",
       "3                               0.0  \n",
       "4                               0.0  \n",
       "\n",
       "[5 rows x 54 columns]"
      ]
     },
     "execution_count": 240,
     "metadata": {},
     "output_type": "execute_result"
    }
   ],
   "source": [
    "x_train.head()"
   ]
  },
  {
   "cell_type": "code",
   "execution_count": 242,
   "id": "df2056c4",
   "metadata": {},
   "outputs": [],
   "source": [
    "#transform onto the validation data\n",
    "x_test=pd.DataFrame(ohe.transform(x_test).todense(),columns=cols)"
   ]
  },
  {
   "cell_type": "code",
   "execution_count": 243,
   "id": "df3ff2a4",
   "metadata": {},
   "outputs": [
    {
     "ename": "ValueError",
     "evalue": "X has 54 features, but OneHotEncoder is expecting 5 features as input.",
     "output_type": "error",
     "traceback": [
      "\u001b[1;31m---------------------------------------------------------------------------\u001b[0m",
      "\u001b[1;31mValueError\u001b[0m                                Traceback (most recent call last)",
      "Input \u001b[1;32mIn [243]\u001b[0m, in \u001b[0;36m<cell line: 2>\u001b[1;34m()\u001b[0m\n\u001b[0;32m      1\u001b[0m \u001b[38;5;66;03m#transform onto the test(unseen) data\u001b[39;00m\n\u001b[1;32m----> 2\u001b[0m test_data\u001b[38;5;241m=\u001b[39mpd\u001b[38;5;241m.\u001b[39mDataFrame(\u001b[43mohe\u001b[49m\u001b[38;5;241;43m.\u001b[39;49m\u001b[43mtransform\u001b[49m\u001b[43m(\u001b[49m\u001b[43mtest_data\u001b[49m\u001b[43m)\u001b[49m\u001b[38;5;241m.\u001b[39mtodense(),columns\u001b[38;5;241m=\u001b[39mcols)\n",
      "File \u001b[1;32m~\\anaconda3\\lib\\site-packages\\sklearn\\preprocessing\\_encoders.py:882\u001b[0m, in \u001b[0;36mOneHotEncoder.transform\u001b[1;34m(self, X)\u001b[0m\n\u001b[0;32m    877\u001b[0m \u001b[38;5;66;03m# validation of X happens in _check_X called by _transform\u001b[39;00m\n\u001b[0;32m    878\u001b[0m warn_on_unknown \u001b[38;5;241m=\u001b[39m \u001b[38;5;28mself\u001b[39m\u001b[38;5;241m.\u001b[39mdrop \u001b[38;5;129;01mis\u001b[39;00m \u001b[38;5;129;01mnot\u001b[39;00m \u001b[38;5;28;01mNone\u001b[39;00m \u001b[38;5;129;01mand\u001b[39;00m \u001b[38;5;28mself\u001b[39m\u001b[38;5;241m.\u001b[39mhandle_unknown \u001b[38;5;129;01min\u001b[39;00m {\n\u001b[0;32m    879\u001b[0m     \u001b[38;5;124m\"\u001b[39m\u001b[38;5;124mignore\u001b[39m\u001b[38;5;124m\"\u001b[39m,\n\u001b[0;32m    880\u001b[0m     \u001b[38;5;124m\"\u001b[39m\u001b[38;5;124minfrequent_if_exist\u001b[39m\u001b[38;5;124m\"\u001b[39m,\n\u001b[0;32m    881\u001b[0m }\n\u001b[1;32m--> 882\u001b[0m X_int, X_mask \u001b[38;5;241m=\u001b[39m \u001b[38;5;28;43mself\u001b[39;49m\u001b[38;5;241;43m.\u001b[39;49m\u001b[43m_transform\u001b[49m\u001b[43m(\u001b[49m\n\u001b[0;32m    883\u001b[0m \u001b[43m    \u001b[49m\u001b[43mX\u001b[49m\u001b[43m,\u001b[49m\n\u001b[0;32m    884\u001b[0m \u001b[43m    \u001b[49m\u001b[43mhandle_unknown\u001b[49m\u001b[38;5;241;43m=\u001b[39;49m\u001b[38;5;28;43mself\u001b[39;49m\u001b[38;5;241;43m.\u001b[39;49m\u001b[43mhandle_unknown\u001b[49m\u001b[43m,\u001b[49m\n\u001b[0;32m    885\u001b[0m \u001b[43m    \u001b[49m\u001b[43mforce_all_finite\u001b[49m\u001b[38;5;241;43m=\u001b[39;49m\u001b[38;5;124;43m\"\u001b[39;49m\u001b[38;5;124;43mallow-nan\u001b[39;49m\u001b[38;5;124;43m\"\u001b[39;49m\u001b[43m,\u001b[49m\n\u001b[0;32m    886\u001b[0m \u001b[43m    \u001b[49m\u001b[43mwarn_on_unknown\u001b[49m\u001b[38;5;241;43m=\u001b[39;49m\u001b[43mwarn_on_unknown\u001b[49m\u001b[43m,\u001b[49m\n\u001b[0;32m    887\u001b[0m \u001b[43m\u001b[49m\u001b[43m)\u001b[49m\n\u001b[0;32m    888\u001b[0m \u001b[38;5;28mself\u001b[39m\u001b[38;5;241m.\u001b[39m_map_infrequent_categories(X_int, X_mask)\n\u001b[0;32m    890\u001b[0m n_samples, n_features \u001b[38;5;241m=\u001b[39m X_int\u001b[38;5;241m.\u001b[39mshape\n",
      "File \u001b[1;32m~\\anaconda3\\lib\\site-packages\\sklearn\\preprocessing\\_encoders.py:141\u001b[0m, in \u001b[0;36m_BaseEncoder._transform\u001b[1;34m(self, X, handle_unknown, force_all_finite, warn_on_unknown)\u001b[0m\n\u001b[0;32m    137\u001b[0m \u001b[38;5;28;01mdef\u001b[39;00m \u001b[38;5;21m_transform\u001b[39m(\n\u001b[0;32m    138\u001b[0m     \u001b[38;5;28mself\u001b[39m, X, handle_unknown\u001b[38;5;241m=\u001b[39m\u001b[38;5;124m\"\u001b[39m\u001b[38;5;124merror\u001b[39m\u001b[38;5;124m\"\u001b[39m, force_all_finite\u001b[38;5;241m=\u001b[39m\u001b[38;5;28;01mTrue\u001b[39;00m, warn_on_unknown\u001b[38;5;241m=\u001b[39m\u001b[38;5;28;01mFalse\u001b[39;00m\n\u001b[0;32m    139\u001b[0m ):\n\u001b[0;32m    140\u001b[0m     \u001b[38;5;28mself\u001b[39m\u001b[38;5;241m.\u001b[39m_check_feature_names(X, reset\u001b[38;5;241m=\u001b[39m\u001b[38;5;28;01mFalse\u001b[39;00m)\n\u001b[1;32m--> 141\u001b[0m     \u001b[38;5;28;43mself\u001b[39;49m\u001b[38;5;241;43m.\u001b[39;49m\u001b[43m_check_n_features\u001b[49m\u001b[43m(\u001b[49m\u001b[43mX\u001b[49m\u001b[43m,\u001b[49m\u001b[43m \u001b[49m\u001b[43mreset\u001b[49m\u001b[38;5;241;43m=\u001b[39;49m\u001b[38;5;28;43;01mFalse\u001b[39;49;00m\u001b[43m)\u001b[49m\n\u001b[0;32m    142\u001b[0m     X_list, n_samples, n_features \u001b[38;5;241m=\u001b[39m \u001b[38;5;28mself\u001b[39m\u001b[38;5;241m.\u001b[39m_check_X(\n\u001b[0;32m    143\u001b[0m         X, force_all_finite\u001b[38;5;241m=\u001b[39mforce_all_finite\n\u001b[0;32m    144\u001b[0m     )\n\u001b[0;32m    146\u001b[0m     X_int \u001b[38;5;241m=\u001b[39m np\u001b[38;5;241m.\u001b[39mzeros((n_samples, n_features), dtype\u001b[38;5;241m=\u001b[39m\u001b[38;5;28mint\u001b[39m)\n",
      "File \u001b[1;32m~\\anaconda3\\lib\\site-packages\\sklearn\\base.py:400\u001b[0m, in \u001b[0;36mBaseEstimator._check_n_features\u001b[1;34m(self, X, reset)\u001b[0m\n\u001b[0;32m    397\u001b[0m     \u001b[38;5;28;01mreturn\u001b[39;00m\n\u001b[0;32m    399\u001b[0m \u001b[38;5;28;01mif\u001b[39;00m n_features \u001b[38;5;241m!=\u001b[39m \u001b[38;5;28mself\u001b[39m\u001b[38;5;241m.\u001b[39mn_features_in_:\n\u001b[1;32m--> 400\u001b[0m     \u001b[38;5;28;01mraise\u001b[39;00m \u001b[38;5;167;01mValueError\u001b[39;00m(\n\u001b[0;32m    401\u001b[0m         \u001b[38;5;124mf\u001b[39m\u001b[38;5;124m\"\u001b[39m\u001b[38;5;124mX has \u001b[39m\u001b[38;5;132;01m{\u001b[39;00mn_features\u001b[38;5;132;01m}\u001b[39;00m\u001b[38;5;124m features, but \u001b[39m\u001b[38;5;132;01m{\u001b[39;00m\u001b[38;5;28mself\u001b[39m\u001b[38;5;241m.\u001b[39m\u001b[38;5;18m__class__\u001b[39m\u001b[38;5;241m.\u001b[39m\u001b[38;5;18m__name__\u001b[39m\u001b[38;5;132;01m}\u001b[39;00m\u001b[38;5;124m \u001b[39m\u001b[38;5;124m\"\u001b[39m\n\u001b[0;32m    402\u001b[0m         \u001b[38;5;124mf\u001b[39m\u001b[38;5;124m\"\u001b[39m\u001b[38;5;124mis expecting \u001b[39m\u001b[38;5;132;01m{\u001b[39;00m\u001b[38;5;28mself\u001b[39m\u001b[38;5;241m.\u001b[39mn_features_in_\u001b[38;5;132;01m}\u001b[39;00m\u001b[38;5;124m features as input.\u001b[39m\u001b[38;5;124m\"\u001b[39m\n\u001b[0;32m    403\u001b[0m     )\n",
      "\u001b[1;31mValueError\u001b[0m: X has 54 features, but OneHotEncoder is expecting 5 features as input."
     ]
    }
   ],
   "source": [
    "#transform onto the test(unseen) data\n",
    "test_data=pd.DataFrame(ohe.transform(test_data).todense(),columns=cols)"
   ]
  },
  {
   "cell_type": "code",
   "execution_count": null,
   "id": "5b1913b3",
   "metadata": {},
   "outputs": [],
   "source": []
  },
  {
   "cell_type": "code",
   "execution_count": 244,
   "id": "c909e5d1",
   "metadata": {
    "colab": {
     "base_uri": "https://localhost:8080/"
    },
    "executionInfo": {
     "elapsed": 109,
     "status": "ok",
     "timestamp": 1669195021230,
     "user": {
      "displayName": "N160079 GANIREDDY NOOKA PARAMESH",
      "userId": "09024512965911926212"
     },
     "user_tz": -330
    },
    "id": "c909e5d1",
    "outputId": "20e8fc62-6b1e-40af-8f4d-3f2e0eead193"
   },
   "outputs": [
    {
     "data": {
      "text/html": [
       "<style>#sk-container-id-14 {color: black;background-color: white;}#sk-container-id-14 pre{padding: 0;}#sk-container-id-14 div.sk-toggleable {background-color: white;}#sk-container-id-14 label.sk-toggleable__label {cursor: pointer;display: block;width: 100%;margin-bottom: 0;padding: 0.3em;box-sizing: border-box;text-align: center;}#sk-container-id-14 label.sk-toggleable__label-arrow:before {content: \"▸\";float: left;margin-right: 0.25em;color: #696969;}#sk-container-id-14 label.sk-toggleable__label-arrow:hover:before {color: black;}#sk-container-id-14 div.sk-estimator:hover label.sk-toggleable__label-arrow:before {color: black;}#sk-container-id-14 div.sk-toggleable__content {max-height: 0;max-width: 0;overflow: hidden;text-align: left;background-color: #f0f8ff;}#sk-container-id-14 div.sk-toggleable__content pre {margin: 0.2em;color: black;border-radius: 0.25em;background-color: #f0f8ff;}#sk-container-id-14 input.sk-toggleable__control:checked~div.sk-toggleable__content {max-height: 200px;max-width: 100%;overflow: auto;}#sk-container-id-14 input.sk-toggleable__control:checked~label.sk-toggleable__label-arrow:before {content: \"▾\";}#sk-container-id-14 div.sk-estimator input.sk-toggleable__control:checked~label.sk-toggleable__label {background-color: #d4ebff;}#sk-container-id-14 div.sk-label input.sk-toggleable__control:checked~label.sk-toggleable__label {background-color: #d4ebff;}#sk-container-id-14 input.sk-hidden--visually {border: 0;clip: rect(1px 1px 1px 1px);clip: rect(1px, 1px, 1px, 1px);height: 1px;margin: -1px;overflow: hidden;padding: 0;position: absolute;width: 1px;}#sk-container-id-14 div.sk-estimator {font-family: monospace;background-color: #f0f8ff;border: 1px dotted black;border-radius: 0.25em;box-sizing: border-box;margin-bottom: 0.5em;}#sk-container-id-14 div.sk-estimator:hover {background-color: #d4ebff;}#sk-container-id-14 div.sk-parallel-item::after {content: \"\";width: 100%;border-bottom: 1px solid gray;flex-grow: 1;}#sk-container-id-14 div.sk-label:hover label.sk-toggleable__label {background-color: #d4ebff;}#sk-container-id-14 div.sk-serial::before {content: \"\";position: absolute;border-left: 1px solid gray;box-sizing: border-box;top: 0;bottom: 0;left: 50%;z-index: 0;}#sk-container-id-14 div.sk-serial {display: flex;flex-direction: column;align-items: center;background-color: white;padding-right: 0.2em;padding-left: 0.2em;position: relative;}#sk-container-id-14 div.sk-item {position: relative;z-index: 1;}#sk-container-id-14 div.sk-parallel {display: flex;align-items: stretch;justify-content: center;background-color: white;position: relative;}#sk-container-id-14 div.sk-item::before, #sk-container-id-14 div.sk-parallel-item::before {content: \"\";position: absolute;border-left: 1px solid gray;box-sizing: border-box;top: 0;bottom: 0;left: 50%;z-index: -1;}#sk-container-id-14 div.sk-parallel-item {display: flex;flex-direction: column;z-index: 1;position: relative;background-color: white;}#sk-container-id-14 div.sk-parallel-item:first-child::after {align-self: flex-end;width: 50%;}#sk-container-id-14 div.sk-parallel-item:last-child::after {align-self: flex-start;width: 50%;}#sk-container-id-14 div.sk-parallel-item:only-child::after {width: 0;}#sk-container-id-14 div.sk-dashed-wrapped {border: 1px dashed gray;margin: 0 0.4em 0.5em 0.4em;box-sizing: border-box;padding-bottom: 0.4em;background-color: white;}#sk-container-id-14 div.sk-label label {font-family: monospace;font-weight: bold;display: inline-block;line-height: 1.2em;}#sk-container-id-14 div.sk-label-container {text-align: center;}#sk-container-id-14 div.sk-container {/* jupyter's `normalize.less` sets `[hidden] { display: none; }` but bootstrap.min.css set `[hidden] { display: none !important; }` so we also need the `!important` here to be able to override the default hidden behavior on the sphinx rendered scikit-learn.org. See: https://github.com/scikit-learn/scikit-learn/issues/21755 */display: inline-block !important;position: relative;}#sk-container-id-14 div.sk-text-repr-fallback {display: none;}</style><div id=\"sk-container-id-14\" class=\"sk-top-container\"><div class=\"sk-text-repr-fallback\"><pre>LabelEncoder()</pre><b>In a Jupyter environment, please rerun this cell to show the HTML representation or trust the notebook. <br />On GitHub, the HTML representation is unable to render, please try loading this page with nbviewer.org.</b></div><div class=\"sk-container\" hidden><div class=\"sk-item\"><div class=\"sk-estimator sk-toggleable\"><input class=\"sk-toggleable__control sk-hidden--visually\" id=\"sk-estimator-id-18\" type=\"checkbox\" checked><label for=\"sk-estimator-id-18\" class=\"sk-toggleable__label sk-toggleable__label-arrow\">LabelEncoder</label><div class=\"sk-toggleable__content\"><pre>LabelEncoder()</pre></div></div></div></div></div>"
      ],
      "text/plain": [
       "LabelEncoder()"
      ]
     },
     "execution_count": 244,
     "metadata": {},
     "output_type": "execute_result"
    }
   ],
   "source": [
    "#applying label encoder for the cateogrical data in target\n",
    "from sklearn.preprocessing import LabelEncoder\n",
    "le=LabelEncoder()\n",
    "#fit on the y_train\n",
    "le.fit(y_train)"
   ]
  },
  {
   "cell_type": "code",
   "execution_count": 245,
   "id": "1cd32a86",
   "metadata": {
    "id": "1cd32a86"
   },
   "outputs": [],
   "source": [
    "#transform on to the train \n",
    "y_train['Disposition']=le.transform(y_train['Disposition'])\n"
   ]
  },
  {
   "cell_type": "code",
   "execution_count": 249,
   "id": "664947ff",
   "metadata": {
    "id": "664947ff",
    "scrolled": true
   },
   "outputs": [
    {
     "ename": "TypeError",
     "evalue": "ufunc 'isnan' not supported for the input types, and the inputs could not be safely coerced to any supported types according to the casting rule ''safe''",
     "output_type": "error",
     "traceback": [
      "\u001b[1;31m---------------------------------------------------------------------------\u001b[0m",
      "\u001b[1;31mTypeError\u001b[0m                                 Traceback (most recent call last)",
      "Input \u001b[1;32mIn [249]\u001b[0m, in \u001b[0;36m<cell line: 2>\u001b[1;34m()\u001b[0m\n\u001b[0;32m      1\u001b[0m \u001b[38;5;66;03m#transform on to the test\u001b[39;00m\n\u001b[1;32m----> 2\u001b[0m y_test[\u001b[38;5;124m'\u001b[39m\u001b[38;5;124mDisposition\u001b[39m\u001b[38;5;124m'\u001b[39m]\u001b[38;5;241m=\u001b[39m\u001b[43mle\u001b[49m\u001b[38;5;241;43m.\u001b[39;49m\u001b[43mtransform\u001b[49m\u001b[43m(\u001b[49m\u001b[43my_test\u001b[49m\u001b[43m[\u001b[49m\u001b[38;5;124;43m'\u001b[39;49m\u001b[38;5;124;43mDisposition\u001b[39;49m\u001b[38;5;124;43m'\u001b[39;49m\u001b[43m]\u001b[49m\u001b[43m)\u001b[49m\n",
      "File \u001b[1;32m~\\anaconda3\\lib\\site-packages\\sklearn\\preprocessing\\_label.py:138\u001b[0m, in \u001b[0;36mLabelEncoder.transform\u001b[1;34m(self, y)\u001b[0m\n\u001b[0;32m    135\u001b[0m \u001b[38;5;28;01mif\u001b[39;00m _num_samples(y) \u001b[38;5;241m==\u001b[39m \u001b[38;5;241m0\u001b[39m:\n\u001b[0;32m    136\u001b[0m     \u001b[38;5;28;01mreturn\u001b[39;00m np\u001b[38;5;241m.\u001b[39marray([])\n\u001b[1;32m--> 138\u001b[0m \u001b[38;5;28;01mreturn\u001b[39;00m \u001b[43m_encode\u001b[49m\u001b[43m(\u001b[49m\u001b[43my\u001b[49m\u001b[43m,\u001b[49m\u001b[43m \u001b[49m\u001b[43muniques\u001b[49m\u001b[38;5;241;43m=\u001b[39;49m\u001b[38;5;28;43mself\u001b[39;49m\u001b[38;5;241;43m.\u001b[39;49m\u001b[43mclasses_\u001b[49m\u001b[43m)\u001b[49m\n",
      "File \u001b[1;32m~\\anaconda3\\lib\\site-packages\\sklearn\\utils\\_encode.py:229\u001b[0m, in \u001b[0;36m_encode\u001b[1;34m(values, uniques, check_unknown)\u001b[0m\n\u001b[0;32m    227\u001b[0m \u001b[38;5;28;01melse\u001b[39;00m:\n\u001b[0;32m    228\u001b[0m     \u001b[38;5;28;01mif\u001b[39;00m check_unknown:\n\u001b[1;32m--> 229\u001b[0m         diff \u001b[38;5;241m=\u001b[39m \u001b[43m_check_unknown\u001b[49m\u001b[43m(\u001b[49m\u001b[43mvalues\u001b[49m\u001b[43m,\u001b[49m\u001b[43m \u001b[49m\u001b[43muniques\u001b[49m\u001b[43m)\u001b[49m\n\u001b[0;32m    230\u001b[0m         \u001b[38;5;28;01mif\u001b[39;00m diff:\n\u001b[0;32m    231\u001b[0m             \u001b[38;5;28;01mraise\u001b[39;00m \u001b[38;5;167;01mValueError\u001b[39;00m(\u001b[38;5;124mf\u001b[39m\u001b[38;5;124m\"\u001b[39m\u001b[38;5;124my contains previously unseen labels: \u001b[39m\u001b[38;5;132;01m{\u001b[39;00m\u001b[38;5;28mstr\u001b[39m(diff)\u001b[38;5;132;01m}\u001b[39;00m\u001b[38;5;124m\"\u001b[39m)\n",
      "File \u001b[1;32m~\\anaconda3\\lib\\site-packages\\sklearn\\utils\\_encode.py:303\u001b[0m, in \u001b[0;36m_check_unknown\u001b[1;34m(values, known_values, return_mask)\u001b[0m\n\u001b[0;32m    300\u001b[0m         valid_mask \u001b[38;5;241m=\u001b[39m np\u001b[38;5;241m.\u001b[39mones(\u001b[38;5;28mlen\u001b[39m(values), dtype\u001b[38;5;241m=\u001b[39m\u001b[38;5;28mbool\u001b[39m)\n\u001b[0;32m    302\u001b[0m \u001b[38;5;66;03m# check for nans in the known_values\u001b[39;00m\n\u001b[1;32m--> 303\u001b[0m \u001b[38;5;28;01mif\u001b[39;00m \u001b[43mnp\u001b[49m\u001b[38;5;241;43m.\u001b[39;49m\u001b[43misnan\u001b[49m\u001b[43m(\u001b[49m\u001b[43mknown_values\u001b[49m\u001b[43m)\u001b[49m\u001b[38;5;241m.\u001b[39many():\n\u001b[0;32m    304\u001b[0m     diff_is_nan \u001b[38;5;241m=\u001b[39m np\u001b[38;5;241m.\u001b[39misnan(diff)\n\u001b[0;32m    305\u001b[0m     \u001b[38;5;28;01mif\u001b[39;00m diff_is_nan\u001b[38;5;241m.\u001b[39many():\n\u001b[0;32m    306\u001b[0m         \u001b[38;5;66;03m# removes nan from valid_mask\u001b[39;00m\n",
      "\u001b[1;31mTypeError\u001b[0m: ufunc 'isnan' not supported for the input types, and the inputs could not be safely coerced to any supported types according to the casting rule ''safe''"
     ]
    }
   ],
   "source": [
    "#transform on to the validation\n",
    "y_test['Disposition']=le.transform(y_test['Disposition'])"
   ]
  },
  {
   "cell_type": "markdown",
   "id": "d82c86e0",
   "metadata": {},
   "source": [
    "# Logistic Regression"
   ]
  },
  {
   "cell_type": "code",
   "execution_count": 260,
   "id": "b35c5746",
   "metadata": {
    "id": "b35c5746"
   },
   "outputs": [],
   "source": [
    "from sklearn.metrics import classification_report as cr,confusion_matrix"
   ]
  },
  {
   "cell_type": "code",
   "execution_count": 252,
   "id": "EjXg8lJGwyAO",
   "metadata": {
    "id": "EjXg8lJGwyAO"
   },
   "outputs": [
    {
     "data": {
      "text/html": [
       "<style>#sk-container-id-15 {color: black;background-color: white;}#sk-container-id-15 pre{padding: 0;}#sk-container-id-15 div.sk-toggleable {background-color: white;}#sk-container-id-15 label.sk-toggleable__label {cursor: pointer;display: block;width: 100%;margin-bottom: 0;padding: 0.3em;box-sizing: border-box;text-align: center;}#sk-container-id-15 label.sk-toggleable__label-arrow:before {content: \"▸\";float: left;margin-right: 0.25em;color: #696969;}#sk-container-id-15 label.sk-toggleable__label-arrow:hover:before {color: black;}#sk-container-id-15 div.sk-estimator:hover label.sk-toggleable__label-arrow:before {color: black;}#sk-container-id-15 div.sk-toggleable__content {max-height: 0;max-width: 0;overflow: hidden;text-align: left;background-color: #f0f8ff;}#sk-container-id-15 div.sk-toggleable__content pre {margin: 0.2em;color: black;border-radius: 0.25em;background-color: #f0f8ff;}#sk-container-id-15 input.sk-toggleable__control:checked~div.sk-toggleable__content {max-height: 200px;max-width: 100%;overflow: auto;}#sk-container-id-15 input.sk-toggleable__control:checked~label.sk-toggleable__label-arrow:before {content: \"▾\";}#sk-container-id-15 div.sk-estimator input.sk-toggleable__control:checked~label.sk-toggleable__label {background-color: #d4ebff;}#sk-container-id-15 div.sk-label input.sk-toggleable__control:checked~label.sk-toggleable__label {background-color: #d4ebff;}#sk-container-id-15 input.sk-hidden--visually {border: 0;clip: rect(1px 1px 1px 1px);clip: rect(1px, 1px, 1px, 1px);height: 1px;margin: -1px;overflow: hidden;padding: 0;position: absolute;width: 1px;}#sk-container-id-15 div.sk-estimator {font-family: monospace;background-color: #f0f8ff;border: 1px dotted black;border-radius: 0.25em;box-sizing: border-box;margin-bottom: 0.5em;}#sk-container-id-15 div.sk-estimator:hover {background-color: #d4ebff;}#sk-container-id-15 div.sk-parallel-item::after {content: \"\";width: 100%;border-bottom: 1px solid gray;flex-grow: 1;}#sk-container-id-15 div.sk-label:hover label.sk-toggleable__label {background-color: #d4ebff;}#sk-container-id-15 div.sk-serial::before {content: \"\";position: absolute;border-left: 1px solid gray;box-sizing: border-box;top: 0;bottom: 0;left: 50%;z-index: 0;}#sk-container-id-15 div.sk-serial {display: flex;flex-direction: column;align-items: center;background-color: white;padding-right: 0.2em;padding-left: 0.2em;position: relative;}#sk-container-id-15 div.sk-item {position: relative;z-index: 1;}#sk-container-id-15 div.sk-parallel {display: flex;align-items: stretch;justify-content: center;background-color: white;position: relative;}#sk-container-id-15 div.sk-item::before, #sk-container-id-15 div.sk-parallel-item::before {content: \"\";position: absolute;border-left: 1px solid gray;box-sizing: border-box;top: 0;bottom: 0;left: 50%;z-index: -1;}#sk-container-id-15 div.sk-parallel-item {display: flex;flex-direction: column;z-index: 1;position: relative;background-color: white;}#sk-container-id-15 div.sk-parallel-item:first-child::after {align-self: flex-end;width: 50%;}#sk-container-id-15 div.sk-parallel-item:last-child::after {align-self: flex-start;width: 50%;}#sk-container-id-15 div.sk-parallel-item:only-child::after {width: 0;}#sk-container-id-15 div.sk-dashed-wrapped {border: 1px dashed gray;margin: 0 0.4em 0.5em 0.4em;box-sizing: border-box;padding-bottom: 0.4em;background-color: white;}#sk-container-id-15 div.sk-label label {font-family: monospace;font-weight: bold;display: inline-block;line-height: 1.2em;}#sk-container-id-15 div.sk-label-container {text-align: center;}#sk-container-id-15 div.sk-container {/* jupyter's `normalize.less` sets `[hidden] { display: none; }` but bootstrap.min.css set `[hidden] { display: none !important; }` so we also need the `!important` here to be able to override the default hidden behavior on the sphinx rendered scikit-learn.org. See: https://github.com/scikit-learn/scikit-learn/issues/21755 */display: inline-block !important;position: relative;}#sk-container-id-15 div.sk-text-repr-fallback {display: none;}</style><div id=\"sk-container-id-15\" class=\"sk-top-container\"><div class=\"sk-text-repr-fallback\"><pre>LogisticRegression()</pre><b>In a Jupyter environment, please rerun this cell to show the HTML representation or trust the notebook. <br />On GitHub, the HTML representation is unable to render, please try loading this page with nbviewer.org.</b></div><div class=\"sk-container\" hidden><div class=\"sk-item\"><div class=\"sk-estimator sk-toggleable\"><input class=\"sk-toggleable__control sk-hidden--visually\" id=\"sk-estimator-id-19\" type=\"checkbox\" checked><label for=\"sk-estimator-id-19\" class=\"sk-toggleable__label sk-toggleable__label-arrow\">LogisticRegression</label><div class=\"sk-toggleable__content\"><pre>LogisticRegression()</pre></div></div></div></div></div>"
      ],
      "text/plain": [
       "LogisticRegression()"
      ]
     },
     "execution_count": 252,
     "metadata": {},
     "output_type": "execute_result"
    }
   ],
   "source": [
    "from sklearn.linear_model import LogisticRegression\n",
    "lr=LogisticRegression()\n",
    "lr.fit(x_train,y_train)"
   ]
  },
  {
   "cell_type": "code",
   "execution_count": 253,
   "id": "c6f0c00b",
   "metadata": {},
   "outputs": [],
   "source": [
    "train_predlr=lr.predict(x_train)\n",
    "test_predlr=lr.predict(x_test)"
   ]
  },
  {
   "cell_type": "code",
   "execution_count": 264,
   "id": "26a4bc22",
   "metadata": {},
   "outputs": [
    {
     "name": "stdout",
     "output_type": "stream",
     "text": [
      "---confusion_matrix on train-----\n",
      "[[ 1323  1259   485]\n",
      " [ 5905 13005  5272]\n",
      " [   14    14    11]]\n",
      "---confusion_matrix on validation----\n",
      "[[ 347  315  125]\n",
      " [1459 3253 1313]\n",
      " [   4    2    4]]\n"
     ]
    }
   ],
   "source": [
    "print('---confusion_matrix on train-----')\n",
    "print(confusion_matrix(train_predlr,y_train))\n",
    "print('---confusion_matrix on validation----')\n",
    "print(confusion_matrix(test_predlr,y_test))"
   ]
  },
  {
   "cell_type": "code",
   "execution_count": 263,
   "id": "5d43ee14",
   "metadata": {
    "scrolled": true
   },
   "outputs": [
    {
     "name": "stdout",
     "output_type": "stream",
     "text": [
      "--------train data---------\n",
      "              precision    recall  f1-score   support\n",
      "\n",
      "           0       0.18      0.43      0.26      3067\n",
      "           1       0.91      0.54      0.68     24182\n",
      "           2       0.00      0.28      0.00        39\n",
      "\n",
      "    accuracy                           0.53     27288\n",
      "   macro avg       0.37      0.42      0.31     27288\n",
      "weighted avg       0.83      0.53      0.63     27288\n",
      "\n",
      "--------validation data---------\n",
      "              precision    recall  f1-score   support\n",
      "\n",
      "           0       0.44      0.19      0.27      1810\n",
      "           1       0.54      0.91      0.68      3570\n",
      "           2       0.40      0.00      0.01      1442\n",
      "\n",
      "    accuracy                           0.53      6822\n",
      "   macro avg       0.46      0.37      0.32      6822\n",
      "weighted avg       0.48      0.53      0.43      6822\n",
      "\n"
     ]
    }
   ],
   "source": [
    "print(\"--------train data---------\")\n",
    "print(cr(train_predlr,y_train))\n",
    "print(\"--------validation data---------\")\n",
    "print(cr(y_test,test_predlr))"
   ]
  },
  {
   "cell_type": "code",
   "execution_count": null,
   "id": "4914640b",
   "metadata": {},
   "outputs": [],
   "source": []
  },
  {
   "cell_type": "markdown",
   "id": "e6fcd317",
   "metadata": {
    "id": "e6fcd317"
   },
   "source": [
    "## Decission Tree"
   ]
  },
  {
   "cell_type": "code",
   "execution_count": 180,
   "id": "4792eda1",
   "metadata": {
    "colab": {
     "base_uri": "https://localhost:8080/"
    },
    "executionInfo": {
     "elapsed": 15,
     "status": "ok",
     "timestamp": 1669195241898,
     "user": {
      "displayName": "N160079 GANIREDDY NOOKA PARAMESH",
      "userId": "09024512965911926212"
     },
     "user_tz": -330
    },
    "id": "4792eda1",
    "outputId": "575e3147-b280-4581-a983-66b744ec1a1b"
   },
   "outputs": [
    {
     "data": {
      "text/html": [
       "<style>#sk-container-id-11 {color: black;background-color: white;}#sk-container-id-11 pre{padding: 0;}#sk-container-id-11 div.sk-toggleable {background-color: white;}#sk-container-id-11 label.sk-toggleable__label {cursor: pointer;display: block;width: 100%;margin-bottom: 0;padding: 0.3em;box-sizing: border-box;text-align: center;}#sk-container-id-11 label.sk-toggleable__label-arrow:before {content: \"▸\";float: left;margin-right: 0.25em;color: #696969;}#sk-container-id-11 label.sk-toggleable__label-arrow:hover:before {color: black;}#sk-container-id-11 div.sk-estimator:hover label.sk-toggleable__label-arrow:before {color: black;}#sk-container-id-11 div.sk-toggleable__content {max-height: 0;max-width: 0;overflow: hidden;text-align: left;background-color: #f0f8ff;}#sk-container-id-11 div.sk-toggleable__content pre {margin: 0.2em;color: black;border-radius: 0.25em;background-color: #f0f8ff;}#sk-container-id-11 input.sk-toggleable__control:checked~div.sk-toggleable__content {max-height: 200px;max-width: 100%;overflow: auto;}#sk-container-id-11 input.sk-toggleable__control:checked~label.sk-toggleable__label-arrow:before {content: \"▾\";}#sk-container-id-11 div.sk-estimator input.sk-toggleable__control:checked~label.sk-toggleable__label {background-color: #d4ebff;}#sk-container-id-11 div.sk-label input.sk-toggleable__control:checked~label.sk-toggleable__label {background-color: #d4ebff;}#sk-container-id-11 input.sk-hidden--visually {border: 0;clip: rect(1px 1px 1px 1px);clip: rect(1px, 1px, 1px, 1px);height: 1px;margin: -1px;overflow: hidden;padding: 0;position: absolute;width: 1px;}#sk-container-id-11 div.sk-estimator {font-family: monospace;background-color: #f0f8ff;border: 1px dotted black;border-radius: 0.25em;box-sizing: border-box;margin-bottom: 0.5em;}#sk-container-id-11 div.sk-estimator:hover {background-color: #d4ebff;}#sk-container-id-11 div.sk-parallel-item::after {content: \"\";width: 100%;border-bottom: 1px solid gray;flex-grow: 1;}#sk-container-id-11 div.sk-label:hover label.sk-toggleable__label {background-color: #d4ebff;}#sk-container-id-11 div.sk-serial::before {content: \"\";position: absolute;border-left: 1px solid gray;box-sizing: border-box;top: 0;bottom: 0;left: 50%;z-index: 0;}#sk-container-id-11 div.sk-serial {display: flex;flex-direction: column;align-items: center;background-color: white;padding-right: 0.2em;padding-left: 0.2em;position: relative;}#sk-container-id-11 div.sk-item {position: relative;z-index: 1;}#sk-container-id-11 div.sk-parallel {display: flex;align-items: stretch;justify-content: center;background-color: white;position: relative;}#sk-container-id-11 div.sk-item::before, #sk-container-id-11 div.sk-parallel-item::before {content: \"\";position: absolute;border-left: 1px solid gray;box-sizing: border-box;top: 0;bottom: 0;left: 50%;z-index: -1;}#sk-container-id-11 div.sk-parallel-item {display: flex;flex-direction: column;z-index: 1;position: relative;background-color: white;}#sk-container-id-11 div.sk-parallel-item:first-child::after {align-self: flex-end;width: 50%;}#sk-container-id-11 div.sk-parallel-item:last-child::after {align-self: flex-start;width: 50%;}#sk-container-id-11 div.sk-parallel-item:only-child::after {width: 0;}#sk-container-id-11 div.sk-dashed-wrapped {border: 1px dashed gray;margin: 0 0.4em 0.5em 0.4em;box-sizing: border-box;padding-bottom: 0.4em;background-color: white;}#sk-container-id-11 div.sk-label label {font-family: monospace;font-weight: bold;display: inline-block;line-height: 1.2em;}#sk-container-id-11 div.sk-label-container {text-align: center;}#sk-container-id-11 div.sk-container {/* jupyter's `normalize.less` sets `[hidden] { display: none; }` but bootstrap.min.css set `[hidden] { display: none !important; }` so we also need the `!important` here to be able to override the default hidden behavior on the sphinx rendered scikit-learn.org. See: https://github.com/scikit-learn/scikit-learn/issues/21755 */display: inline-block !important;position: relative;}#sk-container-id-11 div.sk-text-repr-fallback {display: none;}</style><div id=\"sk-container-id-11\" class=\"sk-top-container\"><div class=\"sk-text-repr-fallback\"><pre>DecisionTreeClassifier()</pre><b>In a Jupyter environment, please rerun this cell to show the HTML representation or trust the notebook. <br />On GitHub, the HTML representation is unable to render, please try loading this page with nbviewer.org.</b></div><div class=\"sk-container\" hidden><div class=\"sk-item\"><div class=\"sk-estimator sk-toggleable\"><input class=\"sk-toggleable__control sk-hidden--visually\" id=\"sk-estimator-id-15\" type=\"checkbox\" checked><label for=\"sk-estimator-id-15\" class=\"sk-toggleable__label sk-toggleable__label-arrow\">DecisionTreeClassifier</label><div class=\"sk-toggleable__content\"><pre>DecisionTreeClassifier()</pre></div></div></div></div></div>"
      ],
      "text/plain": [
       "DecisionTreeClassifier()"
      ]
     },
     "execution_count": 180,
     "metadata": {},
     "output_type": "execute_result"
    }
   ],
   "source": [
    "from sklearn.tree import DecisionTreeClassifier\n",
    "dtc=DecisionTreeClassifier()\n",
    "dtc.fit(x_train,y_train)"
   ]
  },
  {
   "cell_type": "code",
   "execution_count": 181,
   "id": "35934981",
   "metadata": {
    "id": "35934981"
   },
   "outputs": [],
   "source": [
    "train_predsdtc=dtc.predict(x_train)\n",
    "test_predsdtc=dtc.predict(x_test)"
   ]
  },
  {
   "cell_type": "code",
   "execution_count": 265,
   "id": "6a8a6905",
   "metadata": {},
   "outputs": [
    {
     "name": "stdout",
     "output_type": "stream",
     "text": [
      "---confusion_matrix on train-----\n",
      "[[ 3902  1906   935]\n",
      " [ 3119 12021  3642]\n",
      " [  221   351  1191]]\n",
      "---confusion_matrix on validation----\n",
      "[[ 685  684  325]\n",
      " [ 996 2661  990]\n",
      " [ 129  225  127]]\n"
     ]
    }
   ],
   "source": [
    "print('---confusion_matrix on train-----')\n",
    "print(confusion_matrix(train_predsdtc,y_train))\n",
    "print('---confusion_matrix on validation----')\n",
    "print(confusion_matrix(test_predsdtc,y_test))"
   ]
  },
  {
   "cell_type": "code",
   "execution_count": 182,
   "id": "c3b82a0b",
   "metadata": {
    "colab": {
     "base_uri": "https://localhost:8080/"
    },
    "executionInfo": {
     "elapsed": 1392,
     "status": "ok",
     "timestamp": 1669195243280,
     "user": {
      "displayName": "N160079 GANIREDDY NOOKA PARAMESH",
      "userId": "09024512965911926212"
     },
     "user_tz": -330
    },
    "id": "c3b82a0b",
    "outputId": "c494d14f-4f9a-41e4-e8a3-2526734eec63"
   },
   "outputs": [
    {
     "name": "stdout",
     "output_type": "stream",
     "text": [
      "--------train data---------\n",
      "              precision    recall  f1-score   support\n",
      "\n",
      "           0       0.58      0.54      0.56      7242\n",
      "           1       0.64      0.84      0.73     14278\n",
      "           2       0.68      0.21      0.32      5768\n",
      "\n",
      "    accuracy                           0.63     27288\n",
      "   macro avg       0.63      0.53      0.53     27288\n",
      "weighted avg       0.63      0.63      0.60     27288\n",
      "\n",
      "--------validation data---------\n",
      "              precision    recall  f1-score   support\n",
      "\n",
      "           0       0.40      0.38      0.39      1810\n",
      "           1       0.57      0.75      0.65      3570\n",
      "           2       0.26      0.09      0.13      1442\n",
      "\n",
      "    accuracy                           0.51      6822\n",
      "   macro avg       0.41      0.40      0.39      6822\n",
      "weighted avg       0.46      0.51      0.47      6822\n",
      "\n"
     ]
    }
   ],
   "source": [
    "from sklearn.metrics import classification_report as cr\n",
    "print(\"--------train data---------\")\n",
    "print(cr(y_train,train_predsdtc))\n",
    "print(\"--------validation data---------\")\n",
    "print(cr(y_test,test_predsdtc))"
   ]
  },
  {
   "cell_type": "code",
   "execution_count": 266,
   "id": "5001a8f7",
   "metadata": {},
   "outputs": [],
   "source": [
    "#prediction on the test data\n",
    "final_predsdt=dtc.predict(test_data)\n"
   ]
  },
  {
   "cell_type": "code",
   "execution_count": 267,
   "id": "026a2182",
   "metadata": {},
   "outputs": [],
   "source": [
    "#creating dataframe on test predictions\n",
    "col=['Disposition']\n",
    "final_preddtc=pd.DataFrame(final_predsdt,columns=col)"
   ]
  },
  {
   "cell_type": "code",
   "execution_count": 268,
   "id": "f31d7e91",
   "metadata": {},
   "outputs": [],
   "source": [
    "# inversing the labeled one into actual names using transform of label encoder\n",
    "final_preddtc['Disposition']=le.inverse_transform(final_preddtc['Disposition'])"
   ]
  },
  {
   "cell_type": "code",
   "execution_count": 269,
   "id": "4eb8c350",
   "metadata": {},
   "outputs": [],
   "source": [
    "#concating both test id and prediction of test dat\n",
    "submitdt=pd.concat([test_id['Claim Number'],final_preddtc],axis=1)"
   ]
  },
  {
   "cell_type": "code",
   "execution_count": 270,
   "id": "946b5afb",
   "metadata": {},
   "outputs": [],
   "source": [
    "#coverting into csv file\n",
    "submitdt.to_csv('submission@dt@withoutgrid.csv',index=False)"
   ]
  },
  {
   "cell_type": "code",
   "execution_count": null,
   "id": "87cdb5ac",
   "metadata": {},
   "outputs": [],
   "source": []
  },
  {
   "cell_type": "markdown",
   "id": "8b23f2e4",
   "metadata": {},
   "source": [
    "# DecisionTree with GridSearchCV"
   ]
  },
  {
   "cell_type": "code",
   "execution_count": 273,
   "id": "f73fa9fa",
   "metadata": {},
   "outputs": [],
   "source": [
    "from sklearn.model_selection import GridSearchCV #importing the GridSearchcv"
   ]
  },
  {
   "cell_type": "code",
   "execution_count": 275,
   "id": "c40bceb0",
   "metadata": {},
   "outputs": [],
   "source": [
    "paramsdt={'criterion':['gini','entropy','log_loss'],'max_depth':[5,10,30,50]}   #giving set of parameters to get the best"
   ]
  },
  {
   "cell_type": "code",
   "execution_count": 276,
   "id": "a89a1829",
   "metadata": {},
   "outputs": [],
   "source": [
    "dtc_grid=GridSearchCV(estimator=dtc,param_grid=paramsdt,verbose=1)"
   ]
  },
  {
   "cell_type": "code",
   "execution_count": 277,
   "id": "9d22026b",
   "metadata": {},
   "outputs": [
    {
     "name": "stdout",
     "output_type": "stream",
     "text": [
      "Fitting 5 folds for each of 12 candidates, totalling 60 fits\n"
     ]
    },
    {
     "data": {
      "text/html": [
       "<style>#sk-container-id-16 {color: black;background-color: white;}#sk-container-id-16 pre{padding: 0;}#sk-container-id-16 div.sk-toggleable {background-color: white;}#sk-container-id-16 label.sk-toggleable__label {cursor: pointer;display: block;width: 100%;margin-bottom: 0;padding: 0.3em;box-sizing: border-box;text-align: center;}#sk-container-id-16 label.sk-toggleable__label-arrow:before {content: \"▸\";float: left;margin-right: 0.25em;color: #696969;}#sk-container-id-16 label.sk-toggleable__label-arrow:hover:before {color: black;}#sk-container-id-16 div.sk-estimator:hover label.sk-toggleable__label-arrow:before {color: black;}#sk-container-id-16 div.sk-toggleable__content {max-height: 0;max-width: 0;overflow: hidden;text-align: left;background-color: #f0f8ff;}#sk-container-id-16 div.sk-toggleable__content pre {margin: 0.2em;color: black;border-radius: 0.25em;background-color: #f0f8ff;}#sk-container-id-16 input.sk-toggleable__control:checked~div.sk-toggleable__content {max-height: 200px;max-width: 100%;overflow: auto;}#sk-container-id-16 input.sk-toggleable__control:checked~label.sk-toggleable__label-arrow:before {content: \"▾\";}#sk-container-id-16 div.sk-estimator input.sk-toggleable__control:checked~label.sk-toggleable__label {background-color: #d4ebff;}#sk-container-id-16 div.sk-label input.sk-toggleable__control:checked~label.sk-toggleable__label {background-color: #d4ebff;}#sk-container-id-16 input.sk-hidden--visually {border: 0;clip: rect(1px 1px 1px 1px);clip: rect(1px, 1px, 1px, 1px);height: 1px;margin: -1px;overflow: hidden;padding: 0;position: absolute;width: 1px;}#sk-container-id-16 div.sk-estimator {font-family: monospace;background-color: #f0f8ff;border: 1px dotted black;border-radius: 0.25em;box-sizing: border-box;margin-bottom: 0.5em;}#sk-container-id-16 div.sk-estimator:hover {background-color: #d4ebff;}#sk-container-id-16 div.sk-parallel-item::after {content: \"\";width: 100%;border-bottom: 1px solid gray;flex-grow: 1;}#sk-container-id-16 div.sk-label:hover label.sk-toggleable__label {background-color: #d4ebff;}#sk-container-id-16 div.sk-serial::before {content: \"\";position: absolute;border-left: 1px solid gray;box-sizing: border-box;top: 0;bottom: 0;left: 50%;z-index: 0;}#sk-container-id-16 div.sk-serial {display: flex;flex-direction: column;align-items: center;background-color: white;padding-right: 0.2em;padding-left: 0.2em;position: relative;}#sk-container-id-16 div.sk-item {position: relative;z-index: 1;}#sk-container-id-16 div.sk-parallel {display: flex;align-items: stretch;justify-content: center;background-color: white;position: relative;}#sk-container-id-16 div.sk-item::before, #sk-container-id-16 div.sk-parallel-item::before {content: \"\";position: absolute;border-left: 1px solid gray;box-sizing: border-box;top: 0;bottom: 0;left: 50%;z-index: -1;}#sk-container-id-16 div.sk-parallel-item {display: flex;flex-direction: column;z-index: 1;position: relative;background-color: white;}#sk-container-id-16 div.sk-parallel-item:first-child::after {align-self: flex-end;width: 50%;}#sk-container-id-16 div.sk-parallel-item:last-child::after {align-self: flex-start;width: 50%;}#sk-container-id-16 div.sk-parallel-item:only-child::after {width: 0;}#sk-container-id-16 div.sk-dashed-wrapped {border: 1px dashed gray;margin: 0 0.4em 0.5em 0.4em;box-sizing: border-box;padding-bottom: 0.4em;background-color: white;}#sk-container-id-16 div.sk-label label {font-family: monospace;font-weight: bold;display: inline-block;line-height: 1.2em;}#sk-container-id-16 div.sk-label-container {text-align: center;}#sk-container-id-16 div.sk-container {/* jupyter's `normalize.less` sets `[hidden] { display: none; }` but bootstrap.min.css set `[hidden] { display: none !important; }` so we also need the `!important` here to be able to override the default hidden behavior on the sphinx rendered scikit-learn.org. See: https://github.com/scikit-learn/scikit-learn/issues/21755 */display: inline-block !important;position: relative;}#sk-container-id-16 div.sk-text-repr-fallback {display: none;}</style><div id=\"sk-container-id-16\" class=\"sk-top-container\"><div class=\"sk-text-repr-fallback\"><pre>GridSearchCV(estimator=DecisionTreeClassifier(),\n",
       "             param_grid={&#x27;criterion&#x27;: [&#x27;gini&#x27;, &#x27;entropy&#x27;, &#x27;log_loss&#x27;],\n",
       "                         &#x27;max_depth&#x27;: [5, 10, 30, 50]},\n",
       "             verbose=1)</pre><b>In a Jupyter environment, please rerun this cell to show the HTML representation or trust the notebook. <br />On GitHub, the HTML representation is unable to render, please try loading this page with nbviewer.org.</b></div><div class=\"sk-container\" hidden><div class=\"sk-item sk-dashed-wrapped\"><div class=\"sk-label-container\"><div class=\"sk-label sk-toggleable\"><input class=\"sk-toggleable__control sk-hidden--visually\" id=\"sk-estimator-id-20\" type=\"checkbox\" ><label for=\"sk-estimator-id-20\" class=\"sk-toggleable__label sk-toggleable__label-arrow\">GridSearchCV</label><div class=\"sk-toggleable__content\"><pre>GridSearchCV(estimator=DecisionTreeClassifier(),\n",
       "             param_grid={&#x27;criterion&#x27;: [&#x27;gini&#x27;, &#x27;entropy&#x27;, &#x27;log_loss&#x27;],\n",
       "                         &#x27;max_depth&#x27;: [5, 10, 30, 50]},\n",
       "             verbose=1)</pre></div></div></div><div class=\"sk-parallel\"><div class=\"sk-parallel-item\"><div class=\"sk-item\"><div class=\"sk-label-container\"><div class=\"sk-label sk-toggleable\"><input class=\"sk-toggleable__control sk-hidden--visually\" id=\"sk-estimator-id-21\" type=\"checkbox\" ><label for=\"sk-estimator-id-21\" class=\"sk-toggleable__label sk-toggleable__label-arrow\">estimator: DecisionTreeClassifier</label><div class=\"sk-toggleable__content\"><pre>DecisionTreeClassifier()</pre></div></div></div><div class=\"sk-serial\"><div class=\"sk-item\"><div class=\"sk-estimator sk-toggleable\"><input class=\"sk-toggleable__control sk-hidden--visually\" id=\"sk-estimator-id-22\" type=\"checkbox\" ><label for=\"sk-estimator-id-22\" class=\"sk-toggleable__label sk-toggleable__label-arrow\">DecisionTreeClassifier</label><div class=\"sk-toggleable__content\"><pre>DecisionTreeClassifier()</pre></div></div></div></div></div></div></div></div></div></div>"
      ],
      "text/plain": [
       "GridSearchCV(estimator=DecisionTreeClassifier(),\n",
       "             param_grid={'criterion': ['gini', 'entropy', 'log_loss'],\n",
       "                         'max_depth': [5, 10, 30, 50]},\n",
       "             verbose=1)"
      ]
     },
     "execution_count": 277,
     "metadata": {},
     "output_type": "execute_result"
    }
   ],
   "source": [
    "#apply on train data\n",
    "dtc_grid.fit(x_train,y_train)"
   ]
  },
  {
   "cell_type": "code",
   "execution_count": 278,
   "id": "ebc7274d",
   "metadata": {},
   "outputs": [],
   "source": [
    "train_predsdtgsv=dtc_grid.predict(x_train)\n",
    "test_predsdtgsv=dtc_grid.predict(x_test)"
   ]
  },
  {
   "cell_type": "code",
   "execution_count": 109,
   "id": "68a75ba0",
   "metadata": {},
   "outputs": [
    {
     "name": "stdout",
     "output_type": "stream",
     "text": [
      "--------train data---------\n",
      "              precision    recall  f1-score   support\n",
      "\n",
      "           0       0.54      0.26      0.35      7276\n",
      "           1       0.55      0.92      0.69     14267\n",
      "           2       0.67      0.00      0.00      5745\n",
      "\n",
      "    accuracy                           0.55     27288\n",
      "   macro avg       0.59      0.39      0.35     27288\n",
      "weighted avg       0.57      0.55      0.45     27288\n",
      "\n",
      "--------validation data---------\n",
      "              precision    recall  f1-score   support\n",
      "\n",
      "           0       0.53      0.25      0.34      1776\n",
      "           1       0.55      0.92      0.69      3581\n",
      "           2       0.00      0.00      0.00      1465\n",
      "\n",
      "    accuracy                           0.55      6822\n",
      "   macro avg       0.36      0.39      0.34      6822\n",
      "weighted avg       0.43      0.55      0.45      6822\n",
      "\n"
     ]
    }
   ],
   "source": [
    "from sklearn.metrics import classification_report as cr\n",
    "print(\"--------train data---------\")\n",
    "print(cr(y_train,train_predsdtgsv))\n",
    "print(\"--------validation data---------\")\n",
    "print(cr(y_test,test_predsdtgsv))"
   ]
  },
  {
   "cell_type": "code",
   "execution_count": 279,
   "id": "c3b6379e",
   "metadata": {},
   "outputs": [],
   "source": [
    "final_predsdtgsv=dtc.predict(test_data)"
   ]
  },
  {
   "cell_type": "code",
   "execution_count": 282,
   "id": "1c4d0c27",
   "metadata": {},
   "outputs": [],
   "source": [
    "#creating dataframe on test predictions\n",
    "col=['Disposition']\n",
    "final_preddtcgsv=pd.DataFrame(final_predsdtgsv,columns=col)"
   ]
  },
  {
   "cell_type": "code",
   "execution_count": 283,
   "id": "e86ac451",
   "metadata": {},
   "outputs": [],
   "source": [
    "# inversing the labeled one into actual names using transform of label encoder\n",
    "final_preddtcgsv['Disposition']=le.inverse_transform(final_preddtcgsv['Disposition'])"
   ]
  },
  {
   "cell_type": "code",
   "execution_count": 284,
   "id": "8bfb5202",
   "metadata": {},
   "outputs": [],
   "source": [
    "#concating both test id and prediction of test dat\n",
    "submitdtgsv=pd.concat([test_id['Claim Number'],final_preddtcgsv],axis=1)"
   ]
  },
  {
   "cell_type": "code",
   "execution_count": 285,
   "id": "0dbdbf30",
   "metadata": {},
   "outputs": [],
   "source": [
    "#coverting into csv file\n",
    "submitdtgsv.to_csv('submission@dtcgsvwith grid.csv',index=False)"
   ]
  },
  {
   "cell_type": "code",
   "execution_count": null,
   "id": "12ff8962",
   "metadata": {},
   "outputs": [],
   "source": []
  },
  {
   "cell_type": "markdown",
   "id": "c2cabc11",
   "metadata": {
    "id": "c2cabc11"
   },
   "source": [
    "## Random Forest"
   ]
  },
  {
   "cell_type": "code",
   "execution_count": 63,
   "id": "4a604e36",
   "metadata": {
    "colab": {
     "base_uri": "https://localhost:8080/"
    },
    "executionInfo": {
     "elapsed": 2409,
     "status": "ok",
     "timestamp": 1669195245684,
     "user": {
      "displayName": "N160079 GANIREDDY NOOKA PARAMESH",
      "userId": "09024512965911926212"
     },
     "user_tz": -330
    },
    "id": "4a604e36",
    "outputId": "3b81eae1-890d-48a1-a222-dc8a5562dad7"
   },
   "outputs": [
    {
     "data": {
      "text/html": [
       "<style>#sk-container-id-4 {color: black;background-color: white;}#sk-container-id-4 pre{padding: 0;}#sk-container-id-4 div.sk-toggleable {background-color: white;}#sk-container-id-4 label.sk-toggleable__label {cursor: pointer;display: block;width: 100%;margin-bottom: 0;padding: 0.3em;box-sizing: border-box;text-align: center;}#sk-container-id-4 label.sk-toggleable__label-arrow:before {content: \"▸\";float: left;margin-right: 0.25em;color: #696969;}#sk-container-id-4 label.sk-toggleable__label-arrow:hover:before {color: black;}#sk-container-id-4 div.sk-estimator:hover label.sk-toggleable__label-arrow:before {color: black;}#sk-container-id-4 div.sk-toggleable__content {max-height: 0;max-width: 0;overflow: hidden;text-align: left;background-color: #f0f8ff;}#sk-container-id-4 div.sk-toggleable__content pre {margin: 0.2em;color: black;border-radius: 0.25em;background-color: #f0f8ff;}#sk-container-id-4 input.sk-toggleable__control:checked~div.sk-toggleable__content {max-height: 200px;max-width: 100%;overflow: auto;}#sk-container-id-4 input.sk-toggleable__control:checked~label.sk-toggleable__label-arrow:before {content: \"▾\";}#sk-container-id-4 div.sk-estimator input.sk-toggleable__control:checked~label.sk-toggleable__label {background-color: #d4ebff;}#sk-container-id-4 div.sk-label input.sk-toggleable__control:checked~label.sk-toggleable__label {background-color: #d4ebff;}#sk-container-id-4 input.sk-hidden--visually {border: 0;clip: rect(1px 1px 1px 1px);clip: rect(1px, 1px, 1px, 1px);height: 1px;margin: -1px;overflow: hidden;padding: 0;position: absolute;width: 1px;}#sk-container-id-4 div.sk-estimator {font-family: monospace;background-color: #f0f8ff;border: 1px dotted black;border-radius: 0.25em;box-sizing: border-box;margin-bottom: 0.5em;}#sk-container-id-4 div.sk-estimator:hover {background-color: #d4ebff;}#sk-container-id-4 div.sk-parallel-item::after {content: \"\";width: 100%;border-bottom: 1px solid gray;flex-grow: 1;}#sk-container-id-4 div.sk-label:hover label.sk-toggleable__label {background-color: #d4ebff;}#sk-container-id-4 div.sk-serial::before {content: \"\";position: absolute;border-left: 1px solid gray;box-sizing: border-box;top: 0;bottom: 0;left: 50%;z-index: 0;}#sk-container-id-4 div.sk-serial {display: flex;flex-direction: column;align-items: center;background-color: white;padding-right: 0.2em;padding-left: 0.2em;position: relative;}#sk-container-id-4 div.sk-item {position: relative;z-index: 1;}#sk-container-id-4 div.sk-parallel {display: flex;align-items: stretch;justify-content: center;background-color: white;position: relative;}#sk-container-id-4 div.sk-item::before, #sk-container-id-4 div.sk-parallel-item::before {content: \"\";position: absolute;border-left: 1px solid gray;box-sizing: border-box;top: 0;bottom: 0;left: 50%;z-index: -1;}#sk-container-id-4 div.sk-parallel-item {display: flex;flex-direction: column;z-index: 1;position: relative;background-color: white;}#sk-container-id-4 div.sk-parallel-item:first-child::after {align-self: flex-end;width: 50%;}#sk-container-id-4 div.sk-parallel-item:last-child::after {align-self: flex-start;width: 50%;}#sk-container-id-4 div.sk-parallel-item:only-child::after {width: 0;}#sk-container-id-4 div.sk-dashed-wrapped {border: 1px dashed gray;margin: 0 0.4em 0.5em 0.4em;box-sizing: border-box;padding-bottom: 0.4em;background-color: white;}#sk-container-id-4 div.sk-label label {font-family: monospace;font-weight: bold;display: inline-block;line-height: 1.2em;}#sk-container-id-4 div.sk-label-container {text-align: center;}#sk-container-id-4 div.sk-container {/* jupyter's `normalize.less` sets `[hidden] { display: none; }` but bootstrap.min.css set `[hidden] { display: none !important; }` so we also need the `!important` here to be able to override the default hidden behavior on the sphinx rendered scikit-learn.org. See: https://github.com/scikit-learn/scikit-learn/issues/21755 */display: inline-block !important;position: relative;}#sk-container-id-4 div.sk-text-repr-fallback {display: none;}</style><div id=\"sk-container-id-4\" class=\"sk-top-container\"><div class=\"sk-text-repr-fallback\"><pre>RandomForestClassifier()</pre><b>In a Jupyter environment, please rerun this cell to show the HTML representation or trust the notebook. <br />On GitHub, the HTML representation is unable to render, please try loading this page with nbviewer.org.</b></div><div class=\"sk-container\" hidden><div class=\"sk-item\"><div class=\"sk-estimator sk-toggleable\"><input class=\"sk-toggleable__control sk-hidden--visually\" id=\"sk-estimator-id-4\" type=\"checkbox\" checked><label for=\"sk-estimator-id-4\" class=\"sk-toggleable__label sk-toggleable__label-arrow\">RandomForestClassifier</label><div class=\"sk-toggleable__content\"><pre>RandomForestClassifier()</pre></div></div></div></div></div>"
      ],
      "text/plain": [
       "RandomForestClassifier()"
      ]
     },
     "execution_count": 63,
     "metadata": {},
     "output_type": "execute_result"
    }
   ],
   "source": [
    "from sklearn.ensemble import RandomForestClassifier\n",
    "rtc=RandomForestClassifier()\n",
    "rtc.fit(x_train,y_train)"
   ]
  },
  {
   "cell_type": "code",
   "execution_count": 66,
   "id": "98abef83",
   "metadata": {
    "id": "98abef83"
   },
   "outputs": [],
   "source": [
    "train_predsrf=rtc.predict(x_train)\n",
    "test_predsrf=rtc.predict(x_test)"
   ]
  },
  {
   "cell_type": "code",
   "execution_count": 67,
   "id": "c8d440d9",
   "metadata": {
    "colab": {
     "base_uri": "https://localhost:8080/"
    },
    "executionInfo": {
     "elapsed": 19,
     "status": "ok",
     "timestamp": 1669195246328,
     "user": {
      "displayName": "N160079 GANIREDDY NOOKA PARAMESH",
      "userId": "09024512965911926212"
     },
     "user_tz": -330
    },
    "id": "c8d440d9",
    "outputId": "8b1173aa-30d5-48a0-9532-19f8c819a956"
   },
   "outputs": [
    {
     "name": "stdout",
     "output_type": "stream",
     "text": [
      "--------train data---------\n",
      "              precision    recall  f1-score   support\n",
      "\n",
      "           0       0.60      0.49      0.54      7276\n",
      "           1       0.64      0.86      0.73     14267\n",
      "           2       0.61      0.25      0.36      5745\n",
      "\n",
      "    accuracy                           0.63     27288\n",
      "   macro avg       0.62      0.53      0.54     27288\n",
      "weighted avg       0.62      0.63      0.60     27288\n",
      "\n",
      "--------train data---------\n",
      "              precision    recall  f1-score   support\n",
      "\n",
      "           0       0.40      0.32      0.36      1776\n",
      "           1       0.57      0.77      0.65      3581\n",
      "           2       0.27      0.10      0.15      1465\n",
      "\n",
      "    accuracy                           0.51      6822\n",
      "   macro avg       0.41      0.40      0.39      6822\n",
      "weighted avg       0.46      0.51      0.47      6822\n",
      "\n"
     ]
    }
   ],
   "source": [
    "from sklearn.metrics import classification_report as cr\n",
    "print(\"--------train data---------\")\n",
    "print(cr(y_train,train_predsrf))\n",
    "print(\"--------validation data---------\")\n",
    "print(cr(y_test,test_predsrf))"
   ]
  },
  {
   "cell_type": "code",
   "execution_count": null,
   "id": "742e5d4c",
   "metadata": {},
   "outputs": [],
   "source": []
  },
  {
   "cell_type": "code",
   "execution_count": 75,
   "id": "ab4c0e0f",
   "metadata": {},
   "outputs": [],
   "source": [
    "final_predsrtc=rtc.predict(test_data)\n"
   ]
  },
  {
   "cell_type": "code",
   "execution_count": 76,
   "id": "f74fbace",
   "metadata": {},
   "outputs": [],
   "source": [
    "col=['Disposition']\n",
    "final_predrtc=pd.DataFrame(final_predsrtc,columns=col)"
   ]
  },
  {
   "cell_type": "code",
   "execution_count": 78,
   "id": "940d7d9e",
   "metadata": {
    "scrolled": true
   },
   "outputs": [],
   "source": [
    "final_predrtc['Disposition']=le.inverse_transform(final_predrtc['Disposition'])"
   ]
  },
  {
   "cell_type": "code",
   "execution_count": 81,
   "id": "6399c75c",
   "metadata": {
    "scrolled": true
   },
   "outputs": [],
   "source": [
    "submitrtf=pd.concat([test_id['Claim Number'],final_predrtc],axis=1)"
   ]
  },
  {
   "cell_type": "code",
   "execution_count": 83,
   "id": "29b7b1ea",
   "metadata": {},
   "outputs": [],
   "source": [
    "submitrtf.to_csv('submissionrtfwithoutgrid.csv',index=False)"
   ]
  },
  {
   "cell_type": "markdown",
   "id": "1272a0be",
   "metadata": {
    "id": "1272a0be"
   },
   "source": [
    "## Random Forest With gridsearchCV"
   ]
  },
  {
   "cell_type": "code",
   "execution_count": 96,
   "id": "48d4fc2a",
   "metadata": {
    "id": "48d4fc2a"
   },
   "outputs": [],
   "source": [
    "\n",
    "params={'n_estimators':[100,150,200],\n",
    "    'criterion':['gini','entropy'],\n",
    "    'max_depth':[5,10,30,50]}"
   ]
  },
  {
   "cell_type": "code",
   "execution_count": 97,
   "id": "a45eb157",
   "metadata": {
    "id": "a45eb157"
   },
   "outputs": [],
   "source": [
    "rfc_grid=GridSearchCV(estimator=rtc,param_grid=params,verbose=1)"
   ]
  },
  {
   "cell_type": "code",
   "execution_count": 98,
   "id": "e1df0140",
   "metadata": {
    "colab": {
     "background_save": true,
     "base_uri": "https://localhost:8080/"
    },
    "id": "e1df0140",
    "outputId": "36832b03-d9ef-4133-82e7-789380ef0729"
   },
   "outputs": [
    {
     "name": "stdout",
     "output_type": "stream",
     "text": [
      "Fitting 5 folds for each of 24 candidates, totalling 120 fits\n"
     ]
    },
    {
     "data": {
      "text/html": [
       "<style>#sk-container-id-6 {color: black;background-color: white;}#sk-container-id-6 pre{padding: 0;}#sk-container-id-6 div.sk-toggleable {background-color: white;}#sk-container-id-6 label.sk-toggleable__label {cursor: pointer;display: block;width: 100%;margin-bottom: 0;padding: 0.3em;box-sizing: border-box;text-align: center;}#sk-container-id-6 label.sk-toggleable__label-arrow:before {content: \"▸\";float: left;margin-right: 0.25em;color: #696969;}#sk-container-id-6 label.sk-toggleable__label-arrow:hover:before {color: black;}#sk-container-id-6 div.sk-estimator:hover label.sk-toggleable__label-arrow:before {color: black;}#sk-container-id-6 div.sk-toggleable__content {max-height: 0;max-width: 0;overflow: hidden;text-align: left;background-color: #f0f8ff;}#sk-container-id-6 div.sk-toggleable__content pre {margin: 0.2em;color: black;border-radius: 0.25em;background-color: #f0f8ff;}#sk-container-id-6 input.sk-toggleable__control:checked~div.sk-toggleable__content {max-height: 200px;max-width: 100%;overflow: auto;}#sk-container-id-6 input.sk-toggleable__control:checked~label.sk-toggleable__label-arrow:before {content: \"▾\";}#sk-container-id-6 div.sk-estimator input.sk-toggleable__control:checked~label.sk-toggleable__label {background-color: #d4ebff;}#sk-container-id-6 div.sk-label input.sk-toggleable__control:checked~label.sk-toggleable__label {background-color: #d4ebff;}#sk-container-id-6 input.sk-hidden--visually {border: 0;clip: rect(1px 1px 1px 1px);clip: rect(1px, 1px, 1px, 1px);height: 1px;margin: -1px;overflow: hidden;padding: 0;position: absolute;width: 1px;}#sk-container-id-6 div.sk-estimator {font-family: monospace;background-color: #f0f8ff;border: 1px dotted black;border-radius: 0.25em;box-sizing: border-box;margin-bottom: 0.5em;}#sk-container-id-6 div.sk-estimator:hover {background-color: #d4ebff;}#sk-container-id-6 div.sk-parallel-item::after {content: \"\";width: 100%;border-bottom: 1px solid gray;flex-grow: 1;}#sk-container-id-6 div.sk-label:hover label.sk-toggleable__label {background-color: #d4ebff;}#sk-container-id-6 div.sk-serial::before {content: \"\";position: absolute;border-left: 1px solid gray;box-sizing: border-box;top: 0;bottom: 0;left: 50%;z-index: 0;}#sk-container-id-6 div.sk-serial {display: flex;flex-direction: column;align-items: center;background-color: white;padding-right: 0.2em;padding-left: 0.2em;position: relative;}#sk-container-id-6 div.sk-item {position: relative;z-index: 1;}#sk-container-id-6 div.sk-parallel {display: flex;align-items: stretch;justify-content: center;background-color: white;position: relative;}#sk-container-id-6 div.sk-item::before, #sk-container-id-6 div.sk-parallel-item::before {content: \"\";position: absolute;border-left: 1px solid gray;box-sizing: border-box;top: 0;bottom: 0;left: 50%;z-index: -1;}#sk-container-id-6 div.sk-parallel-item {display: flex;flex-direction: column;z-index: 1;position: relative;background-color: white;}#sk-container-id-6 div.sk-parallel-item:first-child::after {align-self: flex-end;width: 50%;}#sk-container-id-6 div.sk-parallel-item:last-child::after {align-self: flex-start;width: 50%;}#sk-container-id-6 div.sk-parallel-item:only-child::after {width: 0;}#sk-container-id-6 div.sk-dashed-wrapped {border: 1px dashed gray;margin: 0 0.4em 0.5em 0.4em;box-sizing: border-box;padding-bottom: 0.4em;background-color: white;}#sk-container-id-6 div.sk-label label {font-family: monospace;font-weight: bold;display: inline-block;line-height: 1.2em;}#sk-container-id-6 div.sk-label-container {text-align: center;}#sk-container-id-6 div.sk-container {/* jupyter's `normalize.less` sets `[hidden] { display: none; }` but bootstrap.min.css set `[hidden] { display: none !important; }` so we also need the `!important` here to be able to override the default hidden behavior on the sphinx rendered scikit-learn.org. See: https://github.com/scikit-learn/scikit-learn/issues/21755 */display: inline-block !important;position: relative;}#sk-container-id-6 div.sk-text-repr-fallback {display: none;}</style><div id=\"sk-container-id-6\" class=\"sk-top-container\"><div class=\"sk-text-repr-fallback\"><pre>GridSearchCV(estimator=RandomForestClassifier(),\n",
       "             param_grid={&#x27;criterion&#x27;: [&#x27;gini&#x27;, &#x27;entropy&#x27;],\n",
       "                         &#x27;max_depth&#x27;: [5, 10, 30, 50],\n",
       "                         &#x27;n_estimators&#x27;: [100, 150, 200]},\n",
       "             verbose=1)</pre><b>In a Jupyter environment, please rerun this cell to show the HTML representation or trust the notebook. <br />On GitHub, the HTML representation is unable to render, please try loading this page with nbviewer.org.</b></div><div class=\"sk-container\" hidden><div class=\"sk-item sk-dashed-wrapped\"><div class=\"sk-label-container\"><div class=\"sk-label sk-toggleable\"><input class=\"sk-toggleable__control sk-hidden--visually\" id=\"sk-estimator-id-6\" type=\"checkbox\" ><label for=\"sk-estimator-id-6\" class=\"sk-toggleable__label sk-toggleable__label-arrow\">GridSearchCV</label><div class=\"sk-toggleable__content\"><pre>GridSearchCV(estimator=RandomForestClassifier(),\n",
       "             param_grid={&#x27;criterion&#x27;: [&#x27;gini&#x27;, &#x27;entropy&#x27;],\n",
       "                         &#x27;max_depth&#x27;: [5, 10, 30, 50],\n",
       "                         &#x27;n_estimators&#x27;: [100, 150, 200]},\n",
       "             verbose=1)</pre></div></div></div><div class=\"sk-parallel\"><div class=\"sk-parallel-item\"><div class=\"sk-item\"><div class=\"sk-label-container\"><div class=\"sk-label sk-toggleable\"><input class=\"sk-toggleable__control sk-hidden--visually\" id=\"sk-estimator-id-7\" type=\"checkbox\" ><label for=\"sk-estimator-id-7\" class=\"sk-toggleable__label sk-toggleable__label-arrow\">estimator: RandomForestClassifier</label><div class=\"sk-toggleable__content\"><pre>RandomForestClassifier()</pre></div></div></div><div class=\"sk-serial\"><div class=\"sk-item\"><div class=\"sk-estimator sk-toggleable\"><input class=\"sk-toggleable__control sk-hidden--visually\" id=\"sk-estimator-id-8\" type=\"checkbox\" ><label for=\"sk-estimator-id-8\" class=\"sk-toggleable__label sk-toggleable__label-arrow\">RandomForestClassifier</label><div class=\"sk-toggleable__content\"><pre>RandomForestClassifier()</pre></div></div></div></div></div></div></div></div></div></div>"
      ],
      "text/plain": [
       "GridSearchCV(estimator=RandomForestClassifier(),\n",
       "             param_grid={'criterion': ['gini', 'entropy'],\n",
       "                         'max_depth': [5, 10, 30, 50],\n",
       "                         'n_estimators': [100, 150, 200]},\n",
       "             verbose=1)"
      ]
     },
     "execution_count": 98,
     "metadata": {},
     "output_type": "execute_result"
    }
   ],
   "source": [
    "rfc_grid.fit(x_train,y_train)"
   ]
  },
  {
   "cell_type": "code",
   "execution_count": 99,
   "id": "6284363b",
   "metadata": {
    "colab": {
     "background_save": true
    },
    "id": "6284363b"
   },
   "outputs": [],
   "source": [
    "train_preds=rfc_grid.predict(x_train)\n",
    "test_preds=rfc_grid.predict(x_test)"
   ]
  },
  {
   "cell_type": "code",
   "execution_count": 100,
   "id": "2ff6da30",
   "metadata": {
    "colab": {
     "background_save": true
    },
    "id": "2ff6da30",
    "outputId": "4d3e0d64-a1fc-47e5-d77e-1a3f126bb561"
   },
   "outputs": [
    {
     "name": "stdout",
     "output_type": "stream",
     "text": [
      "--------train data---------\n",
      "              precision    recall  f1-score   support\n",
      "\n",
      "           0       0.59      0.24      0.34      7276\n",
      "           1       0.55      0.94      0.69     14267\n",
      "           2       0.77      0.01      0.01      5745\n",
      "\n",
      "    accuracy                           0.56     27288\n",
      "   macro avg       0.64      0.39      0.35     27288\n",
      "weighted avg       0.61      0.56      0.46     27288\n",
      "\n",
      "--------train data---------\n",
      "              precision    recall  f1-score   support\n",
      "\n",
      "           0       0.56      0.22      0.32      1776\n",
      "           1       0.55      0.93      0.69      3581\n",
      "           2       0.36      0.00      0.01      1465\n",
      "\n",
      "    accuracy                           0.55      6822\n",
      "   macro avg       0.49      0.38      0.34      6822\n",
      "weighted avg       0.51      0.55      0.44      6822\n",
      "\n"
     ]
    }
   ],
   "source": [
    "from sklearn.metrics import classification_report as cr\n",
    "print(\"--------train data---------\")\n",
    "print(cr(y_train,train_preds))\n",
    "print(\"--------validation data---------\")\n",
    "print(cr(y_test,test_preds))"
   ]
  },
  {
   "cell_type": "code",
   "execution_count": 286,
   "id": "bade849e",
   "metadata": {
    "colab": {
     "background_save": true
    },
    "id": "bade849e"
   },
   "outputs": [],
   "source": [
    "final_preds=rfc_grid.predict(test_data)"
   ]
  },
  {
   "cell_type": "code",
   "execution_count": 289,
   "id": "bad6f6cd",
   "metadata": {
    "colab": {
     "background_save": true
    },
    "id": "bad6f6cd"
   },
   "outputs": [],
   "source": [
    "col=['Disposition']\n",
    "final_preds=pd.DataFrame(final_preds,columns=col)"
   ]
  },
  {
   "cell_type": "code",
   "execution_count": 290,
   "id": "e97cf525",
   "metadata": {
    "colab": {
     "background_save": true
    },
    "id": "e97cf525"
   },
   "outputs": [],
   "source": [
    "final_preds['Disposition']=le. inverse_transform(final_preds['Disposition'])"
   ]
  },
  {
   "cell_type": "code",
   "execution_count": 291,
   "id": "e3b3defd",
   "metadata": {
    "id": "e3b3defd"
   },
   "outputs": [
    {
     "data": {
      "text/html": [
       "<div>\n",
       "<style scoped>\n",
       "    .dataframe tbody tr th:only-of-type {\n",
       "        vertical-align: middle;\n",
       "    }\n",
       "\n",
       "    .dataframe tbody tr th {\n",
       "        vertical-align: top;\n",
       "    }\n",
       "\n",
       "    .dataframe thead th {\n",
       "        text-align: right;\n",
       "    }\n",
       "</style>\n",
       "<table border=\"1\" class=\"dataframe\">\n",
       "  <thead>\n",
       "    <tr style=\"text-align: right;\">\n",
       "      <th></th>\n",
       "      <th>Disposition</th>\n",
       "    </tr>\n",
       "  </thead>\n",
       "  <tbody>\n",
       "    <tr>\n",
       "      <th>0</th>\n",
       "      <td>Approve in Full</td>\n",
       "    </tr>\n",
       "    <tr>\n",
       "      <th>1</th>\n",
       "      <td>Deny</td>\n",
       "    </tr>\n",
       "    <tr>\n",
       "      <th>2</th>\n",
       "      <td>Deny</td>\n",
       "    </tr>\n",
       "    <tr>\n",
       "      <th>3</th>\n",
       "      <td>Deny</td>\n",
       "    </tr>\n",
       "    <tr>\n",
       "      <th>4</th>\n",
       "      <td>Deny</td>\n",
       "    </tr>\n",
       "    <tr>\n",
       "      <th>...</th>\n",
       "      <td>...</td>\n",
       "    </tr>\n",
       "    <tr>\n",
       "      <th>3786</th>\n",
       "      <td>Deny</td>\n",
       "    </tr>\n",
       "    <tr>\n",
       "      <th>3787</th>\n",
       "      <td>Deny</td>\n",
       "    </tr>\n",
       "    <tr>\n",
       "      <th>3788</th>\n",
       "      <td>Deny</td>\n",
       "    </tr>\n",
       "    <tr>\n",
       "      <th>3789</th>\n",
       "      <td>Deny</td>\n",
       "    </tr>\n",
       "    <tr>\n",
       "      <th>3790</th>\n",
       "      <td>Deny</td>\n",
       "    </tr>\n",
       "  </tbody>\n",
       "</table>\n",
       "<p>3791 rows × 1 columns</p>\n",
       "</div>"
      ],
      "text/plain": [
       "          Disposition\n",
       "0     Approve in Full\n",
       "1                Deny\n",
       "2                Deny\n",
       "3                Deny\n",
       "4                Deny\n",
       "...               ...\n",
       "3786             Deny\n",
       "3787             Deny\n",
       "3788             Deny\n",
       "3789             Deny\n",
       "3790             Deny\n",
       "\n",
       "[3791 rows x 1 columns]"
      ]
     },
     "execution_count": 291,
     "metadata": {},
     "output_type": "execute_result"
    }
   ],
   "source": [
    "final_preds"
   ]
  },
  {
   "cell_type": "code",
   "execution_count": 292,
   "id": "66de5f61",
   "metadata": {
    "id": "66de5f61"
   },
   "outputs": [
    {
     "data": {
      "text/html": [
       "<div>\n",
       "<style scoped>\n",
       "    .dataframe tbody tr th:only-of-type {\n",
       "        vertical-align: middle;\n",
       "    }\n",
       "\n",
       "    .dataframe tbody tr th {\n",
       "        vertical-align: top;\n",
       "    }\n",
       "\n",
       "    .dataframe thead th {\n",
       "        text-align: right;\n",
       "    }\n",
       "</style>\n",
       "<table border=\"1\" class=\"dataframe\">\n",
       "  <thead>\n",
       "    <tr style=\"text-align: right;\">\n",
       "      <th></th>\n",
       "      <th>Claim Number</th>\n",
       "      <th>Disposition</th>\n",
       "    </tr>\n",
       "  </thead>\n",
       "  <tbody>\n",
       "    <tr>\n",
       "      <th>0</th>\n",
       "      <td>6EYB31JGFR</td>\n",
       "      <td>Approve in Full</td>\n",
       "    </tr>\n",
       "    <tr>\n",
       "      <th>1</th>\n",
       "      <td>HJLRXONE3R</td>\n",
       "      <td>Deny</td>\n",
       "    </tr>\n",
       "    <tr>\n",
       "      <th>2</th>\n",
       "      <td>IUOV99JA22</td>\n",
       "      <td>Deny</td>\n",
       "    </tr>\n",
       "    <tr>\n",
       "      <th>3</th>\n",
       "      <td>BGOUHQ2LKK</td>\n",
       "      <td>Deny</td>\n",
       "    </tr>\n",
       "    <tr>\n",
       "      <th>4</th>\n",
       "      <td>HDCG60QET1</td>\n",
       "      <td>Deny</td>\n",
       "    </tr>\n",
       "    <tr>\n",
       "      <th>...</th>\n",
       "      <td>...</td>\n",
       "      <td>...</td>\n",
       "    </tr>\n",
       "    <tr>\n",
       "      <th>3786</th>\n",
       "      <td>IMQYY73AOP</td>\n",
       "      <td>Deny</td>\n",
       "    </tr>\n",
       "    <tr>\n",
       "      <th>3787</th>\n",
       "      <td>2AR1OGIMH4</td>\n",
       "      <td>Deny</td>\n",
       "    </tr>\n",
       "    <tr>\n",
       "      <th>3788</th>\n",
       "      <td>SB4IET2MO5</td>\n",
       "      <td>Deny</td>\n",
       "    </tr>\n",
       "    <tr>\n",
       "      <th>3789</th>\n",
       "      <td>3IBWXQK04L</td>\n",
       "      <td>Deny</td>\n",
       "    </tr>\n",
       "    <tr>\n",
       "      <th>3790</th>\n",
       "      <td>FK8SJ5GWYJ</td>\n",
       "      <td>Deny</td>\n",
       "    </tr>\n",
       "  </tbody>\n",
       "</table>\n",
       "<p>3791 rows × 2 columns</p>\n",
       "</div>"
      ],
      "text/plain": [
       "     Claim Number      Disposition\n",
       "0      6EYB31JGFR  Approve in Full\n",
       "1      HJLRXONE3R             Deny\n",
       "2      IUOV99JA22             Deny\n",
       "3      BGOUHQ2LKK             Deny\n",
       "4      HDCG60QET1             Deny\n",
       "...           ...              ...\n",
       "3786   IMQYY73AOP             Deny\n",
       "3787   2AR1OGIMH4             Deny\n",
       "3788   SB4IET2MO5             Deny\n",
       "3789   3IBWXQK04L             Deny\n",
       "3790   FK8SJ5GWYJ             Deny\n",
       "\n",
       "[3791 rows x 2 columns]"
      ]
     },
     "execution_count": 292,
     "metadata": {},
     "output_type": "execute_result"
    }
   ],
   "source": [
    "sub=pd.concat([test_id['Claim Number'],final_preds],axis=1)\n",
    "sub"
   ]
  },
  {
   "cell_type": "code",
   "execution_count": 297,
   "id": "70175571",
   "metadata": {
    "id": "70175571"
   },
   "outputs": [],
   "source": [
    "sub.to_csv(\"first_submission1.csv\",index=False)"
   ]
  },
  {
   "cell_type": "code",
   "execution_count": null,
   "id": "d0d81451",
   "metadata": {
    "id": "d0d81451"
   },
   "outputs": [],
   "source": []
  }
 ],
 "metadata": {
  "colab": {
   "collapsed_sections": [
    "e6fcd317",
    "1272a0be"
   ],
   "provenance": []
  },
  "kernelspec": {
   "display_name": "Python 3 (ipykernel)",
   "language": "python",
   "name": "python3"
  },
  "language_info": {
   "codemirror_mode": {
    "name": "ipython",
    "version": 3
   },
   "file_extension": ".py",
   "mimetype": "text/x-python",
   "name": "python",
   "nbconvert_exporter": "python",
   "pygments_lexer": "ipython3",
   "version": "3.9.12"
  }
 },
 "nbformat": 4,
 "nbformat_minor": 5
}
